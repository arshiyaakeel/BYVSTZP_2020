{
 "cells": [
  {
   "cell_type": "code",
   "execution_count": 1,
   "metadata": {},
   "outputs": [
    {
     "name": "stdout",
     "output_type": "stream",
     "text": [
      "Thu Feb 27 16:19:17 PST 2020\n"
     ]
    }
   ],
   "source": [
    "!date"
   ]
  },
  {
   "cell_type": "markdown",
   "metadata": {},
   "source": [
    "# Redoing analysis of tSS"
   ]
  },
  {
   "cell_type": "code",
   "execution_count": 2,
   "metadata": {},
   "outputs": [],
   "source": [
    "import anndata\n",
    "import pandas as pd\n",
    "import numpy as np\n",
    "import matplotlib.pyplot as plt\n",
    "from matplotlib import cm\n",
    "import matplotlib as mpl\n",
    "import matplotlib.patches as mpatches\n",
    "import scanpy as scanp\n",
    "from scipy.stats import ks_2samp, ttest_ind\n",
    "from scipy.sparse import csr_matrix\n",
    "from sklearn.decomposition import TruncatedSVD\n",
    "from sklearn.manifold import TSNE\n",
    "from umap import UMAP\n",
    "from sklearn.cluster import KMeans\n",
    "from scipy import stats\n",
    "from scipy.optimize import curve_fit\n",
    "import ast\n",
    "from scipy.stats import sem\n",
    "from sklearn.metrics import adjusted_rand_score\n",
    "from scipy.stats import ks_2samp, ttest_ind\n",
    "import warnings\n",
    "warnings.filterwarnings('ignore')\n",
    "\n",
    "fsize=20\n",
    "\n",
    "plt.rcParams.update({'font.size': fsize})\n",
    "%config InlineBackend.figure_format = 'retina'"
   ]
  },
  {
   "cell_type": "code",
   "execution_count": 3,
   "metadata": {},
   "outputs": [
    {
     "name": "stderr",
     "output_type": "stream",
     "text": [
      "Variable names are not unique. To make them unique, call `.var_names_make_unique`.\n"
     ]
    }
   ],
   "source": [
    "gene = anndata.read_h5ad(\"cell_ranger_annotation/gene.h5ad\")\n",
    "isoform = anndata.read_h5ad(\"cell_ranger_annotation/isoform.h5ad\")"
   ]
  },
  {
   "cell_type": "code",
   "execution_count": 4,
   "metadata": {},
   "outputs": [],
   "source": [
    "isoform.var[\"idx\"] = np.arange(isoform.var.shape[0])"
   ]
  },
  {
   "cell_type": "markdown",
   "metadata": {},
   "source": [
    "# New t2g"
   ]
  },
  {
   "cell_type": "code",
   "execution_count": 5,
   "metadata": {},
   "outputs": [],
   "source": [
    "cols = [\"transcript_id\", \"gene_id\", \"gene_name\", \"transcript_name\", \"chromosome\", \"start\", \"stop\", \"strand\"]\n",
    "t2g = pd.read_csv(\"/home/sina/projects/mop/reference/cellranger_index/refdata-cellranger-mm10-3.0.0/kb_out/t2g.txt\", sep=\"\\t\", header=None, names=cols)"
   ]
  },
  {
   "cell_type": "code",
   "execution_count": 6,
   "metadata": {},
   "outputs": [],
   "source": [
    "def swap_start(start, stop, strand):\n",
    "    new_start = start\n",
    "    new_stop = stop\n",
    "    if strand==\"-\":\n",
    "        new_start = stop\n",
    "        new_stop = start\n",
    "    return new_start, new_stop"
   ]
  },
  {
   "cell_type": "code",
   "execution_count": 7,
   "metadata": {},
   "outputs": [],
   "source": [
    "tmp = t2g.apply(lambda x: swap_start(x[\"start\"], x[\"stop\"], x[\"strand\"]), axis=1).tolist()\n",
    "t2g[[\"new_start\", \"new_stop\"]] = pd.DataFrame(tmp, columns=[\"new_start\", \"new_stop\"])"
   ]
  },
  {
   "cell_type": "markdown",
   "metadata": {},
   "source": [
    "# Group isoforms by (1) Gene and then (2) Transcripton start sites"
   ]
  },
  {
   "cell_type": "code",
   "execution_count": 8,
   "metadata": {},
   "outputs": [],
   "source": [
    "gb = t2g.groupby([\"chromosome\", \"gene_name\", \"new_start\"])[\"transcript_name\"].apply(list)\n",
    "gb = gb.reset_index()\n",
    "gb = gb.rename(columns={\"transcript_name\":\"tss_same\"})\n",
    "gb[\"tss_len\"] = gb[\"tss_same\"].apply(lambda x: len(x))"
   ]
  },
  {
   "cell_type": "code",
   "execution_count": 9,
   "metadata": {},
   "outputs": [],
   "source": [
    "gb[\"n_tss_same\"] = gb[\"tss_same\"].apply(lambda x: len(x))\n",
    "\n",
    "num_iso_per_gene = t2g.groupby(\"gene_name\")[\"transcript_name\"].count()\n",
    "max_tss_set_size = gb.groupby(\"gene_name\")[\"tss_len\"].apply(max)\n",
    "num_tss_with_1_iso = gb.groupby(\"gene_name\")[\"tss_len\"].apply(lambda x: (np.array(x)==1).sum())\n",
    "\n",
    "gb[\"n_iso\"] = gb[\"gene_name\"].map(num_iso_per_gene)\n",
    "gb[\"max_tss_size\"] = gb[\"gene_name\"].map(max_tss_set_size)\n",
    "gb[\"num_tss_1_iso\"] = gb[\"gene_name\"].map(num_tss_with_1_iso)\n",
    "\n",
    "txn_list = gb[\"tss_same\"].explode().values\n",
    "\n",
    "#gb[\"tss_same\"] = gb.tss_same.astype(str)\n",
    "gb[\"tss_class\"] = np.arange(gb.shape[0])"
   ]
  },
  {
   "cell_type": "code",
   "execution_count": 10,
   "metadata": {},
   "outputs": [],
   "source": [
    "## Conditions\n",
    "# 1. n_iso per gene > 2\n",
    "# 2. 2< n_TSS_same < n_iso\n",
    "mask = np.logical_and(gb[\"max_tss_size\"]>1, np.logical_and(gb[\"n_iso\"] > 2, gb[\"n_tss_same\"] < gb[\"n_iso\"]))\n",
    "\n",
    "ft2g = gb[mask]"
   ]
  },
  {
   "cell_type": "code",
   "execution_count": 11,
   "metadata": {},
   "outputs": [],
   "source": [
    "# remove the tss classes where a single isoform has been discarded\n",
    "ft2g[\"filter\"] = ft2g.tss_same.apply(lambda x: np.array([i not in isoform.var.index.values for i in x]).sum())\n",
    "ft2g = ft2g[ft2g[\"filter\"]==0]"
   ]
  },
  {
   "cell_type": "code",
   "execution_count": 97,
   "metadata": {},
   "outputs": [],
   "source": [
    "et2g = ft2g.explode(\"tss_same\")"
   ]
  },
  {
   "cell_type": "code",
   "execution_count": 12,
   "metadata": {},
   "outputs": [],
   "source": [
    "dtss_tname = ft2g[\"tss_same\"].to_dict()\n",
    "l = list(dtss_tname.values())\n",
    "flatten = lambda l: [item for sublist in l for item in sublist]\n",
    "lf = flatten(l)"
   ]
  },
  {
   "cell_type": "code",
   "execution_count": 13,
   "metadata": {},
   "outputs": [
    {
     "data": {
      "text/plain": [
       "View of AnnData object with n_obs × n_vars = 6043 × 29963 \n",
       "    obs: 'cluster_id', 'cluster_label', 'subclass_label', 'class_label', 'cluster_color', 'size', 'cell_id', 'subclass_id', 'class_id', 'cell_TPM', 'leiden', 'louvain'\n",
       "    var: 'transcript_id', 'gene_id', 'gene_name', 'transcript_name', 'gene_TPM', 'highly_variable', 'means', 'dispersions', 'dispersions_norm', 'idx'\n",
       "    uns: 'leiden', 'louvain', 'neighbors'\n",
       "    obsm: 'X_nca', 'X_nca_tsne', 'X_pca', 'X_pca_tsne'\n",
       "    layers: 'X', 'log1p'"
      ]
     },
     "execution_count": 13,
     "metadata": {},
     "output_type": "execute_result"
    }
   ],
   "source": [
    "tmp_iso = isoform[:, isoform.var.transcript_name.isin(lf)]\n",
    "tmp_iso"
   ]
  },
  {
   "cell_type": "code",
   "execution_count": 15,
   "metadata": {},
   "outputs": [],
   "source": [
    "def invert_dict(d): \n",
    "    inverse = dict() \n",
    "    for key in d: \n",
    "        # Go through the list that is saved in the dict:\n",
    "        for item in d[key]:\n",
    "            # Check if in the inverted dict the key exists\n",
    "            if item not in inverse: \n",
    "                # If not create a new entry\n",
    "                inverse[item] = key\n",
    "    return inverse"
   ]
  },
  {
   "cell_type": "code",
   "execution_count": 16,
   "metadata": {},
   "outputs": [
    {
     "name": "stderr",
     "output_type": "stream",
     "text": [
      "Trying to set attribute `.var` of view, copying.\n"
     ]
    }
   ],
   "source": [
    "dtname_tss = invert_dict(dtss_tname)\n",
    "tmp_iso.var[\"tss_class\"] = tmp_iso.var.index.map(dtname_tss)"
   ]
  },
  {
   "cell_type": "code",
   "execution_count": 17,
   "metadata": {},
   "outputs": [
    {
     "data": {
      "text/plain": [
       "0"
      ]
     },
     "execution_count": 17,
     "metadata": {},
     "output_type": "execute_result"
    }
   ],
   "source": [
    "(~ft2g[ft2g[\"tss_class\"].isin(tmp_iso.var[\"tss_class\"])][\"tss_same\"].explode().isin(isoform.var.index)).sum()"
   ]
  },
  {
   "cell_type": "code",
   "execution_count": 18,
   "metadata": {},
   "outputs": [],
   "source": [
    "def sum_tss_same(mtx, components, features):\n",
    "    \n",
    "    unique = np.unique(features)\n",
    "    nuniq = unique.shape[0]\n",
    "    ncomp = components.shape[0]\n",
    "    \n",
    "    s_mtx = np.zeros((ncomp, nuniq))\n",
    "    \n",
    "    for uidx, u in enumerate(unique):\n",
    "        mask = features == u\n",
    "        s_mtx[:,uidx] = np.asarray(mtx[:,mask].sum(axis=1)).reshape(-1)\n",
    "    \n",
    "    return s_mtx, unique"
   ]
  },
  {
   "cell_type": "code",
   "execution_count": 19,
   "metadata": {},
   "outputs": [],
   "source": [
    "# sum the isoforms with the same start site\n",
    "features = tmp_iso.var.tss_class.values\n",
    "components = tmp_iso.obs.cell_id.values\n",
    "mtx = tmp_iso.layers[\"X\"].todense()\n",
    "# sum the raw counts then normalize and log?\n",
    "\n",
    "mtx, unique = sum_tss_same(mtx, components, features)"
   ]
  },
  {
   "cell_type": "code",
   "execution_count": 22,
   "metadata": {},
   "outputs": [
    {
     "name": "stderr",
     "output_type": "stream",
     "text": [
      "Transforming to str index.\n"
     ]
    }
   ],
   "source": [
    "X = mtx\n",
    "obs = isoform.obs\n",
    "var = ft2g.loc[unique]\n",
    "var[\"idx\"] = np.arange(var.shape[0])\n",
    "\n",
    "stss = anndata.AnnData(X=X, obs=obs, var=var)\n",
    "stss.var.index = stss.var.index.astype(int)"
   ]
  },
  {
   "cell_type": "code",
   "execution_count": 23,
   "metadata": {},
   "outputs": [],
   "source": [
    "# tss = stss.var.index.values\n",
    "# txn = tmp_iso.var.index.values\n",
    "# \n",
    "# tss_idx = np.arange(len(tss))\n",
    "# txn_idx = np.arange(len(txn))\n",
    "# tss_n_same = stss.var.n_tss_same\n",
    "# \n",
    "# dtss_idx = dict(zip(tss, tss_idx))\n",
    "# dtss_n_same = dict(zip(tss, tss_n_same))"
   ]
  },
  {
   "cell_type": "markdown",
   "metadata": {},
   "source": [
    "# Now log1p them and then perform the ops on that"
   ]
  },
  {
   "cell_type": "code",
   "execution_count": 24,
   "metadata": {},
   "outputs": [],
   "source": [
    "stss.layers[\"X\"] = X\n",
    "scanp.pp.log1p(stss)"
   ]
  },
  {
   "cell_type": "code",
   "execution_count": 25,
   "metadata": {},
   "outputs": [],
   "source": [
    "stss.layers[\"log1p\"] = stss.X.copy()"
   ]
  },
  {
   "cell_type": "code",
   "execution_count": 26,
   "metadata": {},
   "outputs": [],
   "source": [
    "scanp.pp.scale(stss, max_value=10)"
   ]
  },
  {
   "cell_type": "code",
   "execution_count": 27,
   "metadata": {},
   "outputs": [],
   "source": [
    "# i2tss[\"tss_class_idx\"] = i2tss[\"tss_class\"].map(dtss_idx)\n",
    "# i2tss[\"tss_n_same\"] = i2tss[\"tss_class\"].map(dtss_n_same)"
   ]
  },
  {
   "cell_type": "code",
   "execution_count": 28,
   "metadata": {},
   "outputs": [
    {
     "data": {
      "text/plain": [
       "AnnData object with n_obs × n_vars = 6043 × 24916 \n",
       "    obs: 'cluster_id', 'cluster_label', 'subclass_label', 'class_label', 'cluster_color', 'size', 'cell_id', 'subclass_id', 'class_id', 'cell_TPM', 'leiden', 'louvain'\n",
       "    var: 'chromosome', 'gene_name', 'new_start', 'tss_same', 'tss_len', 'n_tss_same', 'n_iso', 'max_tss_size', 'num_tss_1_iso', 'tss_class', 'filter', 'idx'\n",
       "    uns: 'log1p'\n",
       "    layers: 'X', 'log1p'"
      ]
     },
     "execution_count": 28,
     "metadata": {},
     "output_type": "execute_result"
    }
   ],
   "source": [
    "stss"
   ]
  },
  {
   "cell_type": "code",
   "execution_count": 29,
   "metadata": {},
   "outputs": [
    {
     "data": {
      "text/plain": [
       "AnnData object with n_obs × n_vars = 6043 × 29963 \n",
       "    obs: 'cluster_id', 'cluster_label', 'subclass_label', 'class_label', 'cluster_color', 'size', 'cell_id', 'subclass_id', 'class_id', 'cell_TPM', 'leiden', 'louvain'\n",
       "    var: 'transcript_id', 'gene_id', 'gene_name', 'transcript_name', 'gene_TPM', 'highly_variable', 'means', 'dispersions', 'dispersions_norm', 'idx', 'tss_class'\n",
       "    uns: 'leiden', 'louvain', 'neighbors'\n",
       "    obsm: 'X_nca', 'X_nca_tsne', 'X_pca', 'X_pca_tsne'\n",
       "    layers: 'X', 'log1p'"
      ]
     },
     "execution_count": 29,
     "metadata": {},
     "output_type": "execute_result"
    }
   ],
   "source": [
    "tmp_iso"
   ]
  },
  {
   "cell_type": "code",
   "execution_count": 371,
   "metadata": {},
   "outputs": [],
   "source": [
    "from statsmodels.stats.multitest import multipletests\n",
    "from sklearn.preprocessing import LabelEncoder\n",
    "from scipy.stats import ks_2samp, ttest_ind\n",
    "import numpy as np\n",
    "import logging\n",
    "\n",
    "logger = logging.getLogger()\n",
    "logger.setLevel(logging.DEBUG)\n",
    "logging.basicConfig(format='%(asctime)s - %(message)s', datefmt='%d-%b-%y %H:%M:%S')\n",
    "\n",
    "\n",
    "\n",
    "def split_by_target(mat, targets, target, axis=0):\n",
    "    \"\"\"\n",
    "    Split the rows of mat by the proper assignment\n",
    "    \n",
    "    mat = ndarray\n",
    "    targets, length is equal to number of components (axis=0) or features (axis=1)\n",
    "    target is a singular element from unique(assignments/features) \n",
    "    \"\"\"\n",
    "    if axis==0 and len(targets) != mat.shape[axis]: return -1\n",
    "    if axis==1 and len(targets) != mat.shape[axis]: return -1\n",
    "        \n",
    "    mask = targets == target\n",
    "    \n",
    "    if axis==0:\n",
    "        t_mat = mat[mask]  # target matrix\n",
    "        c_mat = mat[~mask] # complement matrix\n",
    "    elif axis==1:\n",
    "        t_mat = mat[:, mask]  # target matrix\n",
    "        c_mat = mat[:, ~mask] # complement matrix\n",
    "    \n",
    "    return (t_mat, c_mat)\n",
    "\n",
    "def correct_pval(pval, method):\n",
    "    nfeat = pval.shape[1]\n",
    "    \n",
    "    if method == 'benjamini-hochberg':\n",
    "        _, pval_corr, _, _ = multipletests(pval, alpha=0.05, method='fdr_bh')\n",
    "    elif method == 'bonferroni':\n",
    "        pval_corr = np.minimum(pval * nfeat, 1.0)\n",
    "        \n",
    "    return pval_corr\n",
    "\n",
    "def dexpress(mat, components, features, assignments, **kwargs):\n",
    "    \"\"\"\n",
    "    mat: ndarray\n",
    "    components: nparray\n",
    "    features: nparray\n",
    "    assignments: nparray, length is equal to length of components\n",
    "    \"\"\"\n",
    "    nan_cutoff = kwargs.get(\"nan_cutoff\", 0)\n",
    "    corr_method = kwargs.get(\"corr_method\", \"bonferroni\")\n",
    "    \n",
    "    unique = np.unique(assignments)\n",
    "        \n",
    "    ncomp = components.shape[0]\n",
    "    nfeat = features.shape[0]\n",
    "    nuniq = unique.shape[0]\n",
    "    \n",
    "    pval = np.empty((nuniq, nfeat)) # unique assignments by features \n",
    "    pval_corr = np.empty((nuniq, nfeat)) # unique assignments by features \n",
    "    stat = np.empty((nuniq, nfeat)) # unique assignments by features \n",
    "    \n",
    "    pval.fill(np.nan)\n",
    "    pval_corr.fill(np.nan)\n",
    "    stat.fill(np.nan)\n",
    "\n",
    "    for tidx, t in enumerate(unique):\n",
    "        logging.debug(\"{} of {} assignments: {}\".format(tidx+1, nuniq, t))\n",
    "        t_mat, c_mat = split_by_target(mat, assignments, t, axis=0)\n",
    "        \n",
    "        pvalue = np.nan\n",
    "        statistic = np.nan\n",
    "\n",
    "        # Keep only the genes for which it is in at least nan_cutoff*ncellsinclusters\n",
    "        mask = np.asarray((t_mat>0).sum(axis=0) > nan_cutoff*t_mat.shape[0]).reshape(-1)\n",
    "\n",
    "        t_mat = t_mat[:, mask]\n",
    "        c_mat = c_mat[:, mask]\n",
    "        # added\n",
    "\n",
    "        # added\n",
    "        if mask.sum()>0:\n",
    "            test = ttest_ind(t_mat, c_mat, nan_policy=\"propagate\")\n",
    "            pvalue = test.pvalue\n",
    "            statistic = test.statistic\n",
    "                \n",
    "        pval[tidx,:][mask] = pvalue\n",
    "        stat[tidx,:][mask] = statistic\n",
    "    \n",
    "    return (pval, stat)"
   ]
  },
  {
   "cell_type": "code",
   "execution_count": 457,
   "metadata": {},
   "outputs": [],
   "source": [
    "################################################################\n",
    "################################################################\n",
    "################################################################\n",
    "################################################################\n",
    "def dexpress(mat, components, features, assignments, **kwargs):\n",
    "    \"\"\"\n",
    "    mat: ndarray\n",
    "    components: nparray\n",
    "    features: nparray\n",
    "    assignments: nparray, length is equal to length of components\n",
    "    \"\"\"\n",
    "    nan_cutoff = kwargs.get(\"nan_cutoff\", 0)\n",
    "    corr_method = kwargs.get(\"corr_method\", \"bonferroni\")\n",
    "    grouping = kwargs.get(\"grouping\", 0)\n",
    "    \n",
    "    unique = np.unique(assignments)\n",
    "        \n",
    "    ncomp = components.shape[0]\n",
    "    nfeat = features.shape[0]\n",
    "    nuniq = unique.shape[0]\n",
    "    \n",
    "    pval = np.empty((nuniq, nfeat)) # unique assignments by features \n",
    "    pval_corr = np.empty((nuniq, nfeat)) # unique assignments by features \n",
    "    stat = np.empty((nuniq, nfeat)) # unique assignments by features \n",
    "    \n",
    "    pval.fill(np.nan)\n",
    "    pval_corr.fill(np.nan)\n",
    "    stat.fill(np.nan)\n",
    "    \n",
    "    \n",
    "\n",
    "    for tidx, t in enumerate(unique):\n",
    "        logging.debug(\"{} of {} assignments: {}\".format(tidx+1, nuniq, t))\n",
    "        t_mat, _ = split_by_target(mat, assignments, t, axis=0)\n",
    "        \n",
    "         # Keep only the genes for which it is in at least nan_cutoff*ncellsinclusters\n",
    "        nan_mask = np.asarray((t_mat>0).sum(axis=0) > nan_cutoff*t_mat.shape[0]).reshape(-1)\n",
    "        \n",
    "        t_mat = t_mat[:, nan_mask]\n",
    "        \n",
    "        \n",
    "        nan_grouping = grouping[nan_mask]\n",
    "        unique_group = np.unique(nan_grouping)\n",
    "        \n",
    "        ## Added section\n",
    "        plist = []\n",
    "        tlist = []\n",
    "        for gidx, g in enumerate(unique_group):\n",
    "            if gidx%1000==0:\n",
    "                logging.debug(\"{} of {} genes\".format(gidx+1, unique_group.shape[0]))\n",
    "            tg_mat, _ = split_by_target(t_mat, nan_grouping, g, axis=1)\n",
    "            ones = np.ones(tg_mat.shape[1])\n",
    "            mask = np.diag(ones).astype(bool)\n",
    "            pv = []\n",
    "            for row in mask:\n",
    "                test = ttest_ind(tg_mat[:,row], tg_mat[:,~row].mean(axis=1))\n",
    "\n",
    "                p = test.pvalue[0]\n",
    "                s = test.statistic[0]\n",
    "                \n",
    "                plist.append(p)\n",
    "                tlist.append(s)\n",
    "        \n",
    "        # print(plist)\n",
    "        # print(tlist)\n",
    "        pval[tidx,:][nan_mask] = plist\n",
    "        stat[tidx,:][nan_mask] = tlist\n",
    "            \n",
    "        ## Added section\n",
    "        \n",
    "        # pval[tidx,:][mask] = pvalue\n",
    "        # stat[tidx,:][mask] = statistic\n",
    "    \n",
    "    return (pval, stat)"
   ]
  },
  {
   "cell_type": "code",
   "execution_count": 326,
   "metadata": {},
   "outputs": [
    {
     "data": {
      "text/plain": [
       "array([[1, 0, 0],\n",
       "       [0, 1, 0],\n",
       "       [0, 0, 1]])"
      ]
     },
     "execution_count": 326,
     "metadata": {},
     "output_type": "execute_result"
    }
   ],
   "source": [
    "np.diag([1,1,1])"
   ]
  },
  {
   "cell_type": "code",
   "execution_count": 325,
   "metadata": {},
   "outputs": [
    {
     "data": {
      "text/plain": [
       "87        2310035C23Rik\n",
       "88        2310035C23Rik\n",
       "89        2310035C23Rik\n",
       "90        2310035C23Rik\n",
       "91        2310035C23Rik\n",
       "              ...      \n",
       "101796          Eif2s3y\n",
       "101797          Eif2s3y\n",
       "101798          Eif2s3y\n",
       "101799          Eif2s3y\n",
       "101800          Eif2s3y\n",
       "Name: gene_name, Length: 24916, dtype: object"
      ]
     },
     "execution_count": 325,
     "metadata": {},
     "output_type": "execute_result"
    }
   ],
   "source": [
    "stss.var[\"gene_name\"]"
   ]
  },
  {
   "cell_type": "code",
   "execution_count": 475,
   "metadata": {},
   "outputs": [
    {
     "name": "stderr",
     "output_type": "stream",
     "text": [
      "27-Feb-20 21:45:04 - 1 of 4 assignments: GABAergic\n",
      "27-Feb-20 21:45:05 - 1 of 701 genes\n",
      "27-Feb-20 21:45:06 - 2 of 4 assignments: Glutamatergic\n",
      "27-Feb-20 21:45:06 - 1 of 1337 genes\n",
      "27-Feb-20 21:45:18 - 1001 of 1337 genes\n",
      "27-Feb-20 21:45:22 - 3 of 4 assignments: Low Quality\n",
      "27-Feb-20 21:45:22 - 1 of 954 genes\n",
      "27-Feb-20 21:45:23 - 4 of 4 assignments: Non-Neuronal\n",
      "27-Feb-20 21:45:23 - 1 of 108 genes\n"
     ]
    },
    {
     "name": "stdout",
     "output_type": "stream",
     "text": [
      "CPU times: user 9.17 s, sys: 9.89 s, total: 19.1 s\n",
      "Wall time: 19.1 s\n"
     ]
    }
   ],
   "source": [
    "%%time\n",
    "\n",
    "mat         = stss.layers[\"log1p\"]\n",
    "components  = stss.obs.cell_id.values\n",
    "f_tss    = stss.var.tss_class.values\n",
    "assignments = stss.obs.class_label.values\n",
    "grouping = stss.var[\"gene_name\"].values\n",
    "\n",
    "pval, stat = dexpress(mat, components, f_tss, assignments, nan_cutoff=0.8, grouping=grouping)\n",
    "\n",
    "#one_side_mask = stat<=0\n",
    "#stat[one_side_mask] = np.nan\n",
    "#pval[one_side_mask] = np.nan\n",
    "#pval = pval/2\n",
    "# pval_stss_corr = correct_pval(pval, \"bonferroni\")\n",
    "# \n",
    "# stat_stss = stat"
   ]
  },
  {
   "cell_type": "code",
   "execution_count": 476,
   "metadata": {},
   "outputs": [],
   "source": [
    "pval_stss = correct_pval(pval, \"bonferroni\")\n",
    "stat_stss = stat"
   ]
  },
  {
   "cell_type": "code",
   "execution_count": 477,
   "metadata": {},
   "outputs": [
    {
     "data": {
      "text/plain": [
       "486"
      ]
     },
     "execution_count": 477,
     "metadata": {},
     "output_type": "execute_result"
    }
   ],
   "source": [
    "(~np.isnan(pval[0])).sum()"
   ]
  },
  {
   "cell_type": "code",
   "execution_count": 348,
   "metadata": {},
   "outputs": [
    {
     "data": {
      "text/plain": [
       "array([-16.806587], dtype=float32)"
      ]
     },
     "execution_count": 348,
     "metadata": {},
     "output_type": "execute_result"
    }
   ],
   "source": []
  },
  {
   "cell_type": "code",
   "execution_count": 383,
   "metadata": {},
   "outputs": [],
   "source": [
    "tmp_iso = tmp_iso[:,stss.var.tss_same.explode().values]"
   ]
  },
  {
   "cell_type": "code",
   "execution_count": 478,
   "metadata": {},
   "outputs": [
    {
     "name": "stderr",
     "output_type": "stream",
     "text": [
      "27-Feb-20 21:45:28 - 1 of 4 assignments: GABAergic\n",
      "27-Feb-20 21:45:28 - 1 of 628 genes\n",
      "27-Feb-20 21:45:29 - 2 of 4 assignments: Glutamatergic\n",
      "27-Feb-20 21:45:30 - 1 of 1209 genes\n",
      "27-Feb-20 21:45:38 - 1001 of 1209 genes\n",
      "27-Feb-20 21:45:40 - 3 of 4 assignments: Low Quality\n",
      "27-Feb-20 21:45:40 - 1 of 895 genes\n",
      "27-Feb-20 21:45:41 - 4 of 4 assignments: Non-Neuronal\n",
      "27-Feb-20 21:45:41 - 1 of 99 genes\n"
     ]
    },
    {
     "name": "stdout",
     "output_type": "stream",
     "text": [
      "CPU times: user 10.8 s, sys: 3.28 s, total: 14.1 s\n",
      "Wall time: 14.1 s\n"
     ]
    }
   ],
   "source": [
    "%%time\n",
    "\n",
    "mat         = tmp_iso.layers[\"log1p\"].todense()\n",
    "components  = tmp_iso.obs.cell_id.values\n",
    "f_iso    = tmp_iso.var.transcript_name.values\n",
    "assignments = tmp_iso.obs.class_label.values\n",
    "grouping = tmp_iso.var['gene_name'].values\n",
    "\n",
    "pval, stat = dexpress(mat, components, f_iso, assignments, nan_cutoff=0.8, grouping=grouping)\n",
    "\n",
    "#one_side_mask = stat>0\n",
    "#stat[one_side_mask] = np.nan\n",
    "#pval[one_side_mask] = np.nan\n",
    "#pval = pval\n",
    "\n",
    "pval_iso = correct_pval(pval, \"bonferroni\")\n",
    "stat_iso = stat"
   ]
  },
  {
   "cell_type": "code",
   "execution_count": 479,
   "metadata": {},
   "outputs": [
    {
     "data": {
      "text/plain": [
       "0"
      ]
     },
     "execution_count": 479,
     "metadata": {},
     "output_type": "execute_result"
    }
   ],
   "source": [
    "(stss.var[\"tss_same\"].explode()!=features).sum()"
   ]
  },
  {
   "cell_type": "code",
   "execution_count": 480,
   "metadata": {},
   "outputs": [],
   "source": [
    "repeat_col = stss.var[\"n_tss_same\"]\n",
    "\n",
    "f_tss_ext = np.repeat(f_tss ,repeat_col)\n",
    "\n",
    "p1_tmp = pval_iso\n",
    "p2_tmp = np.repeat(pval_stss ,repeat_col, axis=1)\n",
    "\n",
    "s1_tmp = stat_iso\n",
    "s2_tmp = np.repeat(stat_stss ,repeat_col, axis=1)"
   ]
  },
  {
   "cell_type": "code",
   "execution_count": 500,
   "metadata": {},
   "outputs": [],
   "source": [
    "alpha = 0.05\n",
    "tcrit = 0\n",
    "delta = 0.1\n",
    "# revisit this section, specifically smask\n",
    "bool_mask = np.ones(p1_tmp.shape, dtype=bool)\n",
    "\n",
    "pmask = np.logical_and(p1_tmp<alpha, p2_tmp>alpha)\n",
    "smask = np.logical_and(s2_tmp>tcrit-delta, s2_tmp<tcrit+delta)# np.logical_and(s1_tmp>tcrit, s2_tmp<tcrit)\n",
    "mask = np.logical_and(pmask, smask)\n",
    "bool_mask = mask"
   ]
  },
  {
   "cell_type": "code",
   "execution_count": 501,
   "metadata": {},
   "outputs": [
    {
     "data": {
      "text/plain": [
       "5"
      ]
     },
     "execution_count": 501,
     "metadata": {},
     "output_type": "execute_result"
    }
   ],
   "source": [
    "bool_mask.sum()"
   ]
  },
  {
   "cell_type": "code",
   "execution_count": 503,
   "metadata": {},
   "outputs": [
    {
     "name": "stdout",
     "output_type": "stream",
     "text": [
      "[('Pabpn1-208', 28921), ('Rbm8a-201', 58253)]\n",
      "0 (1, 11)\n",
      "1 (1, 11)\n"
     ]
    }
   ],
   "source": [
    "idx = 0\n",
    "print(list(zip(f_iso[bool_mask[idx]].tolist(), f_tss_ext[bool_mask[idx]].tolist())))\n",
    "for i, j in  enumerate(f_tss_ext[bool_mask[idx]].tolist()):\n",
    "    print(i, et2g[et2g.tss_class==j].shape)"
   ]
  },
  {
   "cell_type": "code",
   "execution_count": 504,
   "metadata": {},
   "outputs": [],
   "source": [
    "specific_gene = \"Pabpn1\""
   ]
  },
  {
   "cell_type": "code",
   "execution_count": 505,
   "metadata": {},
   "outputs": [
    {
     "data": {
      "text/html": [
       "<div>\n",
       "<style scoped>\n",
       "    .dataframe tbody tr th:only-of-type {\n",
       "        vertical-align: middle;\n",
       "    }\n",
       "\n",
       "    .dataframe tbody tr th {\n",
       "        vertical-align: top;\n",
       "    }\n",
       "\n",
       "    .dataframe thead th {\n",
       "        text-align: right;\n",
       "    }\n",
       "</style>\n",
       "<table border=\"1\" class=\"dataframe\">\n",
       "  <thead>\n",
       "    <tr style=\"text-align: right;\">\n",
       "      <th></th>\n",
       "      <th>chromosome</th>\n",
       "      <th>gene_name</th>\n",
       "      <th>new_start</th>\n",
       "      <th>tss_same</th>\n",
       "      <th>tss_len</th>\n",
       "      <th>n_tss_same</th>\n",
       "      <th>n_iso</th>\n",
       "      <th>max_tss_size</th>\n",
       "      <th>num_tss_1_iso</th>\n",
       "      <th>tss_class</th>\n",
       "      <th>filter</th>\n",
       "    </tr>\n",
       "  </thead>\n",
       "  <tbody>\n",
       "    <tr>\n",
       "      <th>28915</th>\n",
       "      <td>14</td>\n",
       "      <td>Pabpn1</td>\n",
       "      <td>54892500</td>\n",
       "      <td>Pabpn1-204</td>\n",
       "      <td>1</td>\n",
       "      <td>1</td>\n",
       "      <td>9</td>\n",
       "      <td>2</td>\n",
       "      <td>7</td>\n",
       "      <td>28915</td>\n",
       "      <td>0</td>\n",
       "    </tr>\n",
       "    <tr>\n",
       "      <th>28916</th>\n",
       "      <td>14</td>\n",
       "      <td>Pabpn1</td>\n",
       "      <td>54894148</td>\n",
       "      <td>Pabpn1-202</td>\n",
       "      <td>2</td>\n",
       "      <td>2</td>\n",
       "      <td>9</td>\n",
       "      <td>2</td>\n",
       "      <td>7</td>\n",
       "      <td>28916</td>\n",
       "      <td>0</td>\n",
       "    </tr>\n",
       "    <tr>\n",
       "      <th>28916</th>\n",
       "      <td>14</td>\n",
       "      <td>Pabpn1</td>\n",
       "      <td>54894148</td>\n",
       "      <td>Pabpn1-201</td>\n",
       "      <td>2</td>\n",
       "      <td>2</td>\n",
       "      <td>9</td>\n",
       "      <td>2</td>\n",
       "      <td>7</td>\n",
       "      <td>28916</td>\n",
       "      <td>0</td>\n",
       "    </tr>\n",
       "    <tr>\n",
       "      <th>28917</th>\n",
       "      <td>14</td>\n",
       "      <td>Pabpn1</td>\n",
       "      <td>54894155</td>\n",
       "      <td>Pabpn1-207</td>\n",
       "      <td>1</td>\n",
       "      <td>1</td>\n",
       "      <td>9</td>\n",
       "      <td>2</td>\n",
       "      <td>7</td>\n",
       "      <td>28917</td>\n",
       "      <td>0</td>\n",
       "    </tr>\n",
       "    <tr>\n",
       "      <th>28918</th>\n",
       "      <td>14</td>\n",
       "      <td>Pabpn1</td>\n",
       "      <td>54894156</td>\n",
       "      <td>Pabpn1-209</td>\n",
       "      <td>1</td>\n",
       "      <td>1</td>\n",
       "      <td>9</td>\n",
       "      <td>2</td>\n",
       "      <td>7</td>\n",
       "      <td>28918</td>\n",
       "      <td>0</td>\n",
       "    </tr>\n",
       "    <tr>\n",
       "      <th>28919</th>\n",
       "      <td>14</td>\n",
       "      <td>Pabpn1</td>\n",
       "      <td>54894573</td>\n",
       "      <td>Pabpn1-205</td>\n",
       "      <td>1</td>\n",
       "      <td>1</td>\n",
       "      <td>9</td>\n",
       "      <td>2</td>\n",
       "      <td>7</td>\n",
       "      <td>28919</td>\n",
       "      <td>0</td>\n",
       "    </tr>\n",
       "    <tr>\n",
       "      <th>28920</th>\n",
       "      <td>14</td>\n",
       "      <td>Pabpn1</td>\n",
       "      <td>54894602</td>\n",
       "      <td>Pabpn1-203</td>\n",
       "      <td>1</td>\n",
       "      <td>1</td>\n",
       "      <td>9</td>\n",
       "      <td>2</td>\n",
       "      <td>7</td>\n",
       "      <td>28920</td>\n",
       "      <td>0</td>\n",
       "    </tr>\n",
       "    <tr>\n",
       "      <th>28921</th>\n",
       "      <td>14</td>\n",
       "      <td>Pabpn1</td>\n",
       "      <td>54894618</td>\n",
       "      <td>Pabpn1-208</td>\n",
       "      <td>1</td>\n",
       "      <td>1</td>\n",
       "      <td>9</td>\n",
       "      <td>2</td>\n",
       "      <td>7</td>\n",
       "      <td>28921</td>\n",
       "      <td>0</td>\n",
       "    </tr>\n",
       "    <tr>\n",
       "      <th>28922</th>\n",
       "      <td>14</td>\n",
       "      <td>Pabpn1</td>\n",
       "      <td>54894833</td>\n",
       "      <td>Pabpn1-206</td>\n",
       "      <td>1</td>\n",
       "      <td>1</td>\n",
       "      <td>9</td>\n",
       "      <td>2</td>\n",
       "      <td>7</td>\n",
       "      <td>28922</td>\n",
       "      <td>0</td>\n",
       "    </tr>\n",
       "  </tbody>\n",
       "</table>\n",
       "</div>"
      ],
      "text/plain": [
       "      chromosome gene_name  new_start    tss_same  tss_len  n_tss_same  n_iso  \\\n",
       "28915         14    Pabpn1   54892500  Pabpn1-204        1           1      9   \n",
       "28916         14    Pabpn1   54894148  Pabpn1-202        2           2      9   \n",
       "28916         14    Pabpn1   54894148  Pabpn1-201        2           2      9   \n",
       "28917         14    Pabpn1   54894155  Pabpn1-207        1           1      9   \n",
       "28918         14    Pabpn1   54894156  Pabpn1-209        1           1      9   \n",
       "28919         14    Pabpn1   54894573  Pabpn1-205        1           1      9   \n",
       "28920         14    Pabpn1   54894602  Pabpn1-203        1           1      9   \n",
       "28921         14    Pabpn1   54894618  Pabpn1-208        1           1      9   \n",
       "28922         14    Pabpn1   54894833  Pabpn1-206        1           1      9   \n",
       "\n",
       "       max_tss_size  num_tss_1_iso  tss_class  filter  \n",
       "28915             2              7      28915       0  \n",
       "28916             2              7      28916       0  \n",
       "28916             2              7      28916       0  \n",
       "28917             2              7      28917       0  \n",
       "28918             2              7      28918       0  \n",
       "28919             2              7      28919       0  \n",
       "28920             2              7      28920       0  \n",
       "28921             2              7      28921       0  \n",
       "28922             2              7      28922       0  "
      ]
     },
     "execution_count": 505,
     "metadata": {},
     "output_type": "execute_result"
    }
   ],
   "source": [
    "et2g[et2g[\"gene_name\"]==specific_gene]"
   ]
  },
  {
   "cell_type": "code",
   "execution_count": 506,
   "metadata": {},
   "outputs": [
    {
     "data": {
      "text/plain": [
       "array([28915, 28916, 28917, 28918, 28919, 28920, 28921, 28922])"
      ]
     },
     "execution_count": 506,
     "metadata": {},
     "output_type": "execute_result"
    }
   ],
   "source": [
    "et2g[et2g.gene_name==specific_gene].tss_class.unique()"
   ]
  },
  {
   "cell_type": "code",
   "execution_count": 487,
   "metadata": {},
   "outputs": [
    {
     "data": {
      "text/html": [
       "<div>\n",
       "<style scoped>\n",
       "    .dataframe tbody tr th:only-of-type {\n",
       "        vertical-align: middle;\n",
       "    }\n",
       "\n",
       "    .dataframe tbody tr th {\n",
       "        vertical-align: top;\n",
       "    }\n",
       "\n",
       "    .dataframe thead th {\n",
       "        text-align: right;\n",
       "    }\n",
       "</style>\n",
       "<table border=\"1\" class=\"dataframe\">\n",
       "  <thead>\n",
       "    <tr style=\"text-align: right;\">\n",
       "      <th></th>\n",
       "      <th>chromosome</th>\n",
       "      <th>gene_name</th>\n",
       "      <th>new_start</th>\n",
       "      <th>tss_same</th>\n",
       "      <th>tss_len</th>\n",
       "      <th>n_tss_same</th>\n",
       "      <th>n_iso</th>\n",
       "      <th>max_tss_size</th>\n",
       "      <th>num_tss_1_iso</th>\n",
       "      <th>tss_class</th>\n",
       "      <th>filter</th>\n",
       "    </tr>\n",
       "  </thead>\n",
       "  <tbody>\n",
       "    <tr>\n",
       "      <th>18158</th>\n",
       "      <td>11</td>\n",
       "      <td>Znrf3</td>\n",
       "      <td>5444847</td>\n",
       "      <td>Znrf3-201</td>\n",
       "      <td>2</td>\n",
       "      <td>2</td>\n",
       "      <td>3</td>\n",
       "      <td>2</td>\n",
       "      <td>1</td>\n",
       "      <td>18158</td>\n",
       "      <td>0</td>\n",
       "    </tr>\n",
       "    <tr>\n",
       "      <th>18158</th>\n",
       "      <td>11</td>\n",
       "      <td>Znrf3</td>\n",
       "      <td>5444847</td>\n",
       "      <td>Znrf3-202</td>\n",
       "      <td>2</td>\n",
       "      <td>2</td>\n",
       "      <td>3</td>\n",
       "      <td>2</td>\n",
       "      <td>1</td>\n",
       "      <td>18158</td>\n",
       "      <td>0</td>\n",
       "    </tr>\n",
       "  </tbody>\n",
       "</table>\n",
       "</div>"
      ],
      "text/plain": [
       "      chromosome gene_name  new_start   tss_same  tss_len  n_tss_same  n_iso  \\\n",
       "18158         11     Znrf3    5444847  Znrf3-201        2           2      3   \n",
       "18158         11     Znrf3    5444847  Znrf3-202        2           2      3   \n",
       "\n",
       "       max_tss_size  num_tss_1_iso  tss_class  filter  \n",
       "18158             2              1      18158       0  \n",
       "18158             2              1      18158       0  "
      ]
     },
     "execution_count": 487,
     "metadata": {},
     "output_type": "execute_result"
    }
   ],
   "source": [
    "et2g[et2g.tss_class==18158]"
   ]
  },
  {
   "cell_type": "code",
   "execution_count": 507,
   "metadata": {},
   "outputs": [],
   "source": [
    "tss_0 = 28921\n",
    "tss_1 =28915, 28916, 28917, 28918, 28919, 28920, 28921, 28922"
   ]
  },
  {
   "cell_type": "markdown",
   "metadata": {},
   "source": [
    "# Plot both isoforms and TSS"
   ]
  },
  {
   "cell_type": "code",
   "execution_count": 508,
   "metadata": {},
   "outputs": [],
   "source": [
    "classes = np.unique(gene.obs.class_label)"
   ]
  },
  {
   "cell_type": "code",
   "execution_count": 509,
   "metadata": {},
   "outputs": [
    {
     "name": "stderr",
     "output_type": "stream",
     "text": [
      "27-Feb-20 21:49:27 - update_title_pos\n",
      "27-Feb-20 21:49:27 - update_title_pos\n",
      "27-Feb-20 21:49:28 - update_title_pos\n",
      "27-Feb-20 21:49:28 - update_title_pos\n",
      "27-Feb-20 21:49:28 - update_title_pos\n",
      "27-Feb-20 21:49:28 - update_title_pos\n",
      "27-Feb-20 21:49:28 - update_title_pos\n",
      "27-Feb-20 21:49:28 - update_title_pos\n"
     ]
    },
    {
     "data": {
      "image/png": "[encoded data removed]",
      "text/plain": [
       "<Figure size 720x360 with 2 Axes>"
      ]
     },
     "metadata": {
      "image/png": {
       "height": 958,
       "width": 617
      },
      "needs_background": "light"
     },
     "output_type": "display_data"
    }
   ],
   "source": [
    "fig, ax = plt.subplots(figsize=(10,5))\n",
    "\n",
    "specific_cluster = classes[idx]\n",
    "\n",
    "unique = np.unique(gene.obs.class_label)\n",
    "unique = np.delete(unique, np.where(unique==\"Low Quality\"))\n",
    "\n",
    "midx = np.where(unique==specific_cluster)[0][0]\n",
    "labels = unique\n",
    "lidx = np.arange(0.25, len(labels)*2+0.25, 2)\n",
    "ridx = np.arange(0.75, len(labels)*2 + 0.75, 2)\n",
    "cidx = np.arange(0.50, len(labels)*2+0.5, 2)\n",
    "\n",
    "\n",
    "lridx = np.union1d(lidx, ridx)\n",
    "sub_labels = [tss_0, tss_1]*len(lidx)\n",
    "\n",
    "mat = stss.layers[\"log1p\"]\n",
    "obs = stss.obs\n",
    "var = stss.var\n",
    "\n",
    "\n",
    "\n",
    "x = []\n",
    "y = []\n",
    "for c in unique:\n",
    "    tmp_mat = mat[obs.class_label==c,:]\n",
    "    \n",
    "    x.append(np.asarray(tmp_mat[:,var.tss_class==tss_0]).reshape(-1).tolist())\n",
    "    tmp = []\n",
    "    for t in tss_1:\n",
    "        tmp.append(np.asarray(tmp_mat[:,var.tss_class==t]).reshape(-1).tolist())\n",
    "    y.append(np.array(tmp).mean(axis=0))\n",
    "    #y.append(np.asarray(tmp_mat[:,var.tss_class==tss_1]).reshape(-1).tolist())\n",
    "    \n",
    "left = ax.violinplot(x, showmedians=False, showextrema=False, positions=lidx)\n",
    "right = ax.violinplot(y, showmedians=False, showextrema=False, positions=ridx)\n",
    "for pcidx, pc in enumerate(left['bodies']):\n",
    "    pc.set_facecolor('grey')\n",
    "    pc.set_edgecolor('black')\n",
    "    pc.set_alpha(1)\n",
    "    if pcidx == midx:\n",
    "        pc.set_facecolor('#D43F3A')\n",
    "        \n",
    "for pcidx, pc in enumerate(right['bodies']):\n",
    "    pc.set_facecolor('grey')\n",
    "    pc.set_edgecolor('black')\n",
    "    pc.set_alpha(1)\n",
    "    if pcidx == midx:\n",
    "        pc.set_facecolor('#D43F3A')\n",
    "\n",
    "medians = [np.mean(i) for i in x]\n",
    "ax.scatter(lidx, medians, marker='o', color='white', s=30, zorder=3)\n",
    "\n",
    "medians = [np.mean(i) for i in y]\n",
    "ax.scatter(ridx, medians, marker='o', color='white', s=30, zorder=3)\n",
    "\n",
    "ax2 = ax.twiny()\n",
    "ax.set_xticks(lridx)\n",
    "ax.set_xticklabels(sub_labels, rotation=90, ha=\"center\")\n",
    "\n",
    "ax2.set_xlim(ax.get_xlim())\n",
    "ax2.set_xticks(cidx)\n",
    "ax2.set_xticklabels(labels, rotation=0, ha=\"center\")\n",
    "\n",
    "ax.set_ylabel(\"TSS log(TPM+1)\")\n",
    "ax.set_title(\"Transcriptional regulation of {}\".format(specific_gene))\n",
    "\n",
    "#plt.savefig(\"./level_3_fig/tss_violin_transcriptional_{}.png\".format(specific_gene), bbox_inches='tight', dpi=300)\n",
    "\n",
    "plt.show()"
   ]
  },
  {
   "cell_type": "markdown",
   "metadata": {},
   "source": [
    "# Plot isoforms against each other"
   ]
  },
  {
   "cell_type": "code",
   "execution_count": 492,
   "metadata": {},
   "outputs": [
    {
     "data": {
      "text/html": [
       "<div>\n",
       "<style scoped>\n",
       "    .dataframe tbody tr th:only-of-type {\n",
       "        vertical-align: middle;\n",
       "    }\n",
       "\n",
       "    .dataframe tbody tr th {\n",
       "        vertical-align: top;\n",
       "    }\n",
       "\n",
       "    .dataframe thead th {\n",
       "        text-align: right;\n",
       "    }\n",
       "</style>\n",
       "<table border=\"1\" class=\"dataframe\">\n",
       "  <thead>\n",
       "    <tr style=\"text-align: right;\">\n",
       "      <th></th>\n",
       "      <th>chromosome</th>\n",
       "      <th>gene_name</th>\n",
       "      <th>new_start</th>\n",
       "      <th>tss_same</th>\n",
       "      <th>tss_len</th>\n",
       "      <th>n_tss_same</th>\n",
       "      <th>n_iso</th>\n",
       "      <th>max_tss_size</th>\n",
       "      <th>num_tss_1_iso</th>\n",
       "      <th>tss_class</th>\n",
       "      <th>filter</th>\n",
       "    </tr>\n",
       "  </thead>\n",
       "  <tbody>\n",
       "    <tr>\n",
       "      <th>18158</th>\n",
       "      <td>11</td>\n",
       "      <td>Znrf3</td>\n",
       "      <td>5444847</td>\n",
       "      <td>Znrf3-201</td>\n",
       "      <td>2</td>\n",
       "      <td>2</td>\n",
       "      <td>3</td>\n",
       "      <td>2</td>\n",
       "      <td>1</td>\n",
       "      <td>18158</td>\n",
       "      <td>0</td>\n",
       "    </tr>\n",
       "    <tr>\n",
       "      <th>18158</th>\n",
       "      <td>11</td>\n",
       "      <td>Znrf3</td>\n",
       "      <td>5444847</td>\n",
       "      <td>Znrf3-202</td>\n",
       "      <td>2</td>\n",
       "      <td>2</td>\n",
       "      <td>3</td>\n",
       "      <td>2</td>\n",
       "      <td>1</td>\n",
       "      <td>18158</td>\n",
       "      <td>0</td>\n",
       "    </tr>\n",
       "  </tbody>\n",
       "</table>\n",
       "</div>"
      ],
      "text/plain": [
       "      chromosome gene_name  new_start   tss_same  tss_len  n_tss_same  n_iso  \\\n",
       "18158         11     Znrf3    5444847  Znrf3-201        2           2      3   \n",
       "18158         11     Znrf3    5444847  Znrf3-202        2           2      3   \n",
       "\n",
       "       max_tss_size  num_tss_1_iso  tss_class  filter  \n",
       "18158             2              1      18158       0  \n",
       "18158             2              1      18158       0  "
      ]
     },
     "execution_count": 492,
     "metadata": {},
     "output_type": "execute_result"
    }
   ],
   "source": [
    "et2g[et2g.tss_class==tss_0]"
   ]
  },
  {
   "cell_type": "code",
   "execution_count": 498,
   "metadata": {},
   "outputs": [],
   "source": [
    "iso0, iso1 = \"Znrf3-201\", \"Znrf3-202\""
   ]
  },
  {
   "cell_type": "code",
   "execution_count": 499,
   "metadata": {},
   "outputs": [
    {
     "name": "stderr",
     "output_type": "stream",
     "text": [
      "27-Feb-20 21:48:29 - update_title_pos\n",
      "27-Feb-20 21:48:29 - update_title_pos\n",
      "27-Feb-20 21:48:29 - update_title_pos\n",
      "27-Feb-20 21:48:29 - update_title_pos\n",
      "27-Feb-20 21:48:29 - update_title_pos\n",
      "27-Feb-20 21:48:29 - update_title_pos\n",
      "27-Feb-20 21:48:29 - update_title_pos\n",
      "27-Feb-20 21:48:29 - update_title_pos\n"
     ]
    },
    {
     "data": {
      "image/png": "[encoded data removed]",
      "text/plain": [
       "<Figure size 720x360 with 2 Axes>"
      ]
     },
     "metadata": {
      "image/png": {
       "height": 392,
       "width": 617
      },
      "needs_background": "light"
     },
     "output_type": "display_data"
    }
   ],
   "source": [
    "fig, ax = plt.subplots(figsize=(10,5))\n",
    "\n",
    "unique = np.unique(stss.obs.class_label)\n",
    "unique = np.delete(unique, np.where(unique==\"Low Quality\"))\n",
    "\n",
    "midx = np.where(unique==specific_cluster)[0][0]\n",
    "labels = unique\n",
    "\n",
    "\n",
    "lidx = np.arange(0.25, len(labels)*2+0.25, 2)\n",
    "ridx = np.arange(0.75, len(labels)*2 + 0.75, 2)\n",
    "cidx = np.arange(0.50, len(labels)*2+0.5, 2)\n",
    "\n",
    "lridx = np.union1d(lidx, ridx)\n",
    "sub_labels = [\"Iso 1\", \"Iso 2\"]*len(lidx)\n",
    "\n",
    "mat = tmp_iso.layers[\"log1p\"].todense()\n",
    "obs = tmp_iso.obs\n",
    "var = tmp_iso.var\n",
    "\n",
    "\n",
    "\n",
    "x = []\n",
    "y = []\n",
    "for c in unique:\n",
    "    tmp_mat = mat[obs.class_label==c,:]\n",
    "    \n",
    "    x.append(np.asarray(tmp_mat[:,var.transcript_name==iso0]).reshape(-1).tolist())\n",
    "    y.append(np.asarray(tmp_mat[:,var.transcript_name==iso1]).reshape(-1).tolist())\n",
    "    \n",
    "left = ax.violinplot(x, showmedians=False, showextrema=False, positions=lidx)\n",
    "right = ax.violinplot(y, showmedians=False, showextrema=False, positions=ridx)\n",
    "for pcidx, pc in enumerate(left['bodies']):\n",
    "    pc.set_facecolor('grey')\n",
    "    pc.set_edgecolor('black')\n",
    "    pc.set_alpha(1)\n",
    "    if pcidx == midx:\n",
    "        pc.set_facecolor('#D43F3A')\n",
    "        \n",
    "for pcidx, pc in enumerate(right['bodies']):\n",
    "    pc.set_facecolor('grey')\n",
    "    pc.set_edgecolor('black')\n",
    "    pc.set_alpha(1)\n",
    "    if pcidx == midx:\n",
    "        pc.set_facecolor('#D43F3A')\n",
    "\n",
    "medians = [np.mean(i) for i in x]\n",
    "ax.scatter(lidx, medians, marker='o', color='white', s=30, zorder=3)\n",
    "\n",
    "medians = [np.mean(i) for i in y]\n",
    "ax.scatter(ridx, medians, marker='o', color='white', s=30, zorder=3)\n",
    "\n",
    "ax2 = ax.twiny()\n",
    "ax.set_xticks(lridx)\n",
    "ax.set_xticklabels(sub_labels, rotation=90, ha=\"center\")\n",
    "\n",
    "ax2.set_xlim(ax.get_xlim())\n",
    "ax2.set_xticks(cidx)\n",
    "ax2.set_xticklabels(labels, rotation=0, ha=\"center\")\n",
    "\n",
    "ax.set_ylabel(\"Isoform log(TPM+1)\")\n",
    "ax.set_title(\"Post-transcriptional regulation of {}\".format(specific_gene))\n",
    "#plt.savefig(\"./level_3_fig/tss_violin_post-transcriptional_{}.png\".format(specific_gene), bbox_inches='tight', dpi=300)\n",
    "\n",
    "plt.show()"
   ]
  },
  {
   "cell_type": "code",
   "execution_count": null,
   "metadata": {},
   "outputs": [],
   "source": []
  }
 ],
 "metadata": {
  "kernelspec": {
   "display_name": "Python 3",
   "language": "python",
   "name": "python3"
  },
  "language_info": {
   "codemirror_mode": {
    "name": "ipython",
    "version": 3
   },
   "file_extension": ".py",
   "mimetype": "text/x-python",
   "name": "python",
   "nbconvert_exporter": "python",
   "pygments_lexer": "ipython3",
   "version": "3.7.4"
  }
 },
 "nbformat": 4,
 "nbformat_minor": 4
}
