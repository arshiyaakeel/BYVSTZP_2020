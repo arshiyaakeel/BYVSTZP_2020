{
 "cells": [
  {
   "cell_type": "code",
   "execution_count": 1,
   "metadata": {},
   "outputs": [
    {
     "name": "stdout",
     "output_type": "stream",
     "text": [
      "Sat Feb 22 12:29:50 PST 2020\n"
     ]
    }
   ],
   "source": [
    "!date"
   ]
  },
  {
   "cell_type": "markdown",
   "metadata": {},
   "source": [
    "# No filter Smart-seq2 Gene comparison to 10x"
   ]
  },
  {
   "cell_type": "code",
   "execution_count": 2,
   "metadata": {},
   "outputs": [],
   "source": [
    "import anndata\n",
    "import pandas as pd\n",
    "import numpy as np\n",
    "import matplotlib.pyplot as plt\n",
    "import matplotlib as mpl\n",
    "import matplotlib.patches as mpatches\n",
    "import scanpy as scanp\n",
    "from scipy.stats import ks_2samp, ttest_ind\n",
    "from scipy.sparse import csr_matrix, lil_matrix\n",
    "from sklearn.preprocessing import normalize\n",
    "from sklearn.decomposition import TruncatedSVD\n",
    "from sklearn.manifold import TSNE\n",
    "from umap import UMAP\n",
    "from sklearn.cluster import KMeans\n",
    "from sklearn.metrics import adjusted_rand_score\n",
    "from sklearn.preprocessing import LabelEncoder\n",
    "from sklearn.neighbors import NeighborhoodComponentsAnalysis\n",
    "from matplotlib import cm\n",
    "\n",
    "import warnings\n",
    "warnings.filterwarnings('ignore')\n",
    "\n",
    "fsize=20\n",
    "\n",
    "plt.rcParams.update({'font.size': fsize})\n",
    "%config InlineBackend.figure_format = 'retina'"
   ]
  },
  {
   "cell_type": "code",
   "execution_count": 2,
   "metadata": {},
   "outputs": [
    {
     "name": "stderr",
     "output_type": "stream",
     "text": [
      "Transforming to str index.\n"
     ]
    }
   ],
   "source": [
    "adata = \"/home/sina/projects/mop/mop_SMARTseq/out_cr_index/annotated_adata.h5ad\"\n",
    "adata = anndata.read_h5ad(adata)\n",
    "adata.var[\"gene_name\"] = adata.var[\"gene_name\"].astype(str) + \"_\" + adata.var.gene_id.astype(str)\n",
    "adata.var[\"transcript_name\"] = adata.var[\"transcript_name\"].astype(str) + \"_\" + adata.var.transcript_id.astype(str)"
   ]
  },
  {
   "cell_type": "code",
   "execution_count": 3,
   "metadata": {},
   "outputs": [],
   "source": [
    "lengths = pd.read_csv(\"/home/sina/projects/mop/reference/cellranger_index/refdata-cellranger-mm10-3.0.0/kb_out/length_info.txt\", header=None, names=[\"length\", \"transcript_id\", \"gene_id\", \"gene_name\", \"transcript_name\", \"chr\", \"start\", \"end\", \"strand\"], sep=\"\\t\")\n",
    "lengths[\"transcript_id\"] = lengths[\"transcript_id\"].apply(lambda x: x.split(\".\")[0])\n",
    "lengths.index = lengths.transcript_id.values"
   ]
  },
  {
   "cell_type": "code",
   "execution_count": 4,
   "metadata": {},
   "outputs": [],
   "source": [
    "adata.var[\"length\"] = adata.var.transcript_id.map(lengths[\"length\"])"
   ]
  },
  {
   "cell_type": "code",
   "execution_count": 5,
   "metadata": {},
   "outputs": [
    {
     "data": {
      "text/html": [
       "<div>\n",
       "<style scoped>\n",
       "    .dataframe tbody tr th:only-of-type {\n",
       "        vertical-align: middle;\n",
       "    }\n",
       "\n",
       "    .dataframe tbody tr th {\n",
       "        vertical-align: top;\n",
       "    }\n",
       "\n",
       "    .dataframe thead th {\n",
       "        text-align: right;\n",
       "    }\n",
       "</style>\n",
       "<table border=\"1\" class=\"dataframe\">\n",
       "  <thead>\n",
       "    <tr style=\"text-align: right;\">\n",
       "      <th></th>\n",
       "      <th>transcript_id</th>\n",
       "      <th>gene_id</th>\n",
       "      <th>gene_name</th>\n",
       "      <th>transcript_name</th>\n",
       "      <th>length</th>\n",
       "    </tr>\n",
       "  </thead>\n",
       "  <tbody>\n",
       "    <tr>\n",
       "      <th>0</th>\n",
       "      <td>ENSMUST00000162897</td>\n",
       "      <td>ENSMUSG00000051951</td>\n",
       "      <td>Xkr4_ENSMUSG00000051951</td>\n",
       "      <td>Xkr4-203_ENSMUST00000162897</td>\n",
       "      <td>4153</td>\n",
       "    </tr>\n",
       "    <tr>\n",
       "      <th>1</th>\n",
       "      <td>ENSMUST00000159265</td>\n",
       "      <td>ENSMUSG00000051951</td>\n",
       "      <td>Xkr4_ENSMUSG00000051951</td>\n",
       "      <td>Xkr4-202_ENSMUST00000159265</td>\n",
       "      <td>2989</td>\n",
       "    </tr>\n",
       "    <tr>\n",
       "      <th>2</th>\n",
       "      <td>ENSMUST00000070533</td>\n",
       "      <td>ENSMUSG00000051951</td>\n",
       "      <td>Xkr4_ENSMUSG00000051951</td>\n",
       "      <td>Xkr4-201_ENSMUST00000070533</td>\n",
       "      <td>3634</td>\n",
       "    </tr>\n",
       "    <tr>\n",
       "      <th>3</th>\n",
       "      <td>ENSMUST00000161581</td>\n",
       "      <td>ENSMUSG00000089699</td>\n",
       "      <td>Gm1992_ENSMUSG00000089699</td>\n",
       "      <td>Gm1992-201_ENSMUST00000161581</td>\n",
       "      <td>250</td>\n",
       "    </tr>\n",
       "    <tr>\n",
       "      <th>4</th>\n",
       "      <td>ENSMUST00000194643</td>\n",
       "      <td>ENSMUSG00000102343</td>\n",
       "      <td>Gm37381_ENSMUSG00000102343</td>\n",
       "      <td>Gm37381-202_ENSMUST00000194643</td>\n",
       "      <td>657</td>\n",
       "    </tr>\n",
       "  </tbody>\n",
       "</table>\n",
       "</div>"
      ],
      "text/plain": [
       "        transcript_id             gene_id                   gene_name  \\\n",
       "0  ENSMUST00000162897  ENSMUSG00000051951     Xkr4_ENSMUSG00000051951   \n",
       "1  ENSMUST00000159265  ENSMUSG00000051951     Xkr4_ENSMUSG00000051951   \n",
       "2  ENSMUST00000070533  ENSMUSG00000051951     Xkr4_ENSMUSG00000051951   \n",
       "3  ENSMUST00000161581  ENSMUSG00000089699   Gm1992_ENSMUSG00000089699   \n",
       "4  ENSMUST00000194643  ENSMUSG00000102343  Gm37381_ENSMUSG00000102343   \n",
       "\n",
       "                  transcript_name  length  \n",
       "0     Xkr4-203_ENSMUST00000162897    4153  \n",
       "1     Xkr4-202_ENSMUST00000159265    2989  \n",
       "2     Xkr4-201_ENSMUST00000070533    3634  \n",
       "3   Gm1992-201_ENSMUST00000161581     250  \n",
       "4  Gm37381-202_ENSMUST00000194643     657  "
      ]
     },
     "execution_count": 5,
     "metadata": {},
     "output_type": "execute_result"
    }
   ],
   "source": [
    "adata.var.head()"
   ]
  },
  {
   "cell_type": "code",
   "execution_count": null,
   "metadata": {},
   "outputs": [],
   "source": [
    "# l = lil_matrix((adata.var[\"length\"].shape[0], adata.var[\"length\"].shape[0]))\n",
    "# l.setdiag(1/adata.var[\"length\"])"
   ]
  },
  {
   "cell_type": "code",
   "execution_count": 7,
   "metadata": {},
   "outputs": [],
   "source": [
    "# scaled = adata.X*l"
   ]
  },
  {
   "cell_type": "code",
   "execution_count": 8,
   "metadata": {},
   "outputs": [],
   "source": [
    "raw = adata.X.todense()"
   ]
  },
  {
   "cell_type": "code",
   "execution_count": 9,
   "metadata": {},
   "outputs": [],
   "source": [
    "scaled = raw/adata.var.length.values"
   ]
  },
  {
   "cell_type": "code",
   "execution_count": 10,
   "metadata": {},
   "outputs": [],
   "source": [
    "a = np.matrix([[1, 2],[0,1],[2, 1],[1,1]])\n",
    "b = np.array([5,1])"
   ]
  },
  {
   "cell_type": "code",
   "execution_count": 11,
   "metadata": {},
   "outputs": [
    {
     "name": "stdout",
     "output_type": "stream",
     "text": [
      "[[1 2]\n",
      " [0 1]\n",
      " [2 1]\n",
      " [1 1]]\n",
      "[[0.2 2. ]\n",
      " [0.  1. ]\n",
      " [0.4 1. ]\n",
      " [0.2 1. ]]\n"
     ]
    }
   ],
   "source": [
    "print(a)\n",
    "print(a/b)"
   ]
  },
  {
   "cell_type": "code",
   "execution_count": 12,
   "metadata": {},
   "outputs": [],
   "source": [
    "adata.layers[\"X\"] = csr_matrix(scaled)\n",
    "adata.X = csr_matrix(scaled)"
   ]
  },
  {
   "cell_type": "code",
   "execution_count": 13,
   "metadata": {},
   "outputs": [],
   "source": [
    "adata.layers[\"norm\"] = normalize(adata.X, norm='l1', axis=1)*1000000"
   ]
  },
  {
   "cell_type": "code",
   "execution_count": 14,
   "metadata": {},
   "outputs": [
    {
     "data": {
      "text/plain": [
       "1000000.0000000042"
      ]
     },
     "execution_count": 14,
     "metadata": {},
     "output_type": "execute_result"
    }
   ],
   "source": [
    "adata.layers[\"norm\"][0].sum()"
   ]
  },
  {
   "cell_type": "code",
   "execution_count": 15,
   "metadata": {},
   "outputs": [],
   "source": [
    "adata.layers[\"log1p\"] = np.log1p(adata.layers[\"norm\"])"
   ]
  },
  {
   "cell_type": "code",
   "execution_count": 16,
   "metadata": {},
   "outputs": [
    {
     "data": {
      "text/plain": [
       "1000000.0000000042"
      ]
     },
     "execution_count": 16,
     "metadata": {},
     "output_type": "execute_result"
    }
   ],
   "source": [
    "adata.layers[\"norm\"][0].sum()"
   ]
  },
  {
   "cell_type": "code",
   "execution_count": 17,
   "metadata": {},
   "outputs": [],
   "source": [
    "adata.X = adata.layers[\"norm\"]"
   ]
  },
  {
   "cell_type": "code",
   "execution_count": 18,
   "metadata": {},
   "outputs": [
    {
     "data": {
      "text/plain": [
       "1000000.0000000042"
      ]
     },
     "execution_count": 18,
     "metadata": {},
     "output_type": "execute_result"
    }
   ],
   "source": [
    "adata.layers[\"norm\"][0].sum()"
   ]
  },
  {
   "cell_type": "code",
   "execution_count": 19,
   "metadata": {},
   "outputs": [
    {
     "data": {
      "text/plain": [
       "1000000.0000000042"
      ]
     },
     "execution_count": 19,
     "metadata": {},
     "output_type": "execute_result"
    }
   ],
   "source": [
    "adata.layers[\"norm\"][0].sum()"
   ]
  },
  {
   "cell_type": "code",
   "execution_count": 20,
   "metadata": {},
   "outputs": [],
   "source": [
    "del raw\n",
    "del scaled"
   ]
  },
  {
   "cell_type": "code",
   "execution_count": 21,
   "metadata": {},
   "outputs": [
    {
     "data": {
      "text/plain": [
       "1000000.0000000042"
      ]
     },
     "execution_count": 21,
     "metadata": {},
     "output_type": "execute_result"
    }
   ],
   "source": [
    "adata.layers[\"norm\"][0].sum()"
   ]
  },
  {
   "cell_type": "code",
   "execution_count": 22,
   "metadata": {},
   "outputs": [],
   "source": [
    "def group_mtx(mtx, components, features, s2t, source_id=\"transcript_id\", target_id=\"gene_id\", by=\"features\"):\n",
    "    \"\"\"\n",
    "    mtx: ndarray components by features \n",
    "    components: labels for rows of mtx\n",
    "    features: labels for columns of mtx\n",
    "    s2t: pandas dataframe mapping source (features or components) to a\n",
    "    targets features(components) to group by\n",
    "    target_id: column name in s2t to group by\n",
    "    \"\"\"\n",
    "    if target_id not in s2t.columns: return -1\n",
    "    \n",
    "    ncomp   = components.shape[0]\n",
    "    nfeat   = features.shape[0]\n",
    "    ntarget = s2t[target_id].nunique()\n",
    "    \n",
    "    if by ==\"features\": \n",
    "        source = features\n",
    "    elif by ==\"components\": \n",
    "        source = components\n",
    "    \n",
    "    # Map the source to an index\n",
    "    source2idx = dict(zip(source, range(len(source))))\n",
    "    # Map the target to a list of source indices\n",
    "    target2idx = (s2t.groupby(target_id)[source_id].apply(lambda x: [source2idx[i] for i in x])).to_dict()\n",
    "    \n",
    "    # array of unique targets\n",
    "    unique = s2t[target_id].unique().astype(str)\n",
    "    nuniq = unique.shape[0]\n",
    "    X = np.zeros((ncomp, nuniq))\n",
    "    \n",
    "    for tidx, t in enumerate(unique):\n",
    "        # Grab the matrix indices corresponding to columns and source columns to group by\n",
    "        source_indices = target2idx[t]\n",
    "        \n",
    "        # breaks generality\n",
    "        sub_mtx = mtx[:, source_indices].sum(axis=1) # Sum on source indicies\n",
    "        X[:,tidx] = np.asarray(sub_mtx)[:,0] # place summed vector in new matrix\n",
    "        \n",
    "    # Return matrix that is grouped by\n",
    "    return (X, components, unique)\n",
    "    \n",
    "def filter_mtx(mtx, components, features, **kwargs):\n",
    "    row_counts = kwargs.get(\"row_counts\", 0) # threshold for min counts for rows\n",
    "    col_counts = kwargs.get(\"col_counts\", 0)\n",
    "    row_zeros  = kwargs.get(\"row_zeros\", 0) # threshold min number of non_zero entries in rows\n",
    "    col_zeros  = kwargs.get(\"col_zeros\", 0)\n",
    "    \n",
    "    return_mask = kwargs.get(\"return_mask\", False)\n",
    "    \n",
    "    row_sum = np.asarray(mtx.sum(axis=1)).reshape(-1) # sum along the rows\n",
    "    col_sum = np.asarray(mtx.sum(axis=0)).reshape(-1)\n",
    "    \n",
    "    mtx_zero_mask = mtx>0\n",
    "    row_nz = np.asarray(mtx_zero_mask.sum(axis=1)).reshape(-1)\n",
    "    col_nz = np.asarray(mtx_zero_mask.sum(axis=0)).reshape(-1)\n",
    "    \n",
    "    # Generate masks\n",
    "    rs_mask = row_sum > row_counts\n",
    "    cs_mask = col_sum > col_counts\n",
    "    \n",
    "    rz_mask = row_nz > row_zeros\n",
    "    cz_mask = col_nz > col_zeros\n",
    "    \n",
    "    row_mask = np.logical_and(rs_mask, rz_mask)\n",
    "    col_mask = np.logical_and(cs_mask, cz_mask)\n",
    "    \n",
    "    if return_mask:\n",
    "        return (row_mask, col_mask)\n",
    "    \n",
    "    X = mtx[row_mask,:][:,col_mask]\n",
    "    c = components[row_mask]\n",
    "    f = features[col_mask]\n",
    "    \n",
    "    return (X, c, f)"
   ]
  },
  {
   "cell_type": "code",
   "execution_count": 23,
   "metadata": {},
   "outputs": [
    {
     "name": "stdout",
     "output_type": "stream",
     "text": [
      "CPU times: user 246 µs, sys: 0 ns, total: 246 µs\n",
      "Wall time: 247 µs\n"
     ]
    }
   ],
   "source": [
    "%%time\n",
    "\n",
    "mtx = np.array([[1,1,0],\n",
    "                [0,1,0],\n",
    "                [3,0,0],\n",
    "                [0,2,0]])\n",
    "\n",
    "components = np.array([1,2,3,4])\n",
    "features = np.array([1, 2, 3])\n",
    "\n",
    "X, c, f = filter_mtx(mtx, components, features, row_zeros=1, col_zeros=3)\n",
    "rm, cmask = filter_mtx(mtx, components, features, return_mask=True)"
   ]
  },
  {
   "cell_type": "code",
   "execution_count": 24,
   "metadata": {},
   "outputs": [
    {
     "data": {
      "text/plain": [
       "array([ True,  True, False])"
      ]
     },
     "execution_count": 24,
     "metadata": {},
     "output_type": "execute_result"
    }
   ],
   "source": [
    "cmask"
   ]
  },
  {
   "cell_type": "code",
   "execution_count": 25,
   "metadata": {},
   "outputs": [
    {
     "data": {
      "text/plain": [
       "array([], shape=(1, 0), dtype=int64)"
      ]
     },
     "execution_count": 25,
     "metadata": {},
     "output_type": "execute_result"
    }
   ],
   "source": [
    "X"
   ]
  },
  {
   "cell_type": "code",
   "execution_count": 26,
   "metadata": {},
   "outputs": [
    {
     "data": {
      "text/plain": [
       "False"
      ]
     },
     "execution_count": 26,
     "metadata": {},
     "output_type": "execute_result"
    }
   ],
   "source": [
    "X==mtx"
   ]
  },
  {
   "cell_type": "markdown",
   "metadata": {},
   "source": [
    "# Group isoforms into genes, and filter. \n",
    "\n",
    "go back and filter on isoforms and apply it to genes"
   ]
  },
  {
   "cell_type": "code",
   "execution_count": 27,
   "metadata": {},
   "outputs": [
    {
     "name": "stdout",
     "output_type": "stream",
     "text": [
      "CPU times: user 1.41 s, sys: 587 ms, total: 1.99 s\n",
      "Wall time: 1.99 s\n"
     ]
    }
   ],
   "source": [
    "%%time\n",
    "\n",
    "mtx        = adata.layers[\"X\"]\n",
    "components = adata.obs.cell_id.values\n",
    "features   = adata.var.transcript_id.values\n",
    "\n",
    "\n",
    "rm, cmask = filter_mtx(mtx, components, features, col_counts=1, col_zeros=1, return_mask=True)"
   ]
  },
  {
   "cell_type": "code",
   "execution_count": 28,
   "metadata": {},
   "outputs": [
    {
     "data": {
      "text/plain": [
       "69360"
      ]
     },
     "execution_count": 28,
     "metadata": {},
     "output_type": "execute_result"
    }
   ],
   "source": [
    "cmask.sum()"
   ]
  },
  {
   "cell_type": "code",
   "execution_count": 29,
   "metadata": {},
   "outputs": [],
   "source": [
    "adata = adata#[:,cmask]\n",
    "\n",
    "mtx        = adata.layers[\"X\"]\n",
    "components = adata.obs.cell_id.values\n",
    "features   = adata.var.transcript_id.values"
   ]
  },
  {
   "cell_type": "code",
   "execution_count": 30,
   "metadata": {},
   "outputs": [
    {
     "data": {
      "text/plain": [
       "AnnData object with n_obs × n_vars = 6295 × 111079 \n",
       "    obs: 'cluster_id', 'cluster_label', 'subclass_label', 'class_label', 'cluster_color', 'size', 'cell_id'\n",
       "    var: 'transcript_id', 'gene_id', 'gene_name', 'transcript_name', 'length'\n",
       "    layers: 'X', 'norm', 'log1p'"
      ]
     },
     "execution_count": 30,
     "metadata": {},
     "output_type": "execute_result"
    }
   ],
   "source": [
    "adata"
   ]
  },
  {
   "cell_type": "code",
   "execution_count": 31,
   "metadata": {},
   "outputs": [
    {
     "name": "stdout",
     "output_type": "stream",
     "text": [
      "CPU times: user 24.6 s, sys: 3.46 s, total: 28 s\n",
      "Wall time: 28 s\n"
     ]
    }
   ],
   "source": [
    "%%time\n",
    "\n",
    "mtx        = adata.layers[\"X\"].todense()\n",
    "components = adata.obs.cell_id.values\n",
    "features   = adata.var.transcript_id.values\n",
    "\n",
    "source_id = \"transcript_id\"\n",
    "target_id = \"gene_id\"\n",
    "\n",
    "\n",
    "s2t = adata.var\n",
    "\n",
    "# Data for gene matrix\n",
    "X, c, f = group_mtx(mtx, components, features, s2t)"
   ]
  },
  {
   "cell_type": "code",
   "execution_count": 32,
   "metadata": {},
   "outputs": [
    {
     "data": {
      "text/plain": [
       "AnnData object with n_obs × n_vars = 6295 × 111079 \n",
       "    obs: 'cluster_id', 'cluster_label', 'subclass_label', 'class_label', 'cluster_color', 'size', 'cell_id'\n",
       "    var: 'transcript_id', 'gene_id', 'gene_name', 'transcript_name', 'length'\n",
       "    layers: 'X', 'norm', 'log1p'"
      ]
     },
     "execution_count": 32,
     "metadata": {},
     "output_type": "execute_result"
    }
   ],
   "source": [
    "adata"
   ]
  },
  {
   "cell_type": "code",
   "execution_count": 33,
   "metadata": {},
   "outputs": [],
   "source": [
    "# generate isoform based on gene mask.\n",
    "isoform = adata[:, adata.var.gene_id.isin(f)]"
   ]
  },
  {
   "cell_type": "code",
   "execution_count": 34,
   "metadata": {},
   "outputs": [],
   "source": [
    "# generate gene\n",
    "tmp = adata.var.drop_duplicates([\"gene_id\", \"gene_name\"])\n",
    "tmp = tmp[tmp.gene_id.isin(f)]\n",
    "gene = anndata.AnnData(X=X, obs=adata.obs, var=tmp)"
   ]
  },
  {
   "cell_type": "code",
   "execution_count": 35,
   "metadata": {},
   "outputs": [
    {
     "name": "stdout",
     "output_type": "stream",
     "text": [
      "View of AnnData object with n_obs × n_vars = 6295 × 111079 \n",
      "    obs: 'cluster_id', 'cluster_label', 'subclass_label', 'class_label', 'cluster_color', 'size', 'cell_id'\n",
      "    var: 'transcript_id', 'gene_id', 'gene_name', 'transcript_name', 'length'\n",
      "    layers: 'X', 'norm', 'log1p'\n",
      "AnnData object with n_obs × n_vars = 6295 × 31053 \n",
      "    obs: 'cluster_id', 'cluster_label', 'subclass_label', 'class_label', 'cluster_color', 'size', 'cell_id'\n",
      "    var: 'transcript_id', 'gene_id', 'gene_name', 'transcript_name', 'length'\n"
     ]
    }
   ],
   "source": [
    "print(isoform)\n",
    "print(gene)"
   ]
  },
  {
   "cell_type": "code",
   "execution_count": 36,
   "metadata": {},
   "outputs": [],
   "source": [
    "gene.var.index = gene.var.gene_name.values\n",
    "isoform.var.index = isoform.var.transcript_name.values"
   ]
  },
  {
   "cell_type": "markdown",
   "metadata": {},
   "source": [
    "# Begin Check"
   ]
  },
  {
   "cell_type": "code",
   "execution_count": 37,
   "metadata": {},
   "outputs": [],
   "source": [
    "# the gene_id is OK, need to fix the gene name to reflected the fact that\n",
    "# the same gene_name is used with multiple gene_ids"
   ]
  },
  {
   "cell_type": "code",
   "execution_count": 38,
   "metadata": {},
   "outputs": [
    {
     "data": {
      "text/plain": [
       "True"
      ]
     },
     "execution_count": 38,
     "metadata": {},
     "output_type": "execute_result"
    }
   ],
   "source": [
    "adata.var.gene_id.nunique() == gene.var.gene_name.nunique()"
   ]
  },
  {
   "cell_type": "code",
   "execution_count": 39,
   "metadata": {},
   "outputs": [
    {
     "data": {
      "text/plain": [
       "True"
      ]
     },
     "execution_count": 39,
     "metadata": {},
     "output_type": "execute_result"
    }
   ],
   "source": [
    "adata.var.transcript_id.nunique() == isoform.var.transcript_name.nunique()"
   ]
  },
  {
   "cell_type": "code",
   "execution_count": 40,
   "metadata": {},
   "outputs": [],
   "source": [
    "gene.X = csr_matrix(gene.X)"
   ]
  },
  {
   "cell_type": "code",
   "execution_count": 41,
   "metadata": {},
   "outputs": [],
   "source": [
    "gene.layers[\"X\"] = gene.X.copy() # here, X is rho, the number of molecules\n",
    "isoform.layers[\"X\"] = isoform.X.copy() # here X is rho, the number of molecules"
   ]
  },
  {
   "cell_type": "markdown",
   "metadata": {},
   "source": [
    "# Perform matrix operations"
   ]
  },
  {
   "cell_type": "code",
   "execution_count": 42,
   "metadata": {},
   "outputs": [],
   "source": [
    "num_TSNE = 2\n",
    "state = 42\n",
    "metric = \"euclidean\"\n",
    "n_neighbors = 30\n",
    "num_PCA = 50\n",
    "num_NCA = 10\n",
    "\n",
    "# Filtering criteria\n",
    "cell_threshold = 250\n",
    "disp_threshold = 0.001\n",
    "\n",
    "mito_criteria = 10\n",
    "\n",
    "n_top_genes = 5000\n",
    "\n",
    "n_bins = 20\n",
    "\n",
    "flavor=\"seurat\"\n",
    "\n",
    "scale_clip = 10"
   ]
  },
  {
   "cell_type": "markdown",
   "metadata": {},
   "source": [
    "### Adding info to rows/cols"
   ]
  },
  {
   "cell_type": "code",
   "execution_count": 43,
   "metadata": {},
   "outputs": [],
   "source": [
    "# turning subclass_label into an id\n",
    "le = LabelEncoder()\n",
    "gene.obs[\"subclass_id\"] = le.fit_transform(gene.obs.subclass_label.values)\n",
    "isoform.obs[\"subclass_id\"] = le.fit_transform(isoform.obs.subclass_label.values)"
   ]
  },
  {
   "cell_type": "code",
   "execution_count": 44,
   "metadata": {},
   "outputs": [],
   "source": [
    "# turning class_label into an id\n",
    "le = LabelEncoder()\n",
    "gene.obs[\"class_id\"] = le.fit_transform(gene.obs.class_label.values)\n",
    "isoform.obs[\"class_id\"] = le.fit_transform(isoform.obs.class_label.values)"
   ]
  },
  {
   "cell_type": "code",
   "execution_count": 45,
   "metadata": {},
   "outputs": [],
   "source": [
    "gene.var[\"gene_id\"] = gene.var[\"gene_id\"].astype(str)"
   ]
  },
  {
   "cell_type": "code",
   "execution_count": 46,
   "metadata": {},
   "outputs": [],
   "source": [
    "# Adding list and number of isoforms to each gene\n",
    "g2t = isoform.var.groupby(\"gene_id\")[\"transcript_id\"].apply(list)\n",
    "gene.var[\"txn_list\"] = gene.var[\"gene_id\"].map(g2t)\n",
    "num_iso = g2t.apply(lambda x: len(x))\n",
    "gene.var[\"num_isoforms\"] = gene.var[\"gene_id\"].map(num_iso).astype(int)"
   ]
  },
  {
   "cell_type": "code",
   "execution_count": 47,
   "metadata": {},
   "outputs": [],
   "source": [
    "# Writing cell_TPM, gene_TPM, n_genes, and percent_mito for each cell\n",
    "gene.obs[\"cell_counts\"] = gene.X.sum(1)\n",
    "gene.var[\"gene_counts\"] = np.asarray(gene.X.sum(0)).reshape(-1)\n",
    "\n",
    "isoform.obs[\"cell_counts\"] = isoform.X.sum(1)\n",
    "isoform.var[\"gene_counts\"] = np.asarray(isoform.X.sum(0)).reshape(-1)\n",
    "\n",
    "mito_genes = gene.var_names.str.startswith('mt-')\n",
    "gene.obs[\"percent_mito\"] = gene[:,mito_genes].X.sum(axis=1)/gene.X.sum(axis=1)*100\n",
    "gene.obs[\"n_genes\"] = (gene.X>0).sum(axis=1)"
   ]
  },
  {
   "cell_type": "code",
   "execution_count": 48,
   "metadata": {},
   "outputs": [],
   "source": [
    "# For each gene, compute the dispersion and store it\n",
    "mtx = gene.X.todense()\n",
    "mean = np.asarray(mtx.mean(axis=0)).reshape(-1)\n",
    "var = np.asarray(np.power(mtx, 2).mean(axis=0)).reshape(-1) - mean**2\n",
    "\n",
    "dispersion = var / mean"
   ]
  },
  {
   "cell_type": "code",
   "execution_count": 49,
   "metadata": {},
   "outputs": [],
   "source": [
    "gene.var[\"dispersion\"] = dispersion\n",
    "gene.var[\"pass_disp_filter\"] = gene.var[\"dispersion\"] > disp_threshold"
   ]
  },
  {
   "cell_type": "code",
   "execution_count": 50,
   "metadata": {},
   "outputs": [
    {
     "data": {
      "text/plain": [
       "27020"
      ]
     },
     "execution_count": 50,
     "metadata": {},
     "output_type": "execute_result"
    }
   ],
   "source": [
    "gene.var[\"pass_disp_filter\"].sum()"
   ]
  },
  {
   "cell_type": "code",
   "execution_count": 51,
   "metadata": {},
   "outputs": [],
   "source": [
    "gene.obs[\"pass_count_filter\"] = gene.obs[\"cell_counts\"] > cell_threshold"
   ]
  },
  {
   "cell_type": "code",
   "execution_count": 52,
   "metadata": {},
   "outputs": [
    {
     "data": {
      "text/plain": [
       "6175"
      ]
     },
     "execution_count": 52,
     "metadata": {},
     "output_type": "execute_result"
    }
   ],
   "source": [
    "gene.obs[\"pass_count_filter\"].sum()"
   ]
  },
  {
   "cell_type": "markdown",
   "metadata": {},
   "source": [
    "### Filtering"
   ]
  },
  {
   "cell_type": "code",
   "execution_count": 53,
   "metadata": {},
   "outputs": [
    {
     "data": {
      "text/plain": [
       "(6295, 31053)"
      ]
     },
     "execution_count": 53,
     "metadata": {},
     "output_type": "execute_result"
    }
   ],
   "source": [
    "gene.shape"
   ]
  },
  {
   "cell_type": "code",
   "execution_count": 55,
   "metadata": {},
   "outputs": [
    {
     "data": {
      "text/plain": [
       "(6295, 69360)"
      ]
     },
     "execution_count": 55,
     "metadata": {},
     "output_type": "execute_result"
    }
   ],
   "source": [
    "isoform.shape"
   ]
  },
  {
   "cell_type": "code",
   "execution_count": 54,
   "metadata": {},
   "outputs": [],
   "source": [
    "# l = gene.var.txn_list[gene.var.pass_disp_filter].values\n",
    "# flat_list = [item for sublist in l for item in sublist]"
   ]
  },
  {
   "cell_type": "code",
   "execution_count": 55,
   "metadata": {},
   "outputs": [],
   "source": [
    "# gene_disp_mask = gene.var[\"pass_disp_filter\"].values\n",
    "# gene_cell_mask = gene.obs[\"pass_count_filter\"].values\n",
    "# \n",
    "# iso_disp_mask = isoform.var[\"transcript_id\"].isin(flat_list)\n",
    "# iso_cell_mask = gene.obs[\"pass_count_filter\"].values"
   ]
  },
  {
   "cell_type": "code",
   "execution_count": 56,
   "metadata": {},
   "outputs": [],
   "source": [
    "# print(gene_cell_mask.sum(), gene_disp_mask.sum())\n",
    "# print(iso_cell_mask.sum(), iso_disp_mask.sum())"
   ]
  },
  {
   "cell_type": "code",
   "execution_count": 57,
   "metadata": {},
   "outputs": [],
   "source": [
    "# gene = gene[gene_cell_mask, gene_disp_mask]\n",
    "# isoform = isoform[iso_cell_mask, iso_disp_mask]"
   ]
  },
  {
   "cell_type": "code",
   "execution_count": 58,
   "metadata": {},
   "outputs": [
    {
     "name": "stdout",
     "output_type": "stream",
     "text": [
      "(6295, 111079)\n",
      "(6295, 31053)\n"
     ]
    }
   ],
   "source": [
    "print(isoform.shape)\n",
    "print(gene.shape)"
   ]
  },
  {
   "cell_type": "code",
   "execution_count": 59,
   "metadata": {},
   "outputs": [],
   "source": [
    "#mito_mask = (gene.obs.percent_mito < mito_criteria).values"
   ]
  },
  {
   "cell_type": "code",
   "execution_count": 60,
   "metadata": {},
   "outputs": [],
   "source": [
    "# mito_mask.sum()"
   ]
  },
  {
   "cell_type": "code",
   "execution_count": 61,
   "metadata": {},
   "outputs": [],
   "source": [
    "# gene = gene[mito_mask,:]\n",
    "# isoform = isoform[mito_mask,:]"
   ]
  },
  {
   "cell_type": "code",
   "execution_count": 62,
   "metadata": {},
   "outputs": [
    {
     "name": "stdout",
     "output_type": "stream",
     "text": [
      "(6295, 31053)\n",
      "(6295, 111079)\n"
     ]
    }
   ],
   "source": [
    "print(gene.shape)\n",
    "print(isoform.shape)"
   ]
  },
  {
   "cell_type": "markdown",
   "metadata": {},
   "source": [
    "### Adding info to matrices"
   ]
  },
  {
   "cell_type": "code",
   "execution_count": 63,
   "metadata": {},
   "outputs": [],
   "source": [
    "gene.layers[\"norm\"] = normalize(gene.X, norm='l1', axis=1)*1000000\n",
    "isoform.layers[\"norm\"] = normalize(isoform.X, norm='l1', axis=1)*1000000"
   ]
  },
  {
   "cell_type": "code",
   "execution_count": 64,
   "metadata": {},
   "outputs": [],
   "source": [
    "gene.layers[\"log1p\"] = np.log1p(gene.layers[\"norm\"])\n",
    "isoform.layers[\"log1p\"] = np.log1p(isoform.layers[\"norm\"])"
   ]
  },
  {
   "cell_type": "code",
   "execution_count": 65,
   "metadata": {},
   "outputs": [],
   "source": [
    "gene.X = gene.layers[\"log1p\"]\n",
    "isoform.X = isoform.layers[\"log1p\"]"
   ]
  },
  {
   "cell_type": "code",
   "execution_count": 66,
   "metadata": {},
   "outputs": [],
   "source": [
    "tmp = gene.copy()"
   ]
  },
  {
   "cell_type": "code",
   "execution_count": 67,
   "metadata": {},
   "outputs": [],
   "source": [
    "scanp.pp.log1p(tmp)"
   ]
  },
  {
   "cell_type": "code",
   "execution_count": 68,
   "metadata": {},
   "outputs": [],
   "source": [
    "d = tmp.uns"
   ]
  },
  {
   "cell_type": "code",
   "execution_count": 69,
   "metadata": {},
   "outputs": [],
   "source": [
    "gene.uns = d\n",
    "isoform.uns = d"
   ]
  },
  {
   "cell_type": "markdown",
   "metadata": {},
   "source": [
    "### Highly Variable Genes"
   ]
  },
  {
   "cell_type": "code",
   "execution_count": 70,
   "metadata": {},
   "outputs": [],
   "source": [
    "scanp.pp.highly_variable_genes(gene, n_top_genes=n_top_genes, flavor=flavor, n_bins=n_bins)\n",
    "hvg_mask = gene.var.highly_variable.values"
   ]
  },
  {
   "cell_type": "code",
   "execution_count": 71,
   "metadata": {},
   "outputs": [],
   "source": [
    "scanp.pp.highly_variable_genes(isoform, n_top_genes=n_top_genes, flavor=flavor, n_bins=n_bins)\n",
    "hvi_mask = isoform.var.highly_variable.values"
   ]
  },
  {
   "cell_type": "markdown",
   "metadata": {},
   "source": [
    "### Scaling data to unit variance, zero mean for clustering"
   ]
  },
  {
   "cell_type": "code",
   "execution_count": 72,
   "metadata": {},
   "outputs": [],
   "source": [
    "from sklearn.preprocessing import scale"
   ]
  },
  {
   "cell_type": "code",
   "execution_count": 73,
   "metadata": {},
   "outputs": [
    {
     "name": "stdout",
     "output_type": "stream",
     "text": [
      "CPU times: user 5.72 s, sys: 2.51 s, total: 8.23 s\n",
      "Wall time: 8.23 s\n"
     ]
    }
   ],
   "source": [
    "%%time\n",
    "mat = gene.layers[\"log1p\"].todense()\n",
    "mtx = scale(mat, axis=0, with_mean=True, with_std=True, copy=True)\n",
    "gene.X = mtx"
   ]
  },
  {
   "cell_type": "code",
   "execution_count": 109,
   "metadata": {},
   "outputs": [
    {
     "name": "stdout",
     "output_type": "stream",
     "text": [
      "CPU times: user 31.1 s, sys: 1min 19s, total: 1min 51s\n",
      "Wall time: 1min 51s\n"
     ]
    }
   ],
   "source": [
    "%%time\n",
    "mat = isoform.layers[\"log1p\"].todense()\n",
    "mtx = scale(mat, axis=0, with_mean=True, with_std=True, copy=True)\n",
    "isoform.X = mtx"
   ]
  },
  {
   "cell_type": "code",
   "execution_count": 110,
   "metadata": {},
   "outputs": [
    {
     "name": "stdout",
     "output_type": "stream",
     "text": [
      "AnnData object with n_obs × n_vars = 6295 × 31053 \n",
      "    obs: 'cluster_id', 'cluster_label', 'subclass_label', 'class_label', 'cluster_color', 'size', 'cell_id', 'subclass_id', 'class_id', 'cell_counts', 'percent_mito', 'n_genes', 'pass_count_filter'\n",
      "    var: 'transcript_id', 'gene_id', 'gene_name', 'transcript_name', 'length', 'txn_list', 'num_isoforms', 'gene_counts', 'dispersion', 'pass_disp_filter', 'highly_variable', 'means', 'dispersions', 'dispersions_norm'\n",
      "    uns: 'log1p'\n",
      "    layers: 'X', 'norm', 'log1p'\n",
      "AnnData object with n_obs × n_vars = 6295 × 111079 \n",
      "    obs: 'cluster_id', 'cluster_label', 'subclass_label', 'class_label', 'cluster_color', 'size', 'cell_id', 'subclass_id', 'class_id', 'cell_counts'\n",
      "    var: 'transcript_id', 'gene_id', 'gene_name', 'transcript_name', 'length', 'gene_counts', 'highly_variable', 'means', 'dispersions', 'dispersions_norm'\n",
      "    uns: 'log1p'\n",
      "    layers: 'X', 'norm', 'log1p'\n"
     ]
    }
   ],
   "source": [
    "print(gene)\n",
    "print(isoform)"
   ]
  },
  {
   "cell_type": "code",
   "execution_count": 111,
   "metadata": {},
   "outputs": [
    {
     "name": "stderr",
     "output_type": "stream",
     "text": [
      "... storing 'gene_name' as categorical\n"
     ]
    }
   ],
   "source": [
    "gene.write(\"../cell_ranger_annotation/no_filter_gene.h5ad\")\n",
    "isoform.write(\"../cell_ranger_annotation/no_filter_isoform.h5ad\")"
   ]
  },
  {
   "cell_type": "code",
   "execution_count": null,
   "metadata": {},
   "outputs": [],
   "source": []
  },
  {
   "cell_type": "markdown",
   "metadata": {},
   "source": [
    "# Perform comparison"
   ]
  },
  {
   "cell_type": "code",
   "execution_count": 5,
   "metadata": {},
   "outputs": [],
   "source": [
    "ss = anndata.read_h5ad(\"../cell_ranger_annotation/no_filter_gene.h5ad\")"
   ]
  },
  {
   "cell_type": "code",
   "execution_count": 6,
   "metadata": {},
   "outputs": [],
   "source": [
    "t_adata = anndata.read_h5ad(\"../cell_ranger_annotation/10xv3_gene.h5ad\")"
   ]
  },
  {
   "cell_type": "code",
   "execution_count": 7,
   "metadata": {},
   "outputs": [],
   "source": [
    "tenx = t_adata[:,t_adata.var.index.isin(ss.var.index)]"
   ]
  },
  {
   "cell_type": "code",
   "execution_count": 8,
   "metadata": {},
   "outputs": [],
   "source": [
    "tenx = tenx[:,tenx.var.sort_index().index]"
   ]
  },
  {
   "cell_type": "code",
   "execution_count": 9,
   "metadata": {},
   "outputs": [],
   "source": [
    "from sklearn.preprocessing import normalize"
   ]
  },
  {
   "cell_type": "code",
   "execution_count": 11,
   "metadata": {},
   "outputs": [],
   "source": [
    "tenx.layers[\"X\"] = tenx.X\n",
    "tenx.layers[\"norm\"] = normalize(tenx.X, norm='l1', axis=1)*1000000\n",
    "tenx.layers[\"log1p\"] = csr_matrix(np.log1p(tenx.layers[\"norm\"]))"
   ]
  },
  {
   "cell_type": "code",
   "execution_count": null,
   "metadata": {},
   "outputs": [],
   "source": [
    "from sklearn.preprocessing import scale"
   ]
  },
  {
   "cell_type": "code",
   "execution_count": null,
   "metadata": {},
   "outputs": [],
   "source": [
    "%%time\n",
    "mat = tenx.layers[\"log1p\"].todense()\n",
    "mtx = scale(mat, axis=0, with_mean=True, with_std=True, copy=True)\n",
    "tenx.X = mtx"
   ]
  },
  {
   "cell_type": "code",
   "execution_count": null,
   "metadata": {},
   "outputs": [],
   "source": [
    "ss = ss[:,ss.var.sort_index().index]"
   ]
  },
  {
   "cell_type": "code",
   "execution_count": null,
   "metadata": {},
   "outputs": [],
   "source": [
    "del mat\n",
    "del mtx"
   ]
  },
  {
   "cell_type": "code",
   "execution_count": null,
   "metadata": {},
   "outputs": [],
   "source": [
    "def split_by_target(mat, targets, target, axis=0):\n",
    "    \"\"\"\n",
    "    Split the rows of mat by the proper assignment\n",
    "    \n",
    "    mat = ndarray\n",
    "    targets, length is equal to number of components (axis=0) or features (axis=1)\n",
    "    target is a singular element from unique(assignments/features) \n",
    "    \"\"\"\n",
    "    if axis==0 and len(targets) != mat.shape[axis]: return -1\n",
    "    if axis==1 and len(targets) != mat.shape[axis]: return -1\n",
    "        \n",
    "    mask = targets == target\n",
    "    \n",
    "    if axis==0:\n",
    "        t_mat = mat[mask]  # target matrix\n",
    "        c_mat = mat[~mask] # complement matrix\n",
    "    elif axis==1:\n",
    "        t_mat = mat[:, mask]  # target matrix\n",
    "        c_mat = mat[:, ~mask] # complement matrix\n",
    "    \n",
    "    return (t_mat, c_mat)\n",
    "\n",
    "def group_mtx_by_cluster(mtx, components, features, s2t, source_id=\"cell_id\", target_id=\"subclass_label\", by=\"components\"):\n",
    "    \"\"\"\n",
    "    mtx: ndarray components by features \n",
    "    components: labels for rows of mtx\n",
    "    features: labels for columns of mtx\n",
    "    s2t: pandas dataframe mapping source (features or components) to a\n",
    "    targets features(components) to group by\n",
    "    target_id: column name in s2t to group by\n",
    "    \"\"\"\n",
    "    if target_id not in s2t.columns: return -1\n",
    "    \n",
    "    ncomp   = components.shape[0]\n",
    "    nfeat   = features.shape[0]\n",
    "    ntarget = s2t[target_id].nunique()\n",
    "    \n",
    "    if by ==\"features\": \n",
    "        source = features\n",
    "    elif by ==\"components\": \n",
    "        source = components\n",
    "    \n",
    "    # Map the source to an index\n",
    "    source2idx = dict(zip(source, range(len(source))))\n",
    "    # Map the target to a list of source indices\n",
    "    target2idx = (s2t.groupby(target_id)[source_id].apply(lambda x: [source2idx[i] for i in x])).to_dict()\n",
    "    \n",
    "    # array of unique targets\n",
    "    unique = s2t[target_id].unique().astype(str)\n",
    "    nuniq = unique.shape[0]\n",
    "    X = np.zeros((nuniq, mtx.shape[1]))\n",
    "    \n",
    "    for tidx, t in enumerate(unique):\n",
    "        # Grab the matrix indices corresponding to columns and source columns to group by\n",
    "        source_indices = target2idx[t]\n",
    "        #print(source_indices)\n",
    "        \n",
    "        # breaks generality\n",
    "        sub_mtx = mtx[source_indices,:].mean(axis=0) # Sum on source indicies\n",
    "        X[tidx,:] = sub_mtx # place summed vector in new matrix\n",
    "        \n",
    "    # Return matrix that is grouped by\n",
    "    return (X, components, unique)"
   ]
  },
  {
   "cell_type": "code",
   "execution_count": null,
   "metadata": {},
   "outputs": [],
   "source": [
    "tenx_mat = tenx.X\n",
    "tenx_ass = tenx.obs.subclass_label.values"
   ]
  },
  {
   "cell_type": "code",
   "execution_count": null,
   "metadata": {},
   "outputs": [],
   "source": [
    "ss_mat = ss.X\n",
    "ss_ass = ss.obs.subclass_label.values"
   ]
  },
  {
   "cell_type": "code",
   "execution_count": null,
   "metadata": {},
   "outputs": [],
   "source": [
    "features = tenx.var.gene_name.values\n",
    "\n",
    "unique = np.intersect1d(np.unique(tenx_ass), np.unique(ss_ass))"
   ]
  },
  {
   "cell_type": "code",
   "execution_count": null,
   "metadata": {},
   "outputs": [],
   "source": [
    "def nd(arr):\n",
    "    return np.asarray(arr).reshape(-1)"
   ]
  },
  {
   "cell_type": "code",
   "execution_count": null,
   "metadata": {},
   "outputs": [],
   "source": [
    "mat = tenx.layers[\"log1p\"]\n",
    "\n",
    "lower = 0.5\n",
    "\n",
    "\n",
    "bool_mask = np.zeros((unique.shape[0], features.shape[0]), dtype=bool)\n",
    "\n",
    "for uidx, u in enumerate(unique):\n",
    "    t_mat, _ = split_by_target(mat, tenx_ass, u)\n",
    "\n",
    "    numc = t_mat.shape[0]\n",
    "    numnz = (t_mat>0).sum(axis=0)\n",
    "\n",
    "    #arr = np.logical_and(nd(numnz>lower*numc), nd(numnz<upper*numc))\n",
    "    arr = nd(numnz>lower*numc)\n",
    "    \n",
    "    #arr = np.logical_and(np.array(t_mat.mean(axis=0)>threshold).reshape(-1), (np.array((t_mat>0).sum(axis=0)>t_mat.shape[0]*frac).reshape(-1)))\n",
    "    print(\"[{} of {}] {:,}: {}\".format(uidx+1, unique.shape[0],arr.sum(), u) )\n",
    "    \n",
    "    #argnmax = arr.argsort()[-n:][::-1]\n",
    "\n",
    "    bool_mask[uidx,:][arr] = True"
   ]
  },
  {
   "cell_type": "code",
   "execution_count": null,
   "metadata": {},
   "outputs": [],
   "source": [
    "from scipy import stats"
   ]
  },
  {
   "cell_type": "code",
   "execution_count": null,
   "metadata": {},
   "outputs": [],
   "source": [
    "%%time\n",
    "r2 = []\n",
    "ss_x = []\n",
    "tenx_x = []\n",
    "\n",
    "# u_mat_tenx = []\n",
    "# u_mat_ss   = []\n",
    "\n",
    "for uidx, u in enumerate(unique):\n",
    "    tenx_t_mat, _ = split_by_target(tenx_mat, tenx_ass, u)\n",
    "    ss_t_mat, _ = split_by_target(ss_mat, ss_ass, u)\n",
    "    \n",
    "    # u_mat_tenx.append(tenx_t_mat)\n",
    "    # u_mat_ss.append(ss_t_mat)\n",
    "    \n",
    "    \n",
    "    t = np.asarray(tenx_t_mat[:,bool_mask[uidx]].mean(axis=0)).reshape(-1)\n",
    "    s = np.asarray(ss_t_mat[:,bool_mask[uidx]].mean(axis=0)).reshape(-1)\n",
    "    \n",
    "    ss_x.append(s)\n",
    "    tenx_x.append(t)\n",
    "    \n",
    "    r, p = stats.pearsonr(t, s)\n",
    "    r2.append(r)\n",
    "    print(\"[{} of {}] {:,.2f}: {}\".format(uidx+1, unique.shape[0],r**2, u) )"
   ]
  },
  {
   "cell_type": "code",
   "execution_count": null,
   "metadata": {},
   "outputs": [],
   "source": [
    "ss_size = ss.obs[\"subclass_label\"].value_counts()[unique]"
   ]
  },
  {
   "cell_type": "code",
   "execution_count": null,
   "metadata": {},
   "outputs": [],
   "source": [
    "cluster_cmap = {\n",
    "\"Astro\": (0.38823529411764707, 0.4745098039215686,  0.2235294117647059 ),  # 637939,\n",
    "\"Endo\" : (0.5490196078431373,  0.6352941176470588,  0.3215686274509804 ),  # 8ca252,\n",
    "\"SMC\"  : (0.7098039215686275,  0.8117647058823529,  0.4196078431372549 ),  # b5cf6b,\n",
    "\"VLMC\" : (0.807843137254902,   0.8588235294117647,  0.611764705882353  ),  # cedb9c,\n",
    "\"Low Quality\" : (0,0,0),\n",
    "\"L2/3 IT\" : (0.9921568627450981,  0.6823529411764706,  0.4196078431372549  ),  # fdae6b\n",
    "\"L5 ET\" : (0.9921568627450981,  0.8156862745098039,  0.6352941176470588  ),  # fdd0a2\n",
    "\"L5 IT\" : (0.5176470588235295,  0.23529411764705882, 0.2235294117647059 ),  # 843c39\n",
    "\"L5/6 NP\": \"#D43F3A\",\n",
    "\"L6 CT\" : (0.8392156862745098,  0.3803921568627451,  0.4196078431372549 ),  # d6616b\n",
    "\"L6 IT\" : (0.9058823529411765,  0.5882352941176471,  0.611764705882353  ),  # e7969c\n",
    "\"L6b\" : (1.0,                 0.4980392156862745,  0.054901960784313725),  # ff7f0e\n",
    "\"L6 IT Car3\" : (1.0,                 0.7333333333333333,  0.47058823529411764 ),  # ffbb78\n",
    "\"Lamp5\" : (0.19215686274509805, 0.5098039215686274,  0.7411764705882353  ),  # 3182bd # blues\n",
    "\"Sncg\" : (0.4196078431372549,  0.6823529411764706,  0.8392156862745098  ),  # 6baed6\n",
    "\"Vip\" : (0.6196078431372549,  0.792156862745098,   0.8823529411764706  ),  # 9ecae1\n",
    "\"Sst\" : (0.7764705882352941,  0.8588235294117647,  0.9372549019607843  ),  # c6dbef\n",
    "\"Pvalb\":(0.7372549019607844,  0.7411764705882353,  0.8627450980392157  ),  # bcbddc\n",
    "}"
   ]
  },
  {
   "cell_type": "code",
   "execution_count": null,
   "metadata": {},
   "outputs": [],
   "source": [
    "fig, ax = plt.subplots(figsize=(10,7))\n",
    "\n",
    "x = ss_size\n",
    "y = r2\n",
    "\n",
    "for i, txt in enumerate(unique):\n",
    "    ax.annotate(i, (x[i], y[i]))\n",
    "    ax.scatter(x[i], y[i], label=\"{}: {}\".format(i, txt), color=cluster_cmap[txt])\n",
    "ax.set_ylim((0, 1))\n",
    "ax.set_xscale(\"log\")\n",
    "    \n",
    "ax.set_xlabel(\"Number of Smart-seq2 cells\")\n",
    "ax.set_ylabel(\"Pearson correlation\")\n",
    "ax.legend(fontsize=15,loc='center left', bbox_to_anchor=(1, 0.5), markerscale=3)\n",
    "plt.savefig(\"./figures/10x_subclass_gene_correlation.png\", bbox_inches='tight', dpi=300)\n",
    "plt.show()"
   ]
  },
  {
   "cell_type": "code",
   "execution_count": null,
   "metadata": {},
   "outputs": [],
   "source": [
    "def trim_axs(axs, N):\n",
    "    \"\"\"little helper to massage the axs list to have correct length...\"\"\"\n",
    "    axs = axs.flat\n",
    "    for ax in axs[N:]:\n",
    "        ax.remove()\n",
    "    return axs[:N]"
   ]
  },
  {
   "cell_type": "code",
   "execution_count": null,
   "metadata": {},
   "outputs": [],
   "source": [
    "fig, ax = plt.subplots(figsize=(15,15), ncols=4, nrows=5)\n",
    "fig.subplots_adjust(hspace=0, wspace=0)\n",
    "axs = trim_axs(ax, len(unique))\n",
    "\n",
    "for cidx, (ax, c) in enumerate(zip(axs, unique)):\n",
    "    \n",
    "    \n",
    "    x = ss_x[cidx]\n",
    "    y = tenx_x[cidx]\n",
    "\n",
    "    \n",
    "    ax.scatter(x, y, label=\"{}: {:,}\".format(c, ss_size[cidx]), color=\"k\", alpha=0.1)\n",
    "\n",
    "    slope, intercept, r_value, p_value, std_err = stats.linregress(x, y)\n",
    "\n",
    "    minx = min(x)\n",
    "    maxx = max(x)\n",
    "    x = np.linspace(minx, maxx, 10)\n",
    "    y = slope*x+intercept\n",
    "    ax.plot(x, y, label=\"corr : {:,.2f}\".format(r_value), color=\"red\", linewidth=3)\n",
    "    ax.legend(fontsize=15)\n",
    "    ax.xaxis.set_ticklabels([])\n",
    "    ax.yaxis.set_ticklabels([])\n",
    "    ax.set_axis_off()\n",
    "    if c == \"Low Quality\":\n",
    "        ax.set_axis_on()\n",
    "fig.text(0.5, 0.1, 'Smart-seq2 scaled $log(TPM+1)$', ha='center', va='center', fontsize=30)\n",
    "fig.text(0.1, 0.5, '10xv3 scaled $log(CPM+1)$', ha='center', va='center', rotation='vertical', fontsize=30)\n",
    "plt.savefig(\"./figures/10x_subclass_gene_correlation_scatter.png\", bbox_inches='tight',dpi=300)\n",
    "\n",
    "plt.show()"
   ]
  },
  {
   "cell_type": "markdown",
   "metadata": {},
   "source": [
    "# At the cluster level"
   ]
  },
  {
   "cell_type": "code",
   "execution_count": null,
   "metadata": {},
   "outputs": [],
   "source": [
    "tenx_mat = tenx.X\n",
    "tenx_ass = tenx.obs.cluster_label.values"
   ]
  },
  {
   "cell_type": "code",
   "execution_count": null,
   "metadata": {},
   "outputs": [],
   "source": [
    "ss_mat = ss.X\n",
    "ss_ass = ss.obs.cluster_label.values"
   ]
  },
  {
   "cell_type": "code",
   "execution_count": null,
   "metadata": {},
   "outputs": [],
   "source": [
    "features = tenx.var.gene_name.values\n",
    "\n",
    "unique = np.intersect1d(np.unique(tenx_ass), np.unique(ss_ass))"
   ]
  },
  {
   "cell_type": "code",
   "execution_count": null,
   "metadata": {},
   "outputs": [],
   "source": [
    "def nd(arr):\n",
    "    return np.asarray(arr).reshape(-1)"
   ]
  },
  {
   "cell_type": "code",
   "execution_count": null,
   "metadata": {},
   "outputs": [],
   "source": [
    "mat = tenx.layers[\"log1p\"]\n",
    "\n",
    "lower = 0.5\n",
    "\n",
    "\n",
    "bool_mask = np.zeros((unique.shape[0], features.shape[0]), dtype=bool)\n",
    "\n",
    "for uidx, u in enumerate(unique):\n",
    "    t_mat, _ = split_by_target(mat, tenx_ass, u)\n",
    "\n",
    "    numc = t_mat.shape[0]\n",
    "    numnz = (t_mat>0).sum(axis=0)\n",
    "\n",
    "    #arr = np.logical_and(nd(numnz>lower*numc), nd(numnz<upper*numc))\n",
    "    arr = nd(numnz>lower*numc)\n",
    "    \n",
    "    #arr = np.logical_and(np.array(t_mat.mean(axis=0)>threshold).reshape(-1), (np.array((t_mat>0).sum(axis=0)>t_mat.shape[0]*frac).reshape(-1)))\n",
    "    print(\"[{} of {}] {:,}: {}\".format(uidx+1, unique.shape[0],arr.sum(), u) )\n",
    "    \n",
    "    #argnmax = arr.argsort()[-n:][::-1]\n",
    "\n",
    "    bool_mask[uidx,:][arr] = True"
   ]
  },
  {
   "cell_type": "code",
   "execution_count": null,
   "metadata": {},
   "outputs": [],
   "source": [
    "%%time\n",
    "r2 = []\n",
    "ss_x = []\n",
    "tenx_x = []\n",
    "\n",
    "# u_mat_tenx = []\n",
    "# u_mat_ss   = []\n",
    "\n",
    "for uidx, u in enumerate(unique):\n",
    "    tenx_t_mat, _ = split_by_target(tenx_mat, tenx_ass, u)\n",
    "    ss_t_mat, _ = split_by_target(ss_mat, ss_ass, u)\n",
    "    \n",
    "    # u_mat_tenx.append(tenx_t_mat)\n",
    "    # u_mat_ss.append(ss_t_mat)\n",
    "    \n",
    "    \n",
    "    t = np.asarray(tenx_t_mat[:,bool_mask[uidx]].mean(axis=0)).reshape(-1)\n",
    "    s = np.asarray(ss_t_mat[:,bool_mask[uidx]].mean(axis=0)).reshape(-1)\n",
    "    \n",
    "    ss_x.append(s)\n",
    "    tenx_x.append(t)\n",
    "    \n",
    "    r, p = stats.pearsonr(t, s)\n",
    "    r2.append(r)\n",
    "    print(\"[{} of {}] {:,.2f}: {}\".format(uidx+1, unique.shape[0],r**2, u) )"
   ]
  },
  {
   "cell_type": "code",
   "execution_count": null,
   "metadata": {},
   "outputs": [],
   "source": []
  },
  {
   "cell_type": "code",
   "execution_count": null,
   "metadata": {},
   "outputs": [],
   "source": [
    "ss_size = ss.obs[\"cluster_label\"].value_counts()[unique]"
   ]
  },
  {
   "cell_type": "code",
   "execution_count": null,
   "metadata": {},
   "outputs": [],
   "source": [
    "cluster_cmap = {\n",
    "\"Astro\": (0.38823529411764707, 0.4745098039215686,  0.2235294117647059 ),  # 637939,\n",
    "\"Endo\" : (0.5490196078431373,  0.6352941176470588,  0.3215686274509804 ),  # 8ca252,\n",
    "\"SMC\"  : (0.7098039215686275,  0.8117647058823529,  0.4196078431372549 ),  # b5cf6b,\n",
    "\"VLMC\" : (0.807843137254902,   0.8588235294117647,  0.611764705882353  ),  # cedb9c,\n",
    "\"Low Quality\" : (0,0,0),\n",
    "\"L2/3 IT\" : (0.9921568627450981,  0.6823529411764706,  0.4196078431372549  ),  # fdae6b\n",
    "\"L5 ET\" : (0.9921568627450981,  0.8156862745098039,  0.6352941176470588  ),  # fdd0a2\n",
    "\"L5 IT\" : (0.5176470588235295,  0.23529411764705882, 0.2235294117647059 ),  # 843c39\n",
    "\"L5/6 NP\": \"#D43F3A\",\n",
    "\"L6 CT\" : (0.8392156862745098,  0.3803921568627451,  0.4196078431372549 ),  # d6616b\n",
    "\"L6 IT\" : (0.9058823529411765,  0.5882352941176471,  0.611764705882353  ),  # e7969c\n",
    "\"L6b\" : (1.0,                 0.4980392156862745,  0.054901960784313725),  # ff7f0e\n",
    "\"L6 IT Car3\" : (1.0,                 0.7333333333333333,  0.47058823529411764 ),  # ffbb78\n",
    "\"Lamp5\" : (0.19215686274509805, 0.5098039215686274,  0.7411764705882353  ),  # 3182bd # blues\n",
    "\"Sncg\" : (0.4196078431372549,  0.6823529411764706,  0.8392156862745098  ),  # 6baed6\n",
    "\"Vip\" : (0.6196078431372549,  0.792156862745098,   0.8823529411764706  ),  # 9ecae1\n",
    "\"Sst\" : (0.7764705882352941,  0.8588235294117647,  0.9372549019607843  ),  # c6dbef\n",
    "\"Pvalb\":(0.7372549019607844,  0.7411764705882353,  0.8627450980392157  ),  # bcbddc\n",
    "}"
   ]
  },
  {
   "cell_type": "code",
   "execution_count": null,
   "metadata": {},
   "outputs": [],
   "source": [
    "fig, ax = plt.subplots(figsize=(10,7))\n",
    "\n",
    "x = ss_size\n",
    "y = r2\n",
    "\n",
    "for i, txt in enumerate(unique):\n",
    "    ax.annotate(i, (x[i], y[i]))\n",
    "    ax.scatter(x[i], y[i], label=\"{}: {}\".format(i, txt), color=cluster_cmap[\" \".join(txt.split(\" \")[0:-1])])\n",
    "ax.set_ylim((0, 1))\n",
    "ax.set_xscale(\"log\")\n",
    "    \n",
    "ax.set_xlabel(\"Number of Smart-seq2 cells\")\n",
    "ax.set_ylabel(\"Pearson correlation\")\n",
    "ax.legend(fontsize=15,loc='center left', bbox_to_anchor=(1, 0.5), markerscale=3)\n",
    "plt.savefig(\"./figures/10x_cluster_gene_correlation.png\", bbox_inches='tight', dpi=300)\n",
    "plt.show()"
   ]
  },
  {
   "cell_type": "code",
   "execution_count": null,
   "metadata": {},
   "outputs": [],
   "source": []
  },
  {
   "cell_type": "code",
   "execution_count": null,
   "metadata": {},
   "outputs": [],
   "source": []
  },
  {
   "cell_type": "code",
   "execution_count": null,
   "metadata": {},
   "outputs": [],
   "source": [
    "def trim_axs(axs, N):\n",
    "    \"\"\"little helper to massage the axs list to have correct length...\"\"\"\n",
    "    axs = axs.flat\n",
    "    for ax in axs[N:]:\n",
    "        ax.remove()\n",
    "    return axs[:N]"
   ]
  },
  {
   "cell_type": "code",
   "execution_count": null,
   "metadata": {},
   "outputs": [],
   "source": [
    "fig, ax = plt.subplots(figsize=(15,15), ncols=4, nrows=6)\n",
    "fig.subplots_adjust(hspace=0, wspace=0)\n",
    "axs = trim_axs(ax, len(unique))\n",
    "\n",
    "for cidx, (ax, c) in enumerate(zip(axs, unique)):\n",
    "    \n",
    "    \n",
    "    x = ss_x[cidx]\n",
    "    y = tenx_x[cidx]\n",
    "\n",
    "    \n",
    "    ax.scatter(x, y, label=\"{}: {:,}\".format(c, ss_size[cidx]), color=\"k\", alpha=0.1)\n",
    "\n",
    "    slope, intercept, r_value, p_value, std_err = stats.linregress(x, y)\n",
    "\n",
    "    minx = min(x)\n",
    "    maxx = max(x)\n",
    "    x = np.linspace(minx, maxx, 10)\n",
    "    y = slope*x+intercept\n",
    "    ax.plot(x, y, label=\"corr : {:,.2f}\".format(r_value), color=\"red\", linewidth=3)\n",
    "    ax.legend(fontsize=15)\n",
    "    ax.xaxis.set_ticklabels([])\n",
    "    ax.yaxis.set_ticklabels([])\n",
    "    ax.set_axis_off()\n",
    "    if c == \"Low Quality\":\n",
    "        ax.set_axis_on()\n",
    "fig.text(0.5, 0.1, 'Smart-seq2 scaled $log(TPM+1)$', ha='center', va='center', fontsize=30)\n",
    "fig.text(0.1, 0.5, '10xv3 scaled $log(CPM+1)$', ha='center', va='center', rotation='vertical', fontsize=30)\n",
    "plt.savefig(\"./figures/10x_cluster_gene_correlation_scatter.png\", bbox_inches='tight',dpi=300)\n",
    "\n",
    "plt.show()"
   ]
  },
  {
   "cell_type": "code",
   "execution_count": null,
   "metadata": {},
   "outputs": [],
   "source": []
  }
 ],
 "metadata": {
  "kernelspec": {
   "display_name": "Python 3",
   "language": "python",
   "name": "python3"
  },
  "language_info": {
   "codemirror_mode": {
    "name": "ipython",
    "version": 3
   },
   "file_extension": ".py",
   "mimetype": "text/x-python",
   "name": "python",
   "nbconvert_exporter": "python",
   "pygments_lexer": "ipython3",
   "version": "3.7.4"
  }
 },
 "nbformat": 4,
 "nbformat_minor": 4
}
