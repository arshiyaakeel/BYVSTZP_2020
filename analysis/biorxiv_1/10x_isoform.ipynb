{
 "cells": [
  {
   "cell_type": "code",
   "execution_count": 1,
   "metadata": {},
   "outputs": [
    {
     "name": "stdout",
     "output_type": "stream",
     "text": [
      "Sat Feb 29 18:59:11 PST 2020\n"
     ]
    }
   ],
   "source": [
    "!date"
   ]
  },
  {
   "cell_type": "markdown",
   "metadata": {},
   "source": [
    "# 10x correlation on isoforms"
   ]
  },
  {
   "cell_type": "code",
   "execution_count": 1,
   "metadata": {},
   "outputs": [],
   "source": [
    "import anndata\n",
    "import glob\n",
    "import pandas as pd\n",
    "import numpy as np\n",
    "import matplotlib.pyplot as plt\n",
    "import matplotlib as mpl\n",
    "import matplotlib.patches as mpatches\n",
    "import scanpy as scanp\n",
    "from scipy.stats import ks_2samp, ttest_ind\n",
    "from scipy import stats\n",
    "from scipy.sparse import csr_matrix\n",
    "from sklearn.decomposition import TruncatedSVD\n",
    "from sklearn.preprocessing import normalize\n",
    "from sklearn.manifold import TSNE\n",
    "from umap import UMAP\n",
    "from sklearn.cluster import KMeans\n",
    "from sklearn.metrics import adjusted_rand_score\n",
    "from sklearn.preprocessing import LabelEncoder\n",
    "from sklearn.neighbors import NeighborhoodComponentsAnalysis\n",
    "from matplotlib import cm\n",
    "import ast\n",
    "import warnings\n",
    "warnings.filterwarnings('ignore')\n",
    "\n",
    "def nd(arr):\n",
    "    return np.asarray(arr).reshape(-1)\n",
    "\n",
    "fsize=20\n",
    "\n",
    "plt.rcParams.update({'font.size': fsize})\n",
    "%config InlineBackend.figure_format = 'retina'"
   ]
  },
  {
   "cell_type": "code",
   "execution_count": 2,
   "metadata": {},
   "outputs": [],
   "source": [
    "path = \"/home/sina/projects/mop/mop_10xv3\"\n",
    "file_paths = glob.glob(path + \"/tcc_gene_out*/counts_filtered/adata.h5ad\")"
   ]
  },
  {
   "cell_type": "code",
   "execution_count": 5,
   "metadata": {},
   "outputs": [],
   "source": [
    "file_paths = np.sort(file_paths).tolist()"
   ]
  },
  {
   "cell_type": "code",
   "execution_count": 6,
   "metadata": {},
   "outputs": [
    {
     "data": {
      "text/plain": [
       "['/home/sina/projects/mop/mop_10xv3/tcc_gene_out_L8TX_181211_01_A01_S01_L003/counts_filtered/adata.h5ad',\n",
       " '/home/sina/projects/mop/mop_10xv3/tcc_gene_out_L8TX_181211_01_B01_S01_L003/counts_filtered/adata.h5ad',\n",
       " '/home/sina/projects/mop/mop_10xv3/tcc_gene_out_L8TX_181211_01_C01_S01_L003/counts_filtered/adata.h5ad',\n",
       " '/home/sina/projects/mop/mop_10xv3/tcc_gene_out_L8TX_181211_01_D01_S01_L003/counts_filtered/adata.h5ad',\n",
       " '/home/sina/projects/mop/mop_10xv3/tcc_gene_out_L8TX_181211_01_E01_S01_L003/counts_filtered/adata.h5ad',\n",
       " '/home/sina/projects/mop/mop_10xv3/tcc_gene_out_L8TX_181211_01_F01_S01_L003/counts_filtered/adata.h5ad',\n",
       " '/home/sina/projects/mop/mop_10xv3/tcc_gene_out_L8TX_181211_01_G12_S01_L003/counts_filtered/adata.h5ad',\n",
       " '/home/sina/projects/mop/mop_10xv3/tcc_gene_out_L8TX_181211_01_H12_S01_L003/counts_filtered/adata.h5ad',\n",
       " '/home/sina/projects/mop/mop_10xv3/tcc_gene_out_L8TX_190430_01_A08_S01_L003/counts_filtered/adata.h5ad',\n",
       " '/home/sina/projects/mop/mop_10xv3/tcc_gene_out_L8TX_190430_01_B08_S01_L003/counts_filtered/adata.h5ad',\n",
       " '/home/sina/projects/mop/mop_10xv3/tcc_gene_out_L8TX_190430_01_F08_S01_L003/counts_filtered/adata.h5ad',\n",
       " '/home/sina/projects/mop/mop_10xv3/tcc_gene_out_L8TX_190430_01_G08_S01_L003/counts_filtered/adata.h5ad']"
      ]
     },
     "execution_count": 6,
     "metadata": {},
     "output_type": "execute_result"
    }
   ],
   "source": [
    "file_paths"
   ]
  },
  {
   "cell_type": "code",
   "execution_count": 7,
   "metadata": {},
   "outputs": [],
   "source": [
    "batch_id = [\n",
    "\"3L8TX_181211_01_A01\",\n",
    "\"4L8TX_181211_01_B01\",\n",
    "\"5L8TX_181211_01_C01\",\n",
    "\"6L8TX_181211_01_D01\",\n",
    "\"7L8TX_181211_01_E01\",\n",
    "\"8L8TX_181211_01_F01\",\n",
    "\"1L8TX_181211_01_G12\",\n",
    "\"2L8TX_181211_01_H12\",\n",
    "\"9L8TX_190430_01_A08\",    \n",
    "\"10L8TX_190430_01_B08\",\n",
    "\"11L8TX_190430_01_F08\",    \n",
    "\"12L8TX_190430_01_G08\"]"
   ]
  },
  {
   "cell_type": "code",
   "execution_count": 8,
   "metadata": {},
   "outputs": [
    {
     "name": "stdout",
     "output_type": "stream",
     "text": [
      "1 of 12\n"
     ]
    },
    {
     "name": "stderr",
     "output_type": "stream",
     "text": [
      "Trying to set attribute `.var` of view, copying.\n"
     ]
    },
    {
     "name": "stdout",
     "output_type": "stream",
     "text": [
      "2 of 12\n"
     ]
    },
    {
     "name": "stderr",
     "output_type": "stream",
     "text": [
      "Trying to set attribute `.var` of view, copying.\n"
     ]
    },
    {
     "name": "stdout",
     "output_type": "stream",
     "text": [
      "3 of 12\n"
     ]
    },
    {
     "name": "stderr",
     "output_type": "stream",
     "text": [
      "Trying to set attribute `.var` of view, copying.\n"
     ]
    },
    {
     "name": "stdout",
     "output_type": "stream",
     "text": [
      "4 of 12\n"
     ]
    },
    {
     "name": "stderr",
     "output_type": "stream",
     "text": [
      "Trying to set attribute `.var` of view, copying.\n"
     ]
    },
    {
     "name": "stdout",
     "output_type": "stream",
     "text": [
      "5 of 12\n"
     ]
    },
    {
     "name": "stderr",
     "output_type": "stream",
     "text": [
      "Trying to set attribute `.var` of view, copying.\n"
     ]
    },
    {
     "name": "stdout",
     "output_type": "stream",
     "text": [
      "6 of 12\n"
     ]
    },
    {
     "name": "stderr",
     "output_type": "stream",
     "text": [
      "Trying to set attribute `.var` of view, copying.\n"
     ]
    },
    {
     "name": "stdout",
     "output_type": "stream",
     "text": [
      "7 of 12\n"
     ]
    },
    {
     "name": "stderr",
     "output_type": "stream",
     "text": [
      "Trying to set attribute `.var` of view, copying.\n"
     ]
    },
    {
     "name": "stdout",
     "output_type": "stream",
     "text": [
      "8 of 12\n"
     ]
    },
    {
     "name": "stderr",
     "output_type": "stream",
     "text": [
      "Trying to set attribute `.var` of view, copying.\n"
     ]
    },
    {
     "name": "stdout",
     "output_type": "stream",
     "text": [
      "9 of 12\n"
     ]
    },
    {
     "name": "stderr",
     "output_type": "stream",
     "text": [
      "Trying to set attribute `.var` of view, copying.\n"
     ]
    },
    {
     "name": "stdout",
     "output_type": "stream",
     "text": [
      "10 of 12\n"
     ]
    },
    {
     "name": "stderr",
     "output_type": "stream",
     "text": [
      "Trying to set attribute `.var` of view, copying.\n"
     ]
    },
    {
     "name": "stdout",
     "output_type": "stream",
     "text": [
      "11 of 12\n"
     ]
    },
    {
     "name": "stderr",
     "output_type": "stream",
     "text": [
      "Trying to set attribute `.var` of view, copying.\n"
     ]
    },
    {
     "name": "stdout",
     "output_type": "stream",
     "text": [
      "12 of 12\n"
     ]
    },
    {
     "name": "stderr",
     "output_type": "stream",
     "text": [
      "Trying to set attribute `.var` of view, copying.\n"
     ]
    },
    {
     "name": "stdout",
     "output_type": "stream",
     "text": [
      "CPU times: user 23min, sys: 1min 1s, total: 24min 2s\n",
      "Wall time: 24min 34s\n"
     ]
    }
   ],
   "source": [
    "%%time\n",
    "files = []\n",
    "for fidx, f in enumerate(file_paths):\n",
    "    print(\"{} of {}\".format(fidx+1, len(file_paths)))\n",
    "    \n",
    "    adata = anndata.read_h5ad(f)\n",
    "    \n",
    "    adata.var[\"transcript_ids\"] = adata.var[\"transcript_ids\"].apply(lambda x: ast.literal_eval(x))\n",
    "    adata.var[\"ec_len\"] = adata.var[\"transcript_ids\"].apply(lambda x: len(x))\n",
    "    \n",
    "    adata = adata[:,adata.var.ec_len==1]\n",
    "    adata.var[\"transcript_id\"] = adata.var.transcript_ids.apply(lambda x: x[0])\n",
    "    adata.var[\"transcript_id_nov\"] = adata.var[\"transcript_id\"].str.slice(0,18)\n",
    "    \n",
    "    \n",
    "    files.append(adata)"
   ]
  },
  {
   "cell_type": "code",
   "execution_count": 9,
   "metadata": {},
   "outputs": [
    {
     "name": "stdout",
     "output_type": "stream",
     "text": [
      "CPU times: user 8.51 s, sys: 2.16 s, total: 10.7 s\n",
      "Wall time: 10.7 s\n"
     ]
    }
   ],
   "source": [
    "%%time\n",
    "adata = files[0].concatenate(*files[1:], batch_categories=batch_id)"
   ]
  },
  {
   "cell_type": "code",
   "execution_count": 10,
   "metadata": {},
   "outputs": [
    {
     "data": {
      "text/plain": [
       "AnnData object with n_obs × n_vars = 169200 × 111079 \n",
       "    obs: 'batch'\n",
       "    var: 'transcript_ids', 'ec_len', 'transcript_id', 'transcript_id_nov'"
      ]
     },
     "execution_count": 10,
     "metadata": {},
     "output_type": "execute_result"
    }
   ],
   "source": [
    "adata"
   ]
  },
  {
   "cell_type": "code",
   "execution_count": 11,
   "metadata": {},
   "outputs": [],
   "source": [
    "#adata.write(\"../cell_ranger_annotation/10xv3_unique_isoforms.h5ad\")"
   ]
  },
  {
   "cell_type": "code",
   "execution_count": 2,
   "metadata": {},
   "outputs": [],
   "source": [
    "adata = anndata.read_h5ad(\"../cell_ranger_annotation/10xv3_unique_isoforms.h5ad\")"
   ]
  },
  {
   "cell_type": "code",
   "execution_count": 14,
   "metadata": {},
   "outputs": [],
   "source": [
    "cols = [\"transcript_id\", \"gene_id\", \"gene_name\", \"transcript_name\", \"chromosome\", \"start\", \"stop\", \"strand\"]\n",
    "t2g = pd.read_csv(\"/home/sina/projects/mop/reference/cellranger_index/refdata-cellranger-mm10-3.0.0/kb_out/t2g.txt\", sep=\"\\t\", header=None, names=cols)\n",
    "t2g[\"transcript_id\"] = t2g[\"transcript_id\"].str.slice(0,18)\n",
    "t2g[\"gene_id\"] = t2g[\"gene_id\"].str.slice(0,18)\n",
    "t2g[\"gene_id\"] = t2g[\"gene_name\"] + \"_\" + t2g[\"gene_id\"]"
   ]
  },
  {
   "cell_type": "code",
   "execution_count": 17,
   "metadata": {},
   "outputs": [],
   "source": [
    "t2g.index = t2g.transcript_id.values\n",
    "t2g[\"transcript_name_short\"] = t2g[\"transcript_name\"]\n",
    "t2g[\"transcript_name\"] = t2g[\"transcript_name_short\"] + \"_\" + t2g[\"transcript_id\"]"
   ]
  },
  {
   "cell_type": "markdown",
   "metadata": {},
   "source": [
    "# Map OBS"
   ]
  },
  {
   "cell_type": "code",
   "execution_count": 3,
   "metadata": {},
   "outputs": [],
   "source": [
    "ca = pd.read_csv(\"/home/sina/projects/mop/mop_10xv3/dropbox/cluster.annotation.csv\", index_col=0)\n",
    "cm = pd.read_csv(\"/home/sina/projects/mop/mop_10xv3/dropbox/cluster.membership.csv\", index_col=0)"
   ]
  },
  {
   "cell_type": "code",
   "execution_count": 4,
   "metadata": {},
   "outputs": [
    {
     "data": {
      "text/html": [
       "<div>\n",
       "<style scoped>\n",
       "    .dataframe tbody tr th:only-of-type {\n",
       "        vertical-align: middle;\n",
       "    }\n",
       "\n",
       "    .dataframe tbody tr th {\n",
       "        vertical-align: top;\n",
       "    }\n",
       "\n",
       "    .dataframe thead th {\n",
       "        text-align: right;\n",
       "    }\n",
       "</style>\n",
       "<table border=\"1\" class=\"dataframe\">\n",
       "  <thead>\n",
       "    <tr style=\"text-align: right;\">\n",
       "      <th></th>\n",
       "      <th>batch</th>\n",
       "    </tr>\n",
       "  </thead>\n",
       "  <tbody>\n",
       "    <tr>\n",
       "      <th>AAACCCAAGGTGTGAC-3L8TX_181211_01_A01</th>\n",
       "      <td>3L8TX_181211_01_A01</td>\n",
       "    </tr>\n",
       "    <tr>\n",
       "      <th>AAACCCAAGTTGGACG-3L8TX_181211_01_A01</th>\n",
       "      <td>3L8TX_181211_01_A01</td>\n",
       "    </tr>\n",
       "    <tr>\n",
       "      <th>AAACCCACACAAACGG-3L8TX_181211_01_A01</th>\n",
       "      <td>3L8TX_181211_01_A01</td>\n",
       "    </tr>\n",
       "    <tr>\n",
       "      <th>AAACCCACAGACACAG-3L8TX_181211_01_A01</th>\n",
       "      <td>3L8TX_181211_01_A01</td>\n",
       "    </tr>\n",
       "    <tr>\n",
       "      <th>AAACCCACAGCGCTTG-3L8TX_181211_01_A01</th>\n",
       "      <td>3L8TX_181211_01_A01</td>\n",
       "    </tr>\n",
       "  </tbody>\n",
       "</table>\n",
       "</div>"
      ],
      "text/plain": [
       "                                                    batch\n",
       "AAACCCAAGGTGTGAC-3L8TX_181211_01_A01  3L8TX_181211_01_A01\n",
       "AAACCCAAGTTGGACG-3L8TX_181211_01_A01  3L8TX_181211_01_A01\n",
       "AAACCCACACAAACGG-3L8TX_181211_01_A01  3L8TX_181211_01_A01\n",
       "AAACCCACAGACACAG-3L8TX_181211_01_A01  3L8TX_181211_01_A01\n",
       "AAACCCACAGCGCTTG-3L8TX_181211_01_A01  3L8TX_181211_01_A01"
      ]
     },
     "execution_count": 4,
     "metadata": {},
     "output_type": "execute_result"
    }
   ],
   "source": [
    "adata.obs.head()"
   ]
  },
  {
   "cell_type": "code",
   "execution_count": 5,
   "metadata": {},
   "outputs": [],
   "source": [
    "adata = adata[adata.obs.index.isin(cm.index)]"
   ]
  },
  {
   "cell_type": "code",
   "execution_count": 6,
   "metadata": {},
   "outputs": [
    {
     "data": {
      "text/plain": [
       "View of AnnData object with n_obs × n_vars = 94162 × 111079 \n",
       "    obs: 'batch'\n",
       "    var: 'transcript_ids', 'ec_len', 'transcript_id', 'transcript_id_nov'"
      ]
     },
     "execution_count": 6,
     "metadata": {},
     "output_type": "execute_result"
    }
   ],
   "source": [
    "adata"
   ]
  },
  {
   "cell_type": "code",
   "execution_count": 7,
   "metadata": {},
   "outputs": [
    {
     "name": "stderr",
     "output_type": "stream",
     "text": [
      "Trying to set attribute `.obs` of view, copying.\n"
     ]
    }
   ],
   "source": [
    "adata.obs[\"cluster_id\"] = adata.obs.index.map(cm[\"x\"])"
   ]
  },
  {
   "cell_type": "code",
   "execution_count": 8,
   "metadata": {},
   "outputs": [],
   "source": [
    "adata.obs[\"cluster_label\"]  = adata.obs[\"cluster_id\"].map(ca[\"cluster_label\"])\n",
    "adata.obs[\"subclass_label\"] = adata.obs[\"cluster_id\"].map(ca[\"subclass_label\"])\n",
    "adata.obs[\"class_label\"]    = adata.obs[\"cluster_id\"].map(ca[\"class_label\"])"
   ]
  },
  {
   "cell_type": "code",
   "execution_count": 9,
   "metadata": {},
   "outputs": [],
   "source": [
    "from sklearn.preprocessing import LabelEncoder"
   ]
  },
  {
   "cell_type": "code",
   "execution_count": 10,
   "metadata": {},
   "outputs": [],
   "source": [
    "le = LabelEncoder()\n",
    "adata.obs[\"cluster_id\"] = le.fit_transform(adata.obs.cluster_label.values)\n",
    "\n",
    "le = LabelEncoder()\n",
    "adata.obs[\"subclass_id\"] = le.fit_transform(adata.obs.subclass_label.values)\n",
    "\n",
    "le = LabelEncoder()\n",
    "adata.obs[\"class_id\"] = le.fit_transform(adata.obs.class_label.values)"
   ]
  },
  {
   "cell_type": "code",
   "execution_count": 12,
   "metadata": {},
   "outputs": [
    {
     "data": {
      "text/html": [
       "<div>\n",
       "<style scoped>\n",
       "    .dataframe tbody tr th:only-of-type {\n",
       "        vertical-align: middle;\n",
       "    }\n",
       "\n",
       "    .dataframe tbody tr th {\n",
       "        vertical-align: top;\n",
       "    }\n",
       "\n",
       "    .dataframe thead th {\n",
       "        text-align: right;\n",
       "    }\n",
       "</style>\n",
       "<table border=\"1\" class=\"dataframe\">\n",
       "  <thead>\n",
       "    <tr style=\"text-align: right;\">\n",
       "      <th></th>\n",
       "      <th>batch</th>\n",
       "      <th>cluster_id</th>\n",
       "      <th>cluster_label</th>\n",
       "      <th>subclass_label</th>\n",
       "      <th>class_label</th>\n",
       "      <th>subclass_id</th>\n",
       "      <th>class_id</th>\n",
       "    </tr>\n",
       "  </thead>\n",
       "  <tbody>\n",
       "    <tr>\n",
       "      <th>AAACCCAAGGTGTGAC-3L8TX_181211_01_A01</th>\n",
       "      <td>3L8TX_181211_01_A01</td>\n",
       "      <td>48</td>\n",
       "      <td>L6 IT Sulf1_4_low</td>\n",
       "      <td>Low Quality</td>\n",
       "      <td>Low Quality</td>\n",
       "      <td>11</td>\n",
       "      <td>2</td>\n",
       "    </tr>\n",
       "    <tr>\n",
       "      <th>AAACCCAAGTTGGACG-3L8TX_181211_01_A01</th>\n",
       "      <td>3L8TX_181211_01_A01</td>\n",
       "      <td>45</td>\n",
       "      <td>L6 IT Sulf1_3</td>\n",
       "      <td>L6 IT</td>\n",
       "      <td>Glutamatergic</td>\n",
       "      <td>7</td>\n",
       "      <td>1</td>\n",
       "    </tr>\n",
       "    <tr>\n",
       "      <th>AAACCCACAGCGCTTG-3L8TX_181211_01_A01</th>\n",
       "      <td>3L8TX_181211_01_A01</td>\n",
       "      <td>18</td>\n",
       "      <td>L5 IT Rspo2_3_low</td>\n",
       "      <td>Low Quality</td>\n",
       "      <td>Low Quality</td>\n",
       "      <td>11</td>\n",
       "      <td>2</td>\n",
       "    </tr>\n",
       "    <tr>\n",
       "      <th>AAACCCAGTACGATTC-3L8TX_181211_01_A01</th>\n",
       "      <td>3L8TX_181211_01_A01</td>\n",
       "      <td>74</td>\n",
       "      <td>Lamp5 Slc35d3_2_low</td>\n",
       "      <td>Low Quality</td>\n",
       "      <td>Low Quality</td>\n",
       "      <td>11</td>\n",
       "      <td>2</td>\n",
       "    </tr>\n",
       "    <tr>\n",
       "      <th>AAACGAAAGCAGTAAT-3L8TX_181211_01_A01</th>\n",
       "      <td>3L8TX_181211_01_A01</td>\n",
       "      <td>139</td>\n",
       "      <td>Vip Htr1f_2_low</td>\n",
       "      <td>Low Quality</td>\n",
       "      <td>Low Quality</td>\n",
       "      <td>11</td>\n",
       "      <td>2</td>\n",
       "    </tr>\n",
       "  </tbody>\n",
       "</table>\n",
       "</div>"
      ],
      "text/plain": [
       "                                                    batch  cluster_id  \\\n",
       "AAACCCAAGGTGTGAC-3L8TX_181211_01_A01  3L8TX_181211_01_A01          48   \n",
       "AAACCCAAGTTGGACG-3L8TX_181211_01_A01  3L8TX_181211_01_A01          45   \n",
       "AAACCCACAGCGCTTG-3L8TX_181211_01_A01  3L8TX_181211_01_A01          18   \n",
       "AAACCCAGTACGATTC-3L8TX_181211_01_A01  3L8TX_181211_01_A01          74   \n",
       "AAACGAAAGCAGTAAT-3L8TX_181211_01_A01  3L8TX_181211_01_A01         139   \n",
       "\n",
       "                                            cluster_label subclass_label  \\\n",
       "AAACCCAAGGTGTGAC-3L8TX_181211_01_A01    L6 IT Sulf1_4_low    Low Quality   \n",
       "AAACCCAAGTTGGACG-3L8TX_181211_01_A01        L6 IT Sulf1_3          L6 IT   \n",
       "AAACCCACAGCGCTTG-3L8TX_181211_01_A01    L5 IT Rspo2_3_low    Low Quality   \n",
       "AAACCCAGTACGATTC-3L8TX_181211_01_A01  Lamp5 Slc35d3_2_low    Low Quality   \n",
       "AAACGAAAGCAGTAAT-3L8TX_181211_01_A01      Vip Htr1f_2_low    Low Quality   \n",
       "\n",
       "                                        class_label  subclass_id  class_id  \n",
       "AAACCCAAGGTGTGAC-3L8TX_181211_01_A01    Low Quality           11         2  \n",
       "AAACCCAAGTTGGACG-3L8TX_181211_01_A01  Glutamatergic            7         1  \n",
       "AAACCCACAGCGCTTG-3L8TX_181211_01_A01    Low Quality           11         2  \n",
       "AAACCCAGTACGATTC-3L8TX_181211_01_A01    Low Quality           11         2  \n",
       "AAACGAAAGCAGTAAT-3L8TX_181211_01_A01    Low Quality           11         2  "
      ]
     },
     "execution_count": 12,
     "metadata": {},
     "output_type": "execute_result"
    }
   ],
   "source": [
    "adata.obs.head()"
   ]
  },
  {
   "cell_type": "markdown",
   "metadata": {},
   "source": [
    "# Map Var"
   ]
  },
  {
   "cell_type": "code",
   "execution_count": 22,
   "metadata": {},
   "outputs": [
    {
     "data": {
      "text/html": [
       "<div>\n",
       "<style scoped>\n",
       "    .dataframe tbody tr th:only-of-type {\n",
       "        vertical-align: middle;\n",
       "    }\n",
       "\n",
       "    .dataframe tbody tr th {\n",
       "        vertical-align: top;\n",
       "    }\n",
       "\n",
       "    .dataframe thead th {\n",
       "        text-align: right;\n",
       "    }\n",
       "</style>\n",
       "<table border=\"1\" class=\"dataframe\">\n",
       "  <thead>\n",
       "    <tr style=\"text-align: right;\">\n",
       "      <th></th>\n",
       "      <th>transcript_id</th>\n",
       "      <th>gene_id</th>\n",
       "      <th>gene_name</th>\n",
       "      <th>transcript_name</th>\n",
       "      <th>chromosome</th>\n",
       "      <th>start</th>\n",
       "      <th>stop</th>\n",
       "      <th>strand</th>\n",
       "      <th>transcript_name_short</th>\n",
       "    </tr>\n",
       "  </thead>\n",
       "  <tbody>\n",
       "    <tr>\n",
       "      <th>ENSMUST00000162897</th>\n",
       "      <td>ENSMUST00000162897</td>\n",
       "      <td>Xkr4_ENSMUSG00000051951</td>\n",
       "      <td>Xkr4</td>\n",
       "      <td>Xkr4-203_ENSMUST00000162897</td>\n",
       "      <td>1</td>\n",
       "      <td>3205901</td>\n",
       "      <td>3216344</td>\n",
       "      <td>-</td>\n",
       "      <td>Xkr4-203</td>\n",
       "    </tr>\n",
       "    <tr>\n",
       "      <th>ENSMUST00000159265</th>\n",
       "      <td>ENSMUST00000159265</td>\n",
       "      <td>Xkr4_ENSMUSG00000051951</td>\n",
       "      <td>Xkr4</td>\n",
       "      <td>Xkr4-202_ENSMUST00000159265</td>\n",
       "      <td>1</td>\n",
       "      <td>3206523</td>\n",
       "      <td>3215632</td>\n",
       "      <td>-</td>\n",
       "      <td>Xkr4-202</td>\n",
       "    </tr>\n",
       "    <tr>\n",
       "      <th>ENSMUST00000070533</th>\n",
       "      <td>ENSMUST00000070533</td>\n",
       "      <td>Xkr4_ENSMUSG00000051951</td>\n",
       "      <td>Xkr4</td>\n",
       "      <td>Xkr4-201_ENSMUST00000070533</td>\n",
       "      <td>1</td>\n",
       "      <td>3214482</td>\n",
       "      <td>3671498</td>\n",
       "      <td>-</td>\n",
       "      <td>Xkr4-201</td>\n",
       "    </tr>\n",
       "    <tr>\n",
       "      <th>ENSMUST00000161581</th>\n",
       "      <td>ENSMUST00000161581</td>\n",
       "      <td>Gm1992_ENSMUSG00000089699</td>\n",
       "      <td>Gm1992</td>\n",
       "      <td>Gm1992-201_ENSMUST00000161581</td>\n",
       "      <td>1</td>\n",
       "      <td>3466587</td>\n",
       "      <td>3513553</td>\n",
       "      <td>+</td>\n",
       "      <td>Gm1992-201</td>\n",
       "    </tr>\n",
       "    <tr>\n",
       "      <th>ENSMUST00000194643</th>\n",
       "      <td>ENSMUST00000194643</td>\n",
       "      <td>Gm37381_ENSMUSG00000102343</td>\n",
       "      <td>Gm37381</td>\n",
       "      <td>Gm37381-202_ENSMUST00000194643</td>\n",
       "      <td>1</td>\n",
       "      <td>3905739</td>\n",
       "      <td>3986215</td>\n",
       "      <td>-</td>\n",
       "      <td>Gm37381-202</td>\n",
       "    </tr>\n",
       "  </tbody>\n",
       "</table>\n",
       "</div>"
      ],
      "text/plain": [
       "                         transcript_id                     gene_id gene_name  \\\n",
       "ENSMUST00000162897  ENSMUST00000162897     Xkr4_ENSMUSG00000051951      Xkr4   \n",
       "ENSMUST00000159265  ENSMUST00000159265     Xkr4_ENSMUSG00000051951      Xkr4   \n",
       "ENSMUST00000070533  ENSMUST00000070533     Xkr4_ENSMUSG00000051951      Xkr4   \n",
       "ENSMUST00000161581  ENSMUST00000161581   Gm1992_ENSMUSG00000089699    Gm1992   \n",
       "ENSMUST00000194643  ENSMUST00000194643  Gm37381_ENSMUSG00000102343   Gm37381   \n",
       "\n",
       "                                   transcript_name chromosome    start  \\\n",
       "ENSMUST00000162897     Xkr4-203_ENSMUST00000162897          1  3205901   \n",
       "ENSMUST00000159265     Xkr4-202_ENSMUST00000159265          1  3206523   \n",
       "ENSMUST00000070533     Xkr4-201_ENSMUST00000070533          1  3214482   \n",
       "ENSMUST00000161581   Gm1992-201_ENSMUST00000161581          1  3466587   \n",
       "ENSMUST00000194643  Gm37381-202_ENSMUST00000194643          1  3905739   \n",
       "\n",
       "                       stop strand transcript_name_short  \n",
       "ENSMUST00000162897  3216344      -              Xkr4-203  \n",
       "ENSMUST00000159265  3215632      -              Xkr4-202  \n",
       "ENSMUST00000070533  3671498      -              Xkr4-201  \n",
       "ENSMUST00000161581  3513553      +            Gm1992-201  \n",
       "ENSMUST00000194643  3986215      -           Gm37381-202  "
      ]
     },
     "execution_count": 22,
     "metadata": {},
     "output_type": "execute_result"
    }
   ],
   "source": [
    "t2g.head()"
   ]
  },
  {
   "cell_type": "code",
   "execution_count": 25,
   "metadata": {},
   "outputs": [
    {
     "data": {
      "text/html": [
       "<div>\n",
       "<style scoped>\n",
       "    .dataframe tbody tr th:only-of-type {\n",
       "        vertical-align: middle;\n",
       "    }\n",
       "\n",
       "    .dataframe tbody tr th {\n",
       "        vertical-align: top;\n",
       "    }\n",
       "\n",
       "    .dataframe thead th {\n",
       "        text-align: right;\n",
       "    }\n",
       "</style>\n",
       "<table border=\"1\" class=\"dataframe\">\n",
       "  <thead>\n",
       "    <tr style=\"text-align: right;\">\n",
       "      <th></th>\n",
       "      <th>transcript_ids</th>\n",
       "      <th>ec_len</th>\n",
       "      <th>transcript_id</th>\n",
       "      <th>transcript_id_nov</th>\n",
       "    </tr>\n",
       "  </thead>\n",
       "  <tbody>\n",
       "    <tr>\n",
       "      <th>0</th>\n",
       "      <td>['ENSMUST00000000266.8']</td>\n",
       "      <td>1</td>\n",
       "      <td>ENSMUST00000000266.8</td>\n",
       "      <td>ENSMUST00000000266</td>\n",
       "    </tr>\n",
       "    <tr>\n",
       "      <th>1</th>\n",
       "      <td>['ENSMUST00000000514.10']</td>\n",
       "      <td>1</td>\n",
       "      <td>ENSMUST00000000514.10</td>\n",
       "      <td>ENSMUST00000000514</td>\n",
       "    </tr>\n",
       "    <tr>\n",
       "      <th>2</th>\n",
       "      <td>['ENSMUST00000000834.3']</td>\n",
       "      <td>1</td>\n",
       "      <td>ENSMUST00000000834.3</td>\n",
       "      <td>ENSMUST00000000834</td>\n",
       "    </tr>\n",
       "    <tr>\n",
       "      <th>3</th>\n",
       "      <td>['ENSMUST00000001027.6']</td>\n",
       "      <td>1</td>\n",
       "      <td>ENSMUST00000001027.6</td>\n",
       "      <td>ENSMUST00000001027</td>\n",
       "    </tr>\n",
       "    <tr>\n",
       "      <th>4</th>\n",
       "      <td>['ENSMUST00000001166.13']</td>\n",
       "      <td>1</td>\n",
       "      <td>ENSMUST00000001166.13</td>\n",
       "      <td>ENSMUST00000001166</td>\n",
       "    </tr>\n",
       "  </tbody>\n",
       "</table>\n",
       "</div>"
      ],
      "text/plain": [
       "              transcript_ids  ec_len          transcript_id  \\\n",
       "0   ['ENSMUST00000000266.8']       1   ENSMUST00000000266.8   \n",
       "1  ['ENSMUST00000000514.10']       1  ENSMUST00000000514.10   \n",
       "2   ['ENSMUST00000000834.3']       1   ENSMUST00000000834.3   \n",
       "3   ['ENSMUST00000001027.6']       1   ENSMUST00000001027.6   \n",
       "4  ['ENSMUST00000001166.13']       1  ENSMUST00000001166.13   \n",
       "\n",
       "    transcript_id_nov  \n",
       "0  ENSMUST00000000266  \n",
       "1  ENSMUST00000000514  \n",
       "2  ENSMUST00000000834  \n",
       "3  ENSMUST00000001027  \n",
       "4  ENSMUST00000001166  "
      ]
     },
     "execution_count": 25,
     "metadata": {},
     "output_type": "execute_result"
    }
   ],
   "source": [
    "adata.var.head()"
   ]
  },
  {
   "cell_type": "code",
   "execution_count": 26,
   "metadata": {},
   "outputs": [],
   "source": [
    "adata.var[\"transcript_name\"] = adata.var[\"transcript_id_nov\"].map(t2g[\"transcript_name\"])\n",
    "adata.var.index = adata.var[\"transcript_name\"].values"
   ]
  },
  {
   "cell_type": "code",
   "execution_count": 27,
   "metadata": {},
   "outputs": [
    {
     "data": {
      "text/html": [
       "<div>\n",
       "<style scoped>\n",
       "    .dataframe tbody tr th:only-of-type {\n",
       "        vertical-align: middle;\n",
       "    }\n",
       "\n",
       "    .dataframe tbody tr th {\n",
       "        vertical-align: top;\n",
       "    }\n",
       "\n",
       "    .dataframe thead th {\n",
       "        text-align: right;\n",
       "    }\n",
       "</style>\n",
       "<table border=\"1\" class=\"dataframe\">\n",
       "  <thead>\n",
       "    <tr style=\"text-align: right;\">\n",
       "      <th></th>\n",
       "      <th>transcript_ids</th>\n",
       "      <th>ec_len</th>\n",
       "      <th>transcript_id</th>\n",
       "      <th>transcript_id_nov</th>\n",
       "      <th>transcript_name</th>\n",
       "    </tr>\n",
       "  </thead>\n",
       "  <tbody>\n",
       "    <tr>\n",
       "      <th>Ifi202b-201_ENSMUST00000000266</th>\n",
       "      <td>['ENSMUST00000000266.8']</td>\n",
       "      <td>1</td>\n",
       "      <td>ENSMUST00000000266.8</td>\n",
       "      <td>ENSMUST00000000266</td>\n",
       "      <td>Ifi202b-201_ENSMUST00000000266</td>\n",
       "    </tr>\n",
       "    <tr>\n",
       "      <th>Serpinb8-201_ENSMUST00000000514</th>\n",
       "      <td>['ENSMUST00000000514.10']</td>\n",
       "      <td>1</td>\n",
       "      <td>ENSMUST00000000514.10</td>\n",
       "      <td>ENSMUST00000000514</td>\n",
       "      <td>Serpinb8-201_ENSMUST00000000514</td>\n",
       "    </tr>\n",
       "    <tr>\n",
       "      <th>Fasl-201_ENSMUST00000000834</th>\n",
       "      <td>['ENSMUST00000000834.3']</td>\n",
       "      <td>1</td>\n",
       "      <td>ENSMUST00000000834.3</td>\n",
       "      <td>ENSMUST00000000834</td>\n",
       "      <td>Fasl-201_ENSMUST00000000834</td>\n",
       "    </tr>\n",
       "    <tr>\n",
       "      <th>Aox1-201_ENSMUST00000001027</th>\n",
       "      <td>['ENSMUST00000001027.6']</td>\n",
       "      <td>1</td>\n",
       "      <td>ENSMUST00000001027.6</td>\n",
       "      <td>ENSMUST00000001027</td>\n",
       "      <td>Aox1-201_ENSMUST00000001027</td>\n",
       "    </tr>\n",
       "    <tr>\n",
       "      <th>Cnnm3-201_ENSMUST00000001166</th>\n",
       "      <td>['ENSMUST00000001166.13']</td>\n",
       "      <td>1</td>\n",
       "      <td>ENSMUST00000001166.13</td>\n",
       "      <td>ENSMUST00000001166</td>\n",
       "      <td>Cnnm3-201_ENSMUST00000001166</td>\n",
       "    </tr>\n",
       "  </tbody>\n",
       "</table>\n",
       "</div>"
      ],
      "text/plain": [
       "                                            transcript_ids  ec_len  \\\n",
       "Ifi202b-201_ENSMUST00000000266    ['ENSMUST00000000266.8']       1   \n",
       "Serpinb8-201_ENSMUST00000000514  ['ENSMUST00000000514.10']       1   \n",
       "Fasl-201_ENSMUST00000000834       ['ENSMUST00000000834.3']       1   \n",
       "Aox1-201_ENSMUST00000001027       ['ENSMUST00000001027.6']       1   \n",
       "Cnnm3-201_ENSMUST00000001166     ['ENSMUST00000001166.13']       1   \n",
       "\n",
       "                                         transcript_id   transcript_id_nov  \\\n",
       "Ifi202b-201_ENSMUST00000000266    ENSMUST00000000266.8  ENSMUST00000000266   \n",
       "Serpinb8-201_ENSMUST00000000514  ENSMUST00000000514.10  ENSMUST00000000514   \n",
       "Fasl-201_ENSMUST00000000834       ENSMUST00000000834.3  ENSMUST00000000834   \n",
       "Aox1-201_ENSMUST00000001027       ENSMUST00000001027.6  ENSMUST00000001027   \n",
       "Cnnm3-201_ENSMUST00000001166     ENSMUST00000001166.13  ENSMUST00000001166   \n",
       "\n",
       "                                                 transcript_name  \n",
       "Ifi202b-201_ENSMUST00000000266    Ifi202b-201_ENSMUST00000000266  \n",
       "Serpinb8-201_ENSMUST00000000514  Serpinb8-201_ENSMUST00000000514  \n",
       "Fasl-201_ENSMUST00000000834          Fasl-201_ENSMUST00000000834  \n",
       "Aox1-201_ENSMUST00000001027          Aox1-201_ENSMUST00000001027  \n",
       "Cnnm3-201_ENSMUST00000001166        Cnnm3-201_ENSMUST00000001166  "
      ]
     },
     "execution_count": 27,
     "metadata": {},
     "output_type": "execute_result"
    }
   ],
   "source": [
    "adata.var.head()"
   ]
  },
  {
   "cell_type": "code",
   "execution_count": 29,
   "metadata": {},
   "outputs": [],
   "source": [
    "#adata.write(\"../cell_ranger_annotation/10xv3_isoform.h5ad\")"
   ]
  },
  {
   "cell_type": "markdown",
   "metadata": {},
   "source": [
    "# Compare to smartseq"
   ]
  },
  {
   "cell_type": "code",
   "execution_count": 2,
   "metadata": {},
   "outputs": [],
   "source": [
    "adata = anndata.read_h5ad(\"../cell_ranger_annotation/10xv3_isoform.h5ad\")"
   ]
  },
  {
   "cell_type": "code",
   "execution_count": 3,
   "metadata": {},
   "outputs": [],
   "source": [
    "ss = anndata.read_h5ad(\"../cell_ranger_annotation/no_filter_isoform.h5ad\")"
   ]
  },
  {
   "cell_type": "code",
   "execution_count": 4,
   "metadata": {},
   "outputs": [
    {
     "data": {
      "text/plain": [
       "AnnData object with n_obs × n_vars = 94162 × 111079 \n",
       "    obs: 'batch', 'cluster_id', 'cluster_label', 'subclass_label', 'class_label', 'subclass_id', 'class_id'\n",
       "    var: 'transcript_ids', 'ec_len', 'transcript_id', 'transcript_id_nov', 'transcript_name'"
      ]
     },
     "execution_count": 4,
     "metadata": {},
     "output_type": "execute_result"
    }
   ],
   "source": [
    "adata"
   ]
  },
  {
   "cell_type": "code",
   "execution_count": 5,
   "metadata": {},
   "outputs": [
    {
     "data": {
      "text/plain": [
       "AnnData object with n_obs × n_vars = 6295 × 111079 \n",
       "    obs: 'cluster_id', 'cluster_label', 'subclass_label', 'class_label', 'cluster_color', 'size', 'cell_id', 'subclass_id', 'class_id', 'cell_counts'\n",
       "    var: 'transcript_id', 'gene_id', 'gene_name', 'transcript_name', 'length', 'gene_counts', 'highly_variable', 'means', 'dispersions', 'dispersions_norm'\n",
       "    layers: 'X', 'log1p', 'norm'"
      ]
     },
     "execution_count": 5,
     "metadata": {},
     "output_type": "execute_result"
    }
   ],
   "source": [
    "ss"
   ]
  },
  {
   "cell_type": "code",
   "execution_count": 6,
   "metadata": {},
   "outputs": [],
   "source": [
    "ss = ss[:,ss.var.sort_index().index]\n",
    "tenx = adata[:,adata.var.sort_index().index]"
   ]
  },
  {
   "cell_type": "code",
   "execution_count": 7,
   "metadata": {},
   "outputs": [],
   "source": [
    "tenx = tenx[:,tenx.var.index.isin(ss.var.index)]"
   ]
  },
  {
   "cell_type": "code",
   "execution_count": 8,
   "metadata": {},
   "outputs": [],
   "source": [
    "tenx = tenx[:,tenx.var.sort_index().index]"
   ]
  },
  {
   "cell_type": "code",
   "execution_count": 9,
   "metadata": {},
   "outputs": [
    {
     "data": {
      "text/plain": [
       "View of AnnData object with n_obs × n_vars = 94162 × 111079 \n",
       "    obs: 'batch', 'cluster_id', 'cluster_label', 'subclass_label', 'class_label', 'subclass_id', 'class_id'\n",
       "    var: 'transcript_ids', 'ec_len', 'transcript_id', 'transcript_id_nov', 'transcript_name'"
      ]
     },
     "execution_count": 9,
     "metadata": {},
     "output_type": "execute_result"
    }
   ],
   "source": [
    "tenx"
   ]
  },
  {
   "cell_type": "code",
   "execution_count": 10,
   "metadata": {},
   "outputs": [
    {
     "data": {
      "text/plain": [
       "View of AnnData object with n_obs × n_vars = 6295 × 111079 \n",
       "    obs: 'cluster_id', 'cluster_label', 'subclass_label', 'class_label', 'cluster_color', 'size', 'cell_id', 'subclass_id', 'class_id', 'cell_counts'\n",
       "    var: 'transcript_id', 'gene_id', 'gene_name', 'transcript_name', 'length', 'gene_counts', 'highly_variable', 'means', 'dispersions', 'dispersions_norm'\n",
       "    layers: 'X', 'log1p', 'norm'"
      ]
     },
     "execution_count": 10,
     "metadata": {},
     "output_type": "execute_result"
    }
   ],
   "source": [
    "ss"
   ]
  },
  {
   "cell_type": "markdown",
   "metadata": {},
   "source": [
    "# Process"
   ]
  },
  {
   "cell_type": "code",
   "execution_count": 11,
   "metadata": {},
   "outputs": [],
   "source": [
    "from sklearn.preprocessing import normalize"
   ]
  },
  {
   "cell_type": "code",
   "execution_count": 12,
   "metadata": {},
   "outputs": [],
   "source": [
    "tenx.layers[\"X\"] = tenx.X\n",
    "tenx.layers[\"norm\"] = normalize(tenx.X, norm='l1', axis=1)*1000000\n",
    "tenx.layers[\"log1p\"] = csr_matrix(np.log1p(tenx.layers[\"norm\"]))"
   ]
  },
  {
   "cell_type": "code",
   "execution_count": 13,
   "metadata": {},
   "outputs": [],
   "source": [
    "from sklearn.preprocessing import scale"
   ]
  },
  {
   "cell_type": "code",
   "execution_count": null,
   "metadata": {},
   "outputs": [],
   "source": [
    "%%time\n",
    "mat = tenx.layers[\"log1p\"].todense()\n",
    "mtx = scale(mat, axis=0, with_mean=True, with_std=True, copy=True)\n",
    "tenx.X = mtx"
   ]
  },
  {
   "cell_type": "code",
   "execution_count": null,
   "metadata": {},
   "outputs": [],
   "source": [
    "del mat"
   ]
  },
  {
   "cell_type": "markdown",
   "metadata": {},
   "source": [
    "# Perform correlations"
   ]
  },
  {
   "cell_type": "code",
   "execution_count": null,
   "metadata": {},
   "outputs": [],
   "source": [
    "def split_by_target(mat, targets, target, axis=0):\n",
    "    \"\"\"\n",
    "    Split the rows of mat by the proper assignment\n",
    "    \n",
    "    mat = ndarray\n",
    "    targets, length is equal to number of components (axis=0) or features (axis=1)\n",
    "    target is a singular element from unique(assignments/features) \n",
    "    \"\"\"\n",
    "    if axis==0 and len(targets) != mat.shape[axis]: return -1\n",
    "    if axis==1 and len(targets) != mat.shape[axis]: return -1\n",
    "        \n",
    "    mask = targets == target\n",
    "    \n",
    "    if axis==0:\n",
    "        t_mat = mat[mask]  # target matrix\n",
    "        c_mat = mat[~mask] # complement matrix\n",
    "    elif axis==1:\n",
    "        t_mat = mat[:, mask]  # target matrix\n",
    "        c_mat = mat[:, ~mask] # complement matrix\n",
    "    \n",
    "    return (t_mat, c_mat)\n",
    "\n",
    "def group_mtx_by_cluster(mtx, components, features, s2t, source_id=\"cell_id\", target_id=\"subclass_label\", by=\"components\"):\n",
    "    \"\"\"\n",
    "    mtx: ndarray components by features \n",
    "    components: labels for rows of mtx\n",
    "    features: labels for columns of mtx\n",
    "    s2t: pandas dataframe mapping source (features or components) to a\n",
    "    targets features(components) to group by\n",
    "    target_id: column name in s2t to group by\n",
    "    \"\"\"\n",
    "    if target_id not in s2t.columns: return -1\n",
    "    \n",
    "    ncomp   = components.shape[0]\n",
    "    nfeat   = features.shape[0]\n",
    "    ntarget = s2t[target_id].nunique()\n",
    "    \n",
    "    if by ==\"features\": \n",
    "        source = features\n",
    "    elif by ==\"components\": \n",
    "        source = components\n",
    "    \n",
    "    # Map the source to an index\n",
    "    source2idx = dict(zip(source, range(len(source))))\n",
    "    # Map the target to a list of source indices\n",
    "    target2idx = (s2t.groupby(target_id)[source_id].apply(lambda x: [source2idx[i] for i in x])).to_dict()\n",
    "    \n",
    "    # array of unique targets\n",
    "    unique = s2t[target_id].unique().astype(str)\n",
    "    nuniq = unique.shape[0]\n",
    "    X = np.zeros((nuniq, mtx.shape[1]))\n",
    "    \n",
    "    for tidx, t in enumerate(unique):\n",
    "        # Grab the matrix indices corresponding to columns and source columns to group by\n",
    "        source_indices = target2idx[t]\n",
    "        #print(source_indices)\n",
    "        \n",
    "        # breaks generality\n",
    "        sub_mtx = mtx[source_indices,:].mean(axis=0) # Sum on source indicies\n",
    "        X[tidx,:] = sub_mtx # place summed vector in new matrix\n",
    "        \n",
    "    # Return matrix that is grouped by\n",
    "    return (X, components, unique)"
   ]
  },
  {
   "cell_type": "markdown",
   "metadata": {},
   "source": [
    "# Correlation"
   ]
  },
  {
   "cell_type": "code",
   "execution_count": null,
   "metadata": {},
   "outputs": [],
   "source": [
    "tenx_mat = tenx.X\n",
    "tenx_ass = tenx.obs.subclass_label.values"
   ]
  },
  {
   "cell_type": "code",
   "execution_count": null,
   "metadata": {},
   "outputs": [],
   "source": [
    "ss_mat = ss.X\n",
    "ss_ass = ss.obs.subclass_label.values"
   ]
  },
  {
   "cell_type": "code",
   "execution_count": null,
   "metadata": {},
   "outputs": [],
   "source": [
    "features = tenx.var.transcript_name.values\n",
    "\n",
    "unique = np.intersect1d(np.unique(tenx_ass), np.unique(ss_ass))"
   ]
  },
  {
   "cell_type": "code",
   "execution_count": null,
   "metadata": {},
   "outputs": [],
   "source": [
    "def nd(arr):\n",
    "    return np.asarray(arr).reshape(-1)"
   ]
  },
  {
   "cell_type": "code",
   "execution_count": null,
   "metadata": {},
   "outputs": [],
   "source": [
    "mat = tenx.layers[\"log1p\"]\n",
    "\n",
    "lower = 0.5\n",
    "\n",
    "\n",
    "bool_mask = np.zeros((unique.shape[0], features.shape[0]), dtype=bool)\n",
    "\n",
    "for uidx, u in enumerate(unique):\n",
    "    t_mat, _ = split_by_target(mat, tenx_ass, u)\n",
    "\n",
    "    numc = t_mat.shape[0]\n",
    "    numnz = (t_mat>0).sum(axis=0)\n",
    "\n",
    "    #arr = np.logical_and(nd(numnz>lower*numc), nd(numnz<upper*numc))\n",
    "    arr = nd(numnz>lower*numc)\n",
    "    \n",
    "    #arr = np.logical_and(np.array(t_mat.mean(axis=0)>threshold).reshape(-1), (np.array((t_mat>0).sum(axis=0)>t_mat.shape[0]*frac).reshape(-1)))\n",
    "    print(\"[{} of {}] {:,}: {}\".format(uidx+1, unique.shape[0],arr.sum(), u) )\n",
    "    \n",
    "    #argnmax = arr.argsort()[-n:][::-1]\n",
    "\n",
    "    bool_mask[uidx,:][arr] = True"
   ]
  },
  {
   "cell_type": "code",
   "execution_count": null,
   "metadata": {},
   "outputs": [],
   "source": [
    "%%time\n",
    "r2 = []\n",
    "ss_x = []\n",
    "tenx_x = []\n",
    "\n",
    "# u_mat_tenx = []\n",
    "# u_mat_ss   = []\n",
    "\n",
    "for uidx, u in enumerate(unique):\n",
    "    tenx_t_mat, _ = split_by_target(tenx_mat, tenx_ass, u)\n",
    "    ss_t_mat, _ = split_by_target(ss_mat, ss_ass, u)\n",
    "    \n",
    "    # u_mat_tenx.append(tenx_t_mat)\n",
    "    # u_mat_ss.append(ss_t_mat)\n",
    "    \n",
    "    \n",
    "    t = np.asarray(tenx_t_mat[:,bool_mask[uidx]].mean(axis=0)).reshape(-1)\n",
    "    s = np.asarray(ss_t_mat[:,bool_mask[uidx]].mean(axis=0)).reshape(-1)\n",
    "    \n",
    "    ss_x.append(s)\n",
    "    tenx_x.append(t)\n",
    "    \n",
    "    r, p = stats.pearsonr(t, s)\n",
    "    r2.append(r)\n",
    "    print(\"[{} of {}] {:,.2f}: {}\".format(uidx+1, unique.shape[0],r**2, u) )"
   ]
  },
  {
   "cell_type": "code",
   "execution_count": null,
   "metadata": {},
   "outputs": [],
   "source": []
  },
  {
   "cell_type": "code",
   "execution_count": null,
   "metadata": {},
   "outputs": [],
   "source": [
    "ss_size = ss.obs[\"subclass_label\"].value_counts()[unique]"
   ]
  },
  {
   "cell_type": "code",
   "execution_count": null,
   "metadata": {},
   "outputs": [],
   "source": [
    "cluster_cmap = {\n",
    "\"Astro\": (0.38823529411764707, 0.4745098039215686,  0.2235294117647059 ),  # 637939,\n",
    "\"Endo\" : (0.5490196078431373,  0.6352941176470588,  0.3215686274509804 ),  # 8ca252,\n",
    "\"SMC\"  : (0.7098039215686275,  0.8117647058823529,  0.4196078431372549 ),  # b5cf6b,\n",
    "\"VLMC\" : (0.807843137254902,   0.8588235294117647,  0.611764705882353  ),  # cedb9c,\n",
    "\"Low Quality\" : (0,0,0),\n",
    "\"L2/3 IT\" : (0.9921568627450981,  0.6823529411764706,  0.4196078431372549  ),  # fdae6b\n",
    "\"L5 ET\" : (0.9921568627450981,  0.8156862745098039,  0.6352941176470588  ),  # fdd0a2\n",
    "\"L5 IT\" : (0.5176470588235295,  0.23529411764705882, 0.2235294117647059 ),  # 843c39\n",
    "\"L5/6 NP\": \"#D43F3A\",\n",
    "\"L6 CT\" : (0.8392156862745098,  0.3803921568627451,  0.4196078431372549 ),  # d6616b\n",
    "\"L6 IT\" : (0.9058823529411765,  0.5882352941176471,  0.611764705882353  ),  # e7969c\n",
    "\"L6b\" : (1.0,                 0.4980392156862745,  0.054901960784313725),  # ff7f0e\n",
    "\"L6 IT Car3\" : (1.0,                 0.7333333333333333,  0.47058823529411764 ),  # ffbb78\n",
    "\"Lamp5\" : (0.19215686274509805, 0.5098039215686274,  0.7411764705882353  ),  # 3182bd # blues\n",
    "\"Sncg\" : (0.4196078431372549,  0.6823529411764706,  0.8392156862745098  ),  # 6baed6\n",
    "\"Vip\" : (0.6196078431372549,  0.792156862745098,   0.8823529411764706  ),  # 9ecae1\n",
    "\"Sst\" : (0.7764705882352941,  0.8588235294117647,  0.9372549019607843  ),  # c6dbef\n",
    "\"Pvalb\":(0.7372549019607844,  0.7411764705882353,  0.8627450980392157  ),  # bcbddc\n",
    "}"
   ]
  },
  {
   "cell_type": "code",
   "execution_count": null,
   "metadata": {},
   "outputs": [],
   "source": [
    "fig, ax = plt.subplots(figsize=(10,7))\n",
    "\n",
    "x = ss_size\n",
    "y = r2\n",
    "\n",
    "for i, txt in enumerate(unique):\n",
    "    ax.annotate(i, (x[i], y[i]))\n",
    "    ax.scatter(x[i], y[i], label=\"{}: {}\".format(i, txt), color=cluster_cmap[txt])\n",
    "ax.set_ylim((0, 1))\n",
    "ax.set_xscale(\"log\")\n",
    "    \n",
    "ax.set_xlabel(\"Number of Smart-seq2 cells\")\n",
    "ax.set_ylabel(\"Pearson correlation\")\n",
    "ax.legend(fontsize=15,loc='center left', bbox_to_anchor=(1, 0.5), markerscale=3)\n",
    "plt.savefig(\"./figures/10x_subclass_isoform_correlation.png\", bbox_inches='tight', dpi=300)\n",
    "plt.show()"
   ]
  },
  {
   "cell_type": "code",
   "execution_count": null,
   "metadata": {},
   "outputs": [],
   "source": [
    "def trim_axs(axs, N):\n",
    "    \"\"\"little helper to massage the axs list to have correct length...\"\"\"\n",
    "    axs = axs.flat\n",
    "    for ax in axs[N:]:\n",
    "        ax.remove()\n",
    "    return axs[:N]"
   ]
  },
  {
   "cell_type": "code",
   "execution_count": null,
   "metadata": {},
   "outputs": [],
   "source": [
    "fig, ax = plt.subplots(figsize=(15,15), ncols=4, nrows=5)\n",
    "fig.subplots_adjust(hspace=0, wspace=0)\n",
    "axs = trim_axs(ax, len(unique))\n",
    "\n",
    "for cidx, (ax, c) in enumerate(zip(axs, unique)):\n",
    "    \n",
    "    \n",
    "    x = ss_x[cidx]\n",
    "    y = tenx_x[cidx]\n",
    "\n",
    "    \n",
    "    ax.scatter(x, y, label=\"{}: {:,}\".format(c, ss_size[cidx]), color=\"k\", alpha=0.1)\n",
    "\n",
    "    slope, intercept, r_value, p_value, std_err = stats.linregress(x, y)\n",
    "\n",
    "    minx = min(x)\n",
    "    maxx = max(x)\n",
    "    x = np.linspace(minx, maxx, 10)\n",
    "    y = slope*x+intercept\n",
    "    ax.plot(x, y, label=\"corr : {:,.2f}\".format(r_value), color=\"red\", linewidth=3)\n",
    "    ax.legend(fontsize=15)\n",
    "    ax.xaxis.set_ticklabels([])\n",
    "    ax.yaxis.set_ticklabels([])\n",
    "    ax.set_axis_off()\n",
    "    if c == \"Low Quality\":\n",
    "        ax.set_axis_on()\n",
    "fig.text(0.5, 0.1, 'Smart-seq2 scaled $log(TPM+1)$', ha='center', va='center', fontsize=30)\n",
    "fig.text(0.1, 0.5, '10xv3 scaled $log(CPM+1)$', ha='center', va='center', rotation='vertical', fontsize=30)\n",
    "plt.savefig(\"./figures/10x_subclass_isoform_correlation_scatter.png\", bbox_inches='tight',dpi=300)\n",
    "\n",
    "plt.show()"
   ]
  },
  {
   "cell_type": "markdown",
   "metadata": {},
   "source": [
    "# Correlation at cluster level"
   ]
  },
  {
   "cell_type": "code",
   "execution_count": null,
   "metadata": {},
   "outputs": [],
   "source": [
    "tenx_mat = tenx.X\n",
    "tenx_ass = tenx.obs.cluster_label.values"
   ]
  },
  {
   "cell_type": "code",
   "execution_count": null,
   "metadata": {},
   "outputs": [],
   "source": [
    "ss_mat = ss.X\n",
    "ss_ass = ss.obs.cluster_label.values"
   ]
  },
  {
   "cell_type": "code",
   "execution_count": null,
   "metadata": {},
   "outputs": [],
   "source": [
    "features = tenx.var.transcript_name.values\n",
    "\n",
    "unique = np.intersect1d(np.unique(tenx_ass), np.unique(ss_ass))"
   ]
  },
  {
   "cell_type": "code",
   "execution_count": null,
   "metadata": {},
   "outputs": [],
   "source": [
    "def nd(arr):\n",
    "    return np.asarray(arr).reshape(-1)"
   ]
  },
  {
   "cell_type": "code",
   "execution_count": null,
   "metadata": {},
   "outputs": [],
   "source": [
    "mat = tenx.layers[\"log1p\"]\n",
    "\n",
    "lower = 0.5\n",
    "\n",
    "\n",
    "bool_mask = np.zeros((unique.shape[0], features.shape[0]), dtype=bool)\n",
    "\n",
    "for uidx, u in enumerate(unique):\n",
    "    t_mat, _ = split_by_target(mat, tenx_ass, u)\n",
    "\n",
    "    numc = t_mat.shape[0]\n",
    "    numnz = (t_mat>0).sum(axis=0)\n",
    "\n",
    "    #arr = np.logical_and(nd(numnz>lower*numc), nd(numnz<upper*numc))\n",
    "    arr = nd(numnz>lower*numc)\n",
    "    \n",
    "    #arr = np.logical_and(np.array(t_mat.mean(axis=0)>threshold).reshape(-1), (np.array((t_mat>0).sum(axis=0)>t_mat.shape[0]*frac).reshape(-1)))\n",
    "    print(\"[{} of {}] {:,}: {}\".format(uidx+1, unique.shape[0],arr.sum(), u) )\n",
    "    \n",
    "    #argnmax = arr.argsort()[-n:][::-1]\n",
    "\n",
    "    bool_mask[uidx,:][arr] = True"
   ]
  },
  {
   "cell_type": "code",
   "execution_count": null,
   "metadata": {},
   "outputs": [],
   "source": [
    "%%time\n",
    "r2 = []\n",
    "ss_x = []\n",
    "tenx_x = []\n",
    "\n",
    "# u_mat_tenx = []\n",
    "# u_mat_ss   = []\n",
    "\n",
    "for uidx, u in enumerate(unique):\n",
    "    tenx_t_mat, _ = split_by_target(tenx_mat, tenx_ass, u)\n",
    "    ss_t_mat, _ = split_by_target(ss_mat, ss_ass, u)\n",
    "    \n",
    "    # u_mat_tenx.append(tenx_t_mat)\n",
    "    # u_mat_ss.append(ss_t_mat)\n",
    "    \n",
    "    \n",
    "    t = np.asarray(tenx_t_mat[:,bool_mask[uidx]].mean(axis=0)).reshape(-1)\n",
    "    s = np.asarray(ss_t_mat[:,bool_mask[uidx]].mean(axis=0)).reshape(-1)\n",
    "    \n",
    "    ss_x.append(s)\n",
    "    tenx_x.append(t)\n",
    "    \n",
    "    r, p = stats.pearsonr(t, s)\n",
    "    r2.append(r)\n",
    "    print(\"[{} of {}] {:,.2f}: {}\".format(uidx+1, unique.shape[0],r**2, u) )"
   ]
  },
  {
   "cell_type": "code",
   "execution_count": null,
   "metadata": {},
   "outputs": [],
   "source": []
  },
  {
   "cell_type": "code",
   "execution_count": null,
   "metadata": {},
   "outputs": [],
   "source": [
    "ss_size = ss.obs[\"cluster_label\"].value_counts()[unique]"
   ]
  },
  {
   "cell_type": "code",
   "execution_count": null,
   "metadata": {},
   "outputs": [],
   "source": [
    "cluster_cmap = {\n",
    "\"Astro\": (0.38823529411764707, 0.4745098039215686,  0.2235294117647059 ),  # 637939,\n",
    "\"Endo\" : (0.5490196078431373,  0.6352941176470588,  0.3215686274509804 ),  # 8ca252,\n",
    "\"SMC\"  : (0.7098039215686275,  0.8117647058823529,  0.4196078431372549 ),  # b5cf6b,\n",
    "\"VLMC\" : (0.807843137254902,   0.8588235294117647,  0.611764705882353  ),  # cedb9c,\n",
    "\"Low Quality\" : (0,0,0),\n",
    "\"L2/3 IT\" : (0.9921568627450981,  0.6823529411764706,  0.4196078431372549  ),  # fdae6b\n",
    "\"L5 ET\" : (0.9921568627450981,  0.8156862745098039,  0.6352941176470588  ),  # fdd0a2\n",
    "\"L5 IT\" : (0.5176470588235295,  0.23529411764705882, 0.2235294117647059 ),  # 843c39\n",
    "\"L5/6 NP\": \"#D43F3A\",\n",
    "\"L6 CT\" : (0.8392156862745098,  0.3803921568627451,  0.4196078431372549 ),  # d6616b\n",
    "\"L6 IT\" : (0.9058823529411765,  0.5882352941176471,  0.611764705882353  ),  # e7969c\n",
    "\"L6b\" : (1.0,                 0.4980392156862745,  0.054901960784313725),  # ff7f0e\n",
    "\"L6 IT Car3\" : (1.0,                 0.7333333333333333,  0.47058823529411764 ),  # ffbb78\n",
    "\"Lamp5\" : (0.19215686274509805, 0.5098039215686274,  0.7411764705882353  ),  # 3182bd # blues\n",
    "\"Sncg\" : (0.4196078431372549,  0.6823529411764706,  0.8392156862745098  ),  # 6baed6\n",
    "\"Vip\" : (0.6196078431372549,  0.792156862745098,   0.8823529411764706  ),  # 9ecae1\n",
    "\"Sst\" : (0.7764705882352941,  0.8588235294117647,  0.9372549019607843  ),  # c6dbef\n",
    "\"Pvalb\":(0.7372549019607844,  0.7411764705882353,  0.8627450980392157  ),  # bcbddc\n",
    "}"
   ]
  },
  {
   "cell_type": "code",
   "execution_count": null,
   "metadata": {},
   "outputs": [],
   "source": [
    "fig, ax = plt.subplots(figsize=(10,7))\n",
    "\n",
    "x = ss_size\n",
    "y = r2\n",
    "\n",
    "for i, txt in enumerate(unique):\n",
    "    ax.annotate(i, (x[i], y[i]))\n",
    "    ax.scatter(x[i], y[i], label=\"{}: {}\".format(i, txt),color=cluster_cmap[\" \".join(txt.split(\" \")[0:-1])])\n",
    "ax.set_ylim((0, 1))\n",
    "ax.set_xscale(\"log\")\n",
    "    \n",
    "ax.set_xlabel(\"Number of Smart-seq2 cells\")\n",
    "ax.set_ylabel(\"Pearson correlation\")\n",
    "ax.legend(fontsize=15,loc='center left', bbox_to_anchor=(1, 0.5), markerscale=3)\n",
    "plt.savefig(\"./figures/10x_cluster_isoform_correlation_.png\", bbox_inches='tight', dpi=300)\n",
    "plt.show()"
   ]
  },
  {
   "cell_type": "code",
   "execution_count": null,
   "metadata": {},
   "outputs": [],
   "source": []
  },
  {
   "cell_type": "code",
   "execution_count": null,
   "metadata": {},
   "outputs": [],
   "source": []
  },
  {
   "cell_type": "code",
   "execution_count": null,
   "metadata": {},
   "outputs": [],
   "source": [
    "def trim_axs(axs, N):\n",
    "    \"\"\"little helper to massage the axs list to have correct length...\"\"\"\n",
    "    axs = axs.flat\n",
    "    for ax in axs[N:]:\n",
    "        ax.remove()\n",
    "    return axs[:N]"
   ]
  },
  {
   "cell_type": "code",
   "execution_count": null,
   "metadata": {},
   "outputs": [],
   "source": [
    "fig, ax = plt.subplots(figsize=(15,15), ncols=4, nrows=6)\n",
    "fig.subplots_adjust(hspace=0, wspace=0)\n",
    "axs = trim_axs(ax, len(unique))\n",
    "\n",
    "for cidx, (ax, c) in enumerate(zip(axs, unique)):\n",
    "    \n",
    "    \n",
    "    x = ss_x[cidx]\n",
    "    y = tenx_x[cidx]\n",
    "\n",
    "    \n",
    "    ax.scatter(x, y, label=\"{}: {:,}\".format(c, ss_size[cidx]), color=\"k\", alpha=0.1)\n",
    "\n",
    "    slope, intercept, r_value, p_value, std_err = stats.linregress(x, y)\n",
    "\n",
    "    minx = min(x)\n",
    "    maxx = max(x)\n",
    "    x = np.linspace(minx, maxx, 10)\n",
    "    y = slope*x+intercept\n",
    "    ax.plot(x, y, label=\"corr : {:,.2f}\".format(r_value), color=\"red\", linewidth=3)\n",
    "    ax.legend(fontsize=15)\n",
    "    ax.xaxis.set_ticklabels([])\n",
    "    ax.yaxis.set_ticklabels([])\n",
    "    ax.set_axis_off()\n",
    "    if c == \"Low Quality\":\n",
    "        ax.set_axis_on()\n",
    "fig.text(0.5, 0.1, 'Smart-seq2 scaled $log(TPM+1)$', ha='center', va='center', fontsize=30)\n",
    "fig.text(0.1, 0.5, '10xv3 scaled $log(CPM+1)$', ha='center', va='center', rotation='vertical', fontsize=30)\n",
    "plt.savefig(\"./figures/10x_cluster_isoform_correlation_scatter.png\", bbox_inches='tight',dpi=300)\n",
    "\n",
    "plt.show()"
   ]
  },
  {
   "cell_type": "code",
   "execution_count": null,
   "metadata": {},
   "outputs": [],
   "source": []
  }
 ],
 "metadata": {
  "kernelspec": {
   "display_name": "Python 3",
   "language": "python",
   "name": "python3"
  },
  "language_info": {
   "codemirror_mode": {
    "name": "ipython",
    "version": 3
   },
   "file_extension": ".py",
   "mimetype": "text/x-python",
   "name": "python",
   "nbconvert_exporter": "python",
   "pygments_lexer": "ipython3",
   "version": "3.7.4"
  }
 },
 "nbformat": 4,
 "nbformat_minor": 4
}
