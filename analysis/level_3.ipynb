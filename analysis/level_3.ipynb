{
 "cells": [
  {
   "cell_type": "code",
   "execution_count": 1,
   "metadata": {},
   "outputs": [
    {
     "name": "stdout",
     "output_type": "stream",
     "text": [
      "Wed Feb  5 22:42:48 PST 2020\n"
     ]
    }
   ],
   "source": [
    "!date"
   ]
  },
  {
   "cell_type": "code",
   "execution_count": 1,
   "metadata": {},
   "outputs": [],
   "source": [
    "import anndata\n",
    "import pandas as pd\n",
    "import numpy as np\n",
    "import matplotlib.pyplot as plt\n",
    "import matplotlib as mpl\n",
    "import matplotlib.patches as mpatches\n",
    "import scanpy as scanp\n",
    "from scipy.stats import ks_2samp, ttest_ind\n",
    "from scipy.sparse import csr_matrix\n",
    "from sklearn.decomposition import TruncatedSVD\n",
    "from sklearn.manifold import TSNE\n",
    "from umap import UMAP\n",
    "from sklearn.cluster import KMeans\n",
    "from scipy import stats\n",
    "from scipy.optimize import curve_fit\n",
    "import ast\n",
    "from scipy.stats import sem\n",
    "from sklearn.metrics import adjusted_rand_score\n",
    "from scipy.stats import ks_2samp, ttest_ind\n",
    "import warnings\n",
    "warnings.filterwarnings('ignore')\n",
    "\n",
    "fsize=20\n",
    "\n",
    "plt.rcParams.update({'font.size': fsize})\n",
    "%config InlineBackend.figure_format = 'retina'"
   ]
  },
  {
   "cell_type": "code",
   "execution_count": 2,
   "metadata": {},
   "outputs": [
    {
     "name": "stderr",
     "output_type": "stream",
     "text": [
      "Variable names are not unique. To make them unique, call `.var_names_make_unique`.\n"
     ]
    }
   ],
   "source": [
    "gene = anndata.read_h5ad(\"cell_ranger_annotation/gene.h5ad\")\n",
    "isoform = anndata.read_h5ad(\"cell_ranger_annotation/isoform.h5ad\")"
   ]
  },
  {
   "cell_type": "markdown",
   "metadata": {},
   "source": [
    "# New t2g"
   ]
  },
  {
   "cell_type": "code",
   "execution_count": 3,
   "metadata": {},
   "outputs": [],
   "source": [
    "cols = [\"transcript_id\", \"gene_id\", \"gene_name\", \"transcript_name\", \"chromosome\", \"start\", \"stop\", \"strand\"]\n",
    "t2g = pd.read_csv(\"/home/sina/projects/mop/reference/cellranger_index/refdata-cellranger-mm10-3.0.0/kb_out/t2g.txt\", sep=\"\\t\", header=None, names=cols)"
   ]
  },
  {
   "cell_type": "code",
   "execution_count": 4,
   "metadata": {},
   "outputs": [],
   "source": [
    "def swap_start(start, stop, strand):\n",
    "    new_start = start\n",
    "    new_stop = stop\n",
    "    if strand==\"-\":\n",
    "        new_start = stop\n",
    "        new_stop = start\n",
    "    return new_start, new_stop"
   ]
  },
  {
   "cell_type": "code",
   "execution_count": 5,
   "metadata": {},
   "outputs": [],
   "source": [
    "tmp = t2g.apply(lambda x: swap_start(x[\"start\"], x[\"stop\"], x[\"strand\"]), axis=1).tolist()\n",
    "t2g[[\"new_start\", \"new_stop\"]] = pd.DataFrame(tmp, columns=[\"new_start\", \"new_stop\"])"
   ]
  },
  {
   "cell_type": "markdown",
   "metadata": {},
   "source": [
    "# Group isoforms by (1) Gene and then (2) Transcripton start sites"
   ]
  },
  {
   "cell_type": "code",
   "execution_count": 6,
   "metadata": {},
   "outputs": [],
   "source": [
    "gb = t2g.groupby([\"chromosome\", \"gene_id\", \"new_start\"])[\"transcript_id\"].apply(list)\n",
    "gb = gb.reset_index()\n",
    "gb = gb.rename(columns={\"transcript_id\":\"tss_same\"})\n",
    "gb[\"n_tss_same\"] = gb[\"tss_same\"].apply(lambda x: len(x))\n",
    "num_iso_per_gene = t2g.groupby(\"gene_id\")[\"transcript_id\"].nunique()\n",
    "gb[\"n_iso\"] = gb[\"gene_id\"].map(num_iso_per_gene)\n",
    "txn_list = gb[\"tss_same\"].explode().values"
   ]
  },
  {
   "cell_type": "code",
   "execution_count": 8,
   "metadata": {},
   "outputs": [],
   "source": []
  },
  {
   "cell_type": "code",
   "execution_count": 9,
   "metadata": {},
   "outputs": [
    {
     "data": {
      "text/html": [
       "<div>\n",
       "<style scoped>\n",
       "    .dataframe tbody tr th:only-of-type {\n",
       "        vertical-align: middle;\n",
       "    }\n",
       "\n",
       "    .dataframe tbody tr th {\n",
       "        vertical-align: top;\n",
       "    }\n",
       "\n",
       "    .dataframe thead th {\n",
       "        text-align: right;\n",
       "    }\n",
       "</style>\n",
       "<table border=\"1\" class=\"dataframe\">\n",
       "  <thead>\n",
       "    <tr style=\"text-align: right;\">\n",
       "      <th></th>\n",
       "      <th>chromosome</th>\n",
       "      <th>gene_id</th>\n",
       "      <th>new_start</th>\n",
       "      <th>tss_same</th>\n",
       "      <th>n_tss_same</th>\n",
       "      <th>n_iso</th>\n",
       "    </tr>\n",
       "  </thead>\n",
       "  <tbody>\n",
       "    <tr>\n",
       "      <th>0</th>\n",
       "      <td>1</td>\n",
       "      <td>ENSMUSG00000000544.14</td>\n",
       "      <td>166130238</td>\n",
       "      <td>[ENSMUST00000060833.13]</td>\n",
       "      <td>1</td>\n",
       "      <td>4</td>\n",
       "    </tr>\n",
       "    <tr>\n",
       "      <th>1</th>\n",
       "      <td>1</td>\n",
       "      <td>ENSMUSG00000000544.14</td>\n",
       "      <td>166130340</td>\n",
       "      <td>[ENSMUST00000166159.1]</td>\n",
       "      <td>1</td>\n",
       "      <td>4</td>\n",
       "    </tr>\n",
       "    <tr>\n",
       "      <th>2</th>\n",
       "      <td>1</td>\n",
       "      <td>ENSMUSG00000000544.14</td>\n",
       "      <td>166130417</td>\n",
       "      <td>[ENSMUST00000027847.6]</td>\n",
       "      <td>1</td>\n",
       "      <td>4</td>\n",
       "    </tr>\n",
       "    <tr>\n",
       "      <th>3</th>\n",
       "      <td>1</td>\n",
       "      <td>ENSMUSG00000000544.14</td>\n",
       "      <td>166130467</td>\n",
       "      <td>[ENSMUST00000166860.1]</td>\n",
       "      <td>1</td>\n",
       "      <td>4</td>\n",
       "    </tr>\n",
       "    <tr>\n",
       "      <th>4</th>\n",
       "      <td>1</td>\n",
       "      <td>ENSMUSG00000000817.10</td>\n",
       "      <td>161788358</td>\n",
       "      <td>[ENSMUST00000193648.1]</td>\n",
       "      <td>1</td>\n",
       "      <td>2</td>\n",
       "    </tr>\n",
       "    <tr>\n",
       "      <th>...</th>\n",
       "      <td>...</td>\n",
       "      <td>...</td>\n",
       "      <td>...</td>\n",
       "      <td>...</td>\n",
       "      <td>...</td>\n",
       "      <td>...</td>\n",
       "    </tr>\n",
       "    <tr>\n",
       "      <th>102881</th>\n",
       "      <td>Y</td>\n",
       "      <td>ENSMUSG00000104500.5</td>\n",
       "      <td>24276742</td>\n",
       "      <td>[ENSMUST00000194949.5]</td>\n",
       "      <td>1</td>\n",
       "      <td>3</td>\n",
       "    </tr>\n",
       "    <tr>\n",
       "      <th>102882</th>\n",
       "      <td>Y</td>\n",
       "      <td>ENSMUSG00000104505.5</td>\n",
       "      <td>12516355</td>\n",
       "      <td>[ENSMUST00000191901.5, ENSMUST00000193731.1]</td>\n",
       "      <td>2</td>\n",
       "      <td>3</td>\n",
       "    </tr>\n",
       "    <tr>\n",
       "      <th>102883</th>\n",
       "      <td>Y</td>\n",
       "      <td>ENSMUSG00000104505.5</td>\n",
       "      <td>12516809</td>\n",
       "      <td>[ENSMUST00000191742.5]</td>\n",
       "      <td>1</td>\n",
       "      <td>3</td>\n",
       "    </tr>\n",
       "    <tr>\n",
       "      <th>102884</th>\n",
       "      <td>Y</td>\n",
       "      <td>ENSMUSG00000104506.5</td>\n",
       "      <td>19983060</td>\n",
       "      <td>[ENSMUST00000193523.5, ENSMUST00000194757.1]</td>\n",
       "      <td>2</td>\n",
       "      <td>2</td>\n",
       "    </tr>\n",
       "    <tr>\n",
       "      <th>102885</th>\n",
       "      <td>Y</td>\n",
       "      <td>ENSMUSG00000104522.5</td>\n",
       "      <td>13338145</td>\n",
       "      <td>[ENSMUST00000194145.5, ENSMUST00000193656.1]</td>\n",
       "      <td>2</td>\n",
       "      <td>2</td>\n",
       "    </tr>\n",
       "  </tbody>\n",
       "</table>\n",
       "<p>102886 rows × 6 columns</p>\n",
       "</div>"
      ],
      "text/plain": [
       "       chromosome                gene_id  new_start  \\\n",
       "0               1  ENSMUSG00000000544.14  166130238   \n",
       "1               1  ENSMUSG00000000544.14  166130340   \n",
       "2               1  ENSMUSG00000000544.14  166130417   \n",
       "3               1  ENSMUSG00000000544.14  166130467   \n",
       "4               1  ENSMUSG00000000817.10  161788358   \n",
       "...           ...                    ...        ...   \n",
       "102881          Y   ENSMUSG00000104500.5   24276742   \n",
       "102882          Y   ENSMUSG00000104505.5   12516355   \n",
       "102883          Y   ENSMUSG00000104505.5   12516809   \n",
       "102884          Y   ENSMUSG00000104506.5   19983060   \n",
       "102885          Y   ENSMUSG00000104522.5   13338145   \n",
       "\n",
       "                                            tss_same  n_tss_same  n_iso  \n",
       "0                            [ENSMUST00000060833.13]           1      4  \n",
       "1                             [ENSMUST00000166159.1]           1      4  \n",
       "2                             [ENSMUST00000027847.6]           1      4  \n",
       "3                             [ENSMUST00000166860.1]           1      4  \n",
       "4                             [ENSMUST00000193648.1]           1      2  \n",
       "...                                              ...         ...    ...  \n",
       "102881                        [ENSMUST00000194949.5]           1      3  \n",
       "102882  [ENSMUST00000191901.5, ENSMUST00000193731.1]           2      3  \n",
       "102883                        [ENSMUST00000191742.5]           1      3  \n",
       "102884  [ENSMUST00000193523.5, ENSMUST00000194757.1]           2      2  \n",
       "102885  [ENSMUST00000194145.5, ENSMUST00000193656.1]           2      2  \n",
       "\n",
       "[102886 rows x 6 columns]"
      ]
     },
     "execution_count": 9,
     "metadata": {},
     "output_type": "execute_result"
    }
   ],
   "source": [
    "gb"
   ]
  },
  {
   "cell_type": "code",
   "execution_count": 12,
   "metadata": {},
   "outputs": [],
   "source": [
    "#gb = gb.loc[gb.index.repeat(gb.n_TSS_same)].reset_index(drop=True)\n",
    "#gb[\"transcript_id\"] = txn_list"
   ]
  },
  {
   "cell_type": "markdown",
   "metadata": {},
   "source": [
    "Now GB has TSS_same which is the list of transcripts in the covering gene that have the same start site"
   ]
  },
  {
   "cell_type": "code",
   "execution_count": 15,
   "metadata": {},
   "outputs": [],
   "source": [
    "gb[\"tss_same\"] = gb.tss_same.astype(str)"
   ]
  },
  {
   "cell_type": "code",
   "execution_count": 17,
   "metadata": {},
   "outputs": [],
   "source": [
    "#gb.drop_duplicates(subset=[\"chromosome\", \"gene_id\", \"tss_same\"]).shape\n",
    "gb[\"tss_class\"] = np.arange(gb.shape[0])"
   ]
  },
  {
   "cell_type": "markdown",
   "metadata": {},
   "source": [
    "Transcripts are grouped by Chromosome -> Gene -> TSS same\n",
    "\n",
    "Want to make a matrix which is cells x tss_same\n",
    "\n",
    "Then perform t test between clusters, this tells you which TSS same mark the cluster\n",
    "\n",
    "but want to compare TSS same with just isoforms only... am missing something, ah yes, sleep!"
   ]
  },
  {
   "cell_type": "code",
   "execution_count": 19,
   "metadata": {},
   "outputs": [
    {
     "data": {
      "text/html": [
       "<div>\n",
       "<style scoped>\n",
       "    .dataframe tbody tr th:only-of-type {\n",
       "        vertical-align: middle;\n",
       "    }\n",
       "\n",
       "    .dataframe tbody tr th {\n",
       "        vertical-align: top;\n",
       "    }\n",
       "\n",
       "    .dataframe thead th {\n",
       "        text-align: right;\n",
       "    }\n",
       "</style>\n",
       "<table border=\"1\" class=\"dataframe\">\n",
       "  <thead>\n",
       "    <tr style=\"text-align: right;\">\n",
       "      <th></th>\n",
       "      <th>chromosome</th>\n",
       "      <th>gene_id</th>\n",
       "      <th>new_start</th>\n",
       "      <th>tss_same</th>\n",
       "      <th>n_tss_same</th>\n",
       "      <th>n_iso</th>\n",
       "      <th>tss_class</th>\n",
       "    </tr>\n",
       "  </thead>\n",
       "  <tbody>\n",
       "    <tr>\n",
       "      <th>0</th>\n",
       "      <td>1</td>\n",
       "      <td>ENSMUSG00000000544.14</td>\n",
       "      <td>166130238</td>\n",
       "      <td>['ENSMUST00000060833.13']</td>\n",
       "      <td>1</td>\n",
       "      <td>4</td>\n",
       "      <td>0</td>\n",
       "    </tr>\n",
       "    <tr>\n",
       "      <th>1</th>\n",
       "      <td>1</td>\n",
       "      <td>ENSMUSG00000000544.14</td>\n",
       "      <td>166130340</td>\n",
       "      <td>['ENSMUST00000166159.1']</td>\n",
       "      <td>1</td>\n",
       "      <td>4</td>\n",
       "      <td>1</td>\n",
       "    </tr>\n",
       "    <tr>\n",
       "      <th>2</th>\n",
       "      <td>1</td>\n",
       "      <td>ENSMUSG00000000544.14</td>\n",
       "      <td>166130417</td>\n",
       "      <td>['ENSMUST00000027847.6']</td>\n",
       "      <td>1</td>\n",
       "      <td>4</td>\n",
       "      <td>2</td>\n",
       "    </tr>\n",
       "    <tr>\n",
       "      <th>3</th>\n",
       "      <td>1</td>\n",
       "      <td>ENSMUSG00000000544.14</td>\n",
       "      <td>166130467</td>\n",
       "      <td>['ENSMUST00000166860.1']</td>\n",
       "      <td>1</td>\n",
       "      <td>4</td>\n",
       "      <td>3</td>\n",
       "    </tr>\n",
       "    <tr>\n",
       "      <th>4</th>\n",
       "      <td>1</td>\n",
       "      <td>ENSMUSG00000000817.10</td>\n",
       "      <td>161788358</td>\n",
       "      <td>['ENSMUST00000193648.1']</td>\n",
       "      <td>1</td>\n",
       "      <td>2</td>\n",
       "      <td>4</td>\n",
       "    </tr>\n",
       "  </tbody>\n",
       "</table>\n",
       "</div>"
      ],
      "text/plain": [
       "  chromosome                gene_id  new_start                   tss_same  \\\n",
       "0          1  ENSMUSG00000000544.14  166130238  ['ENSMUST00000060833.13']   \n",
       "1          1  ENSMUSG00000000544.14  166130340   ['ENSMUST00000166159.1']   \n",
       "2          1  ENSMUSG00000000544.14  166130417   ['ENSMUST00000027847.6']   \n",
       "3          1  ENSMUSG00000000544.14  166130467   ['ENSMUST00000166860.1']   \n",
       "4          1  ENSMUSG00000000817.10  161788358   ['ENSMUST00000193648.1']   \n",
       "\n",
       "   n_tss_same  n_iso  tss_class  \n",
       "0           1      4          0  \n",
       "1           1      4          1  \n",
       "2           1      4          2  \n",
       "3           1      4          3  \n",
       "4           1      2          4  "
      ]
     },
     "execution_count": 19,
     "metadata": {},
     "output_type": "execute_result"
    }
   ],
   "source": [
    "gb.head()"
   ]
  },
  {
   "cell_type": "markdown",
   "metadata": {},
   "source": [
    "# Now create one t2g"
   ]
  },
  {
   "cell_type": "code",
   "execution_count": 22,
   "metadata": {},
   "outputs": [],
   "source": [
    "## Conditions\n",
    "# 1. n_iso per gene > 2\n",
    "# 2. 2< n_TSS_same < n_iso\n",
    "\n",
    "mask = np.logical_and(gb[\"n_tss_same\"].values >2, np.logical_and(gb[\"n_iso\"]>2, gb[\"n_tss_same\"].values < gb[\"n_iso\"]))\n",
    "\n",
    "f = gb[mask]\n",
    "f[\"tss_same\"] = f[\"tss_same\"].apply(lambda x: ast.literal_eval(x))"
   ]
  },
  {
   "cell_type": "code",
   "execution_count": 23,
   "metadata": {},
   "outputs": [
    {
     "data": {
      "text/html": [
       "<div>\n",
       "<style scoped>\n",
       "    .dataframe tbody tr th:only-of-type {\n",
       "        vertical-align: middle;\n",
       "    }\n",
       "\n",
       "    .dataframe tbody tr th {\n",
       "        vertical-align: top;\n",
       "    }\n",
       "\n",
       "    .dataframe thead th {\n",
       "        text-align: right;\n",
       "    }\n",
       "</style>\n",
       "<table border=\"1\" class=\"dataframe\">\n",
       "  <thead>\n",
       "    <tr style=\"text-align: right;\">\n",
       "      <th></th>\n",
       "      <th>chromosome</th>\n",
       "      <th>gene_id</th>\n",
       "      <th>new_start</th>\n",
       "      <th>tss_same</th>\n",
       "      <th>n_tss_same</th>\n",
       "      <th>n_iso</th>\n",
       "      <th>tss_class</th>\n",
       "    </tr>\n",
       "  </thead>\n",
       "  <tbody>\n",
       "    <tr>\n",
       "      <th>14</th>\n",
       "      <td>1</td>\n",
       "      <td>ENSMUSG00000001143.13</td>\n",
       "      <td>36445271</td>\n",
       "      <td>[ENSMUST00000125304.7, ENSMUST00000115011.7, E...</td>\n",
       "      <td>4</td>\n",
       "      <td>8</td>\n",
       "      <td>14</td>\n",
       "    </tr>\n",
       "    <tr>\n",
       "      <th>46</th>\n",
       "      <td>1</td>\n",
       "      <td>ENSMUSG00000003458.12</td>\n",
       "      <td>172082795</td>\n",
       "      <td>[ENSMUST00000003550.10, ENSMUST00000140643.7, ...</td>\n",
       "      <td>4</td>\n",
       "      <td>6</td>\n",
       "      <td>46</td>\n",
       "    </tr>\n",
       "    <tr>\n",
       "      <th>151</th>\n",
       "      <td>1</td>\n",
       "      <td>ENSMUSG00000005763.15</td>\n",
       "      <td>165788681</td>\n",
       "      <td>[ENSMUST00000161971.7, ENSMUST00000187313.6, E...</td>\n",
       "      <td>3</td>\n",
       "      <td>9</td>\n",
       "      <td>151</td>\n",
       "    </tr>\n",
       "    <tr>\n",
       "      <th>164</th>\n",
       "      <td>1</td>\n",
       "      <td>ENSMUSG00000005886.14</td>\n",
       "      <td>13374083</td>\n",
       "      <td>[ENSMUST00000068304.12, ENSMUST00000006037.12,...</td>\n",
       "      <td>3</td>\n",
       "      <td>11</td>\n",
       "      <td>164</td>\n",
       "    </tr>\n",
       "    <tr>\n",
       "      <th>191</th>\n",
       "      <td>1</td>\n",
       "      <td>ENSMUSG00000006014.16</td>\n",
       "      <td>150465598</td>\n",
       "      <td>[ENSMUST00000006171.15, ENSMUST00000164600.7, ...</td>\n",
       "      <td>4</td>\n",
       "      <td>8</td>\n",
       "      <td>191</td>\n",
       "    </tr>\n",
       "    <tr>\n",
       "      <th>...</th>\n",
       "      <td>...</td>\n",
       "      <td>...</td>\n",
       "      <td>...</td>\n",
       "      <td>...</td>\n",
       "      <td>...</td>\n",
       "      <td>...</td>\n",
       "      <td>...</td>\n",
       "    </tr>\n",
       "    <tr>\n",
       "      <th>101094</th>\n",
       "      <td>X</td>\n",
       "      <td>ENSMUSG00000067768.12</td>\n",
       "      <td>73214349</td>\n",
       "      <td>[ENSMUST00000069077.9, ENSMUST00000124904.7, E...</td>\n",
       "      <td>3</td>\n",
       "      <td>8</td>\n",
       "      <td>101094</td>\n",
       "    </tr>\n",
       "    <tr>\n",
       "      <th>101150</th>\n",
       "      <td>X</td>\n",
       "      <td>ENSMUSG00000071753.12</td>\n",
       "      <td>61116378</td>\n",
       "      <td>[ENSMUST00000232283.1, ENSMUST00000144853.8, E...</td>\n",
       "      <td>3</td>\n",
       "      <td>11</td>\n",
       "      <td>101150</td>\n",
       "    </tr>\n",
       "    <tr>\n",
       "      <th>101151</th>\n",
       "      <td>X</td>\n",
       "      <td>ENSMUSG00000071753.12</td>\n",
       "      <td>61116386</td>\n",
       "      <td>[ENSMUST00000137153.7, ENSMUST00000140023.7, E...</td>\n",
       "      <td>5</td>\n",
       "      <td>11</td>\n",
       "      <td>101151</td>\n",
       "    </tr>\n",
       "    <tr>\n",
       "      <th>101323</th>\n",
       "      <td>X</td>\n",
       "      <td>ENSMUSG00000079481.11</td>\n",
       "      <td>101849385</td>\n",
       "      <td>[ENSMUST00000125115.1, ENSMUST00000124279.5, E...</td>\n",
       "      <td>3</td>\n",
       "      <td>7</td>\n",
       "      <td>101323</td>\n",
       "    </tr>\n",
       "    <tr>\n",
       "      <th>101543</th>\n",
       "      <td>X</td>\n",
       "      <td>ENSMUSG00000087403.9</td>\n",
       "      <td>152327495</td>\n",
       "      <td>[ENSMUST00000195280.2, ENSMUST00000148326.7, E...</td>\n",
       "      <td>3</td>\n",
       "      <td>7</td>\n",
       "      <td>101543</td>\n",
       "    </tr>\n",
       "  </tbody>\n",
       "</table>\n",
       "<p>1035 rows × 7 columns</p>\n",
       "</div>"
      ],
      "text/plain": [
       "       chromosome                gene_id  new_start  \\\n",
       "14              1  ENSMUSG00000001143.13   36445271   \n",
       "46              1  ENSMUSG00000003458.12  172082795   \n",
       "151             1  ENSMUSG00000005763.15  165788681   \n",
       "164             1  ENSMUSG00000005886.14   13374083   \n",
       "191             1  ENSMUSG00000006014.16  150465598   \n",
       "...           ...                    ...        ...   \n",
       "101094          X  ENSMUSG00000067768.12   73214349   \n",
       "101150          X  ENSMUSG00000071753.12   61116378   \n",
       "101151          X  ENSMUSG00000071753.12   61116386   \n",
       "101323          X  ENSMUSG00000079481.11  101849385   \n",
       "101543          X   ENSMUSG00000087403.9  152327495   \n",
       "\n",
       "                                                 tss_same  n_tss_same  n_iso  \\\n",
       "14      [ENSMUST00000125304.7, ENSMUST00000115011.7, E...           4      8   \n",
       "46      [ENSMUST00000003550.10, ENSMUST00000140643.7, ...           4      6   \n",
       "151     [ENSMUST00000161971.7, ENSMUST00000187313.6, E...           3      9   \n",
       "164     [ENSMUST00000068304.12, ENSMUST00000006037.12,...           3     11   \n",
       "191     [ENSMUST00000006171.15, ENSMUST00000164600.7, ...           4      8   \n",
       "...                                                   ...         ...    ...   \n",
       "101094  [ENSMUST00000069077.9, ENSMUST00000124904.7, E...           3      8   \n",
       "101150  [ENSMUST00000232283.1, ENSMUST00000144853.8, E...           3     11   \n",
       "101151  [ENSMUST00000137153.7, ENSMUST00000140023.7, E...           5     11   \n",
       "101323  [ENSMUST00000125115.1, ENSMUST00000124279.5, E...           3      7   \n",
       "101543  [ENSMUST00000195280.2, ENSMUST00000148326.7, E...           3      7   \n",
       "\n",
       "        tss_class  \n",
       "14             14  \n",
       "46             46  \n",
       "151           151  \n",
       "164           164  \n",
       "191           191  \n",
       "...           ...  \n",
       "101094     101094  \n",
       "101150     101150  \n",
       "101151     101151  \n",
       "101323     101323  \n",
       "101543     101543  \n",
       "\n",
       "[1035 rows x 7 columns]"
      ]
     },
     "execution_count": 23,
     "metadata": {},
     "output_type": "execute_result"
    }
   ],
   "source": [
    "f"
   ]
  },
  {
   "cell_type": "markdown",
   "metadata": {},
   "source": [
    "# Transcriptional Regulation (sum isoforms with same TSS)"
   ]
  },
  {
   "cell_type": "code",
   "execution_count": 24,
   "metadata": {},
   "outputs": [],
   "source": [
    "tmp = f.explode(\"tss_same\")\n",
    "tmp[\"tss_same\"] = tmp.tss_same.apply(lambda x: x.split(\".\")[0])\n",
    "tmp[\"gene_id\"] = tmp.gene_id.apply(lambda x: x.split(\".\")[0])\n",
    "tmp.index = tmp.tss_same.values"
   ]
  },
  {
   "cell_type": "code",
   "execution_count": 25,
   "metadata": {},
   "outputs": [
    {
     "data": {
      "text/html": [
       "<div>\n",
       "<style scoped>\n",
       "    .dataframe tbody tr th:only-of-type {\n",
       "        vertical-align: middle;\n",
       "    }\n",
       "\n",
       "    .dataframe tbody tr th {\n",
       "        vertical-align: top;\n",
       "    }\n",
       "\n",
       "    .dataframe thead th {\n",
       "        text-align: right;\n",
       "    }\n",
       "</style>\n",
       "<table border=\"1\" class=\"dataframe\">\n",
       "  <thead>\n",
       "    <tr style=\"text-align: right;\">\n",
       "      <th></th>\n",
       "      <th>chromosome</th>\n",
       "      <th>gene_id</th>\n",
       "      <th>new_start</th>\n",
       "      <th>tss_same</th>\n",
       "      <th>n_tss_same</th>\n",
       "      <th>n_iso</th>\n",
       "      <th>tss_class</th>\n",
       "    </tr>\n",
       "  </thead>\n",
       "  <tbody>\n",
       "    <tr>\n",
       "      <th>14</th>\n",
       "      <td>1</td>\n",
       "      <td>ENSMUSG00000001143</td>\n",
       "      <td>36445271</td>\n",
       "      <td>ENSMUST00000125304</td>\n",
       "      <td>4</td>\n",
       "      <td>8</td>\n",
       "      <td>14</td>\n",
       "    </tr>\n",
       "    <tr>\n",
       "      <th>14</th>\n",
       "      <td>1</td>\n",
       "      <td>ENSMUSG00000001143</td>\n",
       "      <td>36445271</td>\n",
       "      <td>ENSMUST00000115011</td>\n",
       "      <td>4</td>\n",
       "      <td>8</td>\n",
       "      <td>14</td>\n",
       "    </tr>\n",
       "    <tr>\n",
       "      <th>14</th>\n",
       "      <td>1</td>\n",
       "      <td>ENSMUSG00000001143</td>\n",
       "      <td>36445271</td>\n",
       "      <td>ENSMUST00000001171</td>\n",
       "      <td>4</td>\n",
       "      <td>8</td>\n",
       "      <td>14</td>\n",
       "    </tr>\n",
       "    <tr>\n",
       "      <th>14</th>\n",
       "      <td>1</td>\n",
       "      <td>ENSMUSG00000001143</td>\n",
       "      <td>36445271</td>\n",
       "      <td>ENSMUST00000123583</td>\n",
       "      <td>4</td>\n",
       "      <td>8</td>\n",
       "      <td>14</td>\n",
       "    </tr>\n",
       "    <tr>\n",
       "      <th>46</th>\n",
       "      <td>1</td>\n",
       "      <td>ENSMUSG00000003458</td>\n",
       "      <td>172082795</td>\n",
       "      <td>ENSMUST00000003550</td>\n",
       "      <td>4</td>\n",
       "      <td>6</td>\n",
       "      <td>46</td>\n",
       "    </tr>\n",
       "    <tr>\n",
       "      <th>...</th>\n",
       "      <td>...</td>\n",
       "      <td>...</td>\n",
       "      <td>...</td>\n",
       "      <td>...</td>\n",
       "      <td>...</td>\n",
       "      <td>...</td>\n",
       "      <td>...</td>\n",
       "    </tr>\n",
       "    <tr>\n",
       "      <th>101323</th>\n",
       "      <td>X</td>\n",
       "      <td>ENSMUSG00000079481</td>\n",
       "      <td>101849385</td>\n",
       "      <td>ENSMUST00000124279</td>\n",
       "      <td>3</td>\n",
       "      <td>7</td>\n",
       "      <td>101323</td>\n",
       "    </tr>\n",
       "    <tr>\n",
       "      <th>101323</th>\n",
       "      <td>X</td>\n",
       "      <td>ENSMUSG00000079481</td>\n",
       "      <td>101849385</td>\n",
       "      <td>ENSMUST00000101339</td>\n",
       "      <td>3</td>\n",
       "      <td>7</td>\n",
       "      <td>101323</td>\n",
       "    </tr>\n",
       "    <tr>\n",
       "      <th>101543</th>\n",
       "      <td>X</td>\n",
       "      <td>ENSMUSG00000087403</td>\n",
       "      <td>152327495</td>\n",
       "      <td>ENSMUST00000195280</td>\n",
       "      <td>3</td>\n",
       "      <td>7</td>\n",
       "      <td>101543</td>\n",
       "    </tr>\n",
       "    <tr>\n",
       "      <th>101543</th>\n",
       "      <td>X</td>\n",
       "      <td>ENSMUSG00000087403</td>\n",
       "      <td>152327495</td>\n",
       "      <td>ENSMUST00000148326</td>\n",
       "      <td>3</td>\n",
       "      <td>7</td>\n",
       "      <td>101543</td>\n",
       "    </tr>\n",
       "    <tr>\n",
       "      <th>101543</th>\n",
       "      <td>X</td>\n",
       "      <td>ENSMUSG00000087403</td>\n",
       "      <td>152327495</td>\n",
       "      <td>ENSMUST00000149098</td>\n",
       "      <td>3</td>\n",
       "      <td>7</td>\n",
       "      <td>101543</td>\n",
       "    </tr>\n",
       "  </tbody>\n",
       "</table>\n",
       "<p>3869 rows × 7 columns</p>\n",
       "</div>"
      ],
      "text/plain": [
       "       chromosome             gene_id  new_start            tss_same  \\\n",
       "14              1  ENSMUSG00000001143   36445271  ENSMUST00000125304   \n",
       "14              1  ENSMUSG00000001143   36445271  ENSMUST00000115011   \n",
       "14              1  ENSMUSG00000001143   36445271  ENSMUST00000001171   \n",
       "14              1  ENSMUSG00000001143   36445271  ENSMUST00000123583   \n",
       "46              1  ENSMUSG00000003458  172082795  ENSMUST00000003550   \n",
       "...           ...                 ...        ...                 ...   \n",
       "101323          X  ENSMUSG00000079481  101849385  ENSMUST00000124279   \n",
       "101323          X  ENSMUSG00000079481  101849385  ENSMUST00000101339   \n",
       "101543          X  ENSMUSG00000087403  152327495  ENSMUST00000195280   \n",
       "101543          X  ENSMUSG00000087403  152327495  ENSMUST00000148326   \n",
       "101543          X  ENSMUSG00000087403  152327495  ENSMUST00000149098   \n",
       "\n",
       "        n_tss_same  n_iso  tss_class  \n",
       "14               4      8         14  \n",
       "14               4      8         14  \n",
       "14               4      8         14  \n",
       "14               4      8         14  \n",
       "46               4      6         46  \n",
       "...            ...    ...        ...  \n",
       "101323           3      7     101323  \n",
       "101323           3      7     101323  \n",
       "101543           3      7     101543  \n",
       "101543           3      7     101543  \n",
       "101543           3      7     101543  \n",
       "\n",
       "[3869 rows x 7 columns]"
      ]
     },
     "execution_count": 25,
     "metadata": {},
     "output_type": "execute_result"
    }
   ],
   "source": [
    "tmp"
   ]
  },
  {
   "cell_type": "code",
   "execution_count": 31,
   "metadata": {},
   "outputs": [
    {
     "name": "stderr",
     "output_type": "stream",
     "text": [
      "Trying to set attribute `.var` of view, copying.\n"
     ]
    }
   ],
   "source": [
    "trans = isoform[:, isoform.var.transcript_id.isin(tmp[\"tss_same\"])]\n",
    "trans.var[\"tss_class\"] = trans.var.transcript_id.map(tmp[\"tss_class\"])"
   ]
  },
  {
   "cell_type": "code",
   "execution_count": 37,
   "metadata": {},
   "outputs": [],
   "source": [
    "def sum_tss_same(mtx, components, features):\n",
    "    \n",
    "    unique = np.unique(features)\n",
    "    nuniq = unique.shape[0]\n",
    "    ncomp = components.shape[0]\n",
    "    \n",
    "    s_mtx = np.zeros((ncomp, nuniq))\n",
    "    \n",
    "    for uidx, u in enumerate(unique):\n",
    "        mask = features == u\n",
    "        s_mtx[:,uidx] = np.asarray(mtx[:,mask].sum(axis=1)).reshape(-1)\n",
    "    \n",
    "    return s_mtx"
   ]
  },
  {
   "cell_type": "code",
   "execution_count": 46,
   "metadata": {},
   "outputs": [],
   "source": [
    "# sum the isoforms with the same start site\n",
    "features = trans.var.tss_class.values\n",
    "components = trans.obs.cell_id.values\n",
    "mtx = trans.layers[\"log1p\"].todense()\n",
    "# sum the raw counts then normalize and log?\n",
    "\n",
    "mtx = sum_tss_same(mtx, components, features)"
   ]
  },
  {
   "cell_type": "code",
   "execution_count": 62,
   "metadata": {},
   "outputs": [],
   "source": [
    "X = mtx\n",
    "obs = isoform.obs\n",
    "var = trans.var.drop_duplicates([\"gene_id\", \"tss_class\"]).iloc[\n",
    "    np.argsort(trans.var.drop_duplicates([\"gene_id\", \"tss_class\"]).tss_class)]\n",
    "stss = anndata.AnnData(X=X, obs=obs, var=var)"
   ]
  },
  {
   "cell_type": "markdown",
   "metadata": {},
   "source": [
    "# STSS is an anndata where the TSS transcripts are grouped by start site and summed"
   ]
  },
  {
   "cell_type": "code",
   "execution_count": 68,
   "metadata": {},
   "outputs": [],
   "source": [
    "import logging\n",
    "\n",
    "logger = logging.getLogger()\n",
    "logger.setLevel(logging.DEBUG)\n",
    "logging.basicConfig(format='%(asctime)s - %(message)s', datefmt='%d-%b-%y %H:%M:%S')\n",
    "\n",
    "def normalize_rows_L1(mat):\n",
    "    L1 = mat.sum(axis=1)\n",
    "    norm = mat/L1[:,None]\n",
    "    return norm\n",
    "\n",
    "def split_by_target(mat, targets, target, axis=0):\n",
    "    \"\"\"\n",
    "    Split the rows of mat by the proper assignment\n",
    "    \n",
    "    mat = ndarray\n",
    "    targets, length is equal to number of components (axis=0) or features (axis=1)\n",
    "    target is a singular element from unique(assignments/features) \n",
    "    \"\"\"\n",
    "    if axis==0 and len(targets) != mat.shape[axis]: return -1\n",
    "    if axis==1 and len(targets) != mat.shape[axis]: return -1\n",
    "        \n",
    "    mask = targets == target\n",
    "    \n",
    "    if axis==0:\n",
    "        t_mat = mat[mask]  # target matrix\n",
    "        c_mat = mat[~mask] # complement matrix\n",
    "    elif axis==1:\n",
    "        t_mat = mat[:, mask]  # target matrix\n",
    "        c_mat = mat[:, ~mask] # complement matrix\n",
    "    \n",
    "    return (t_mat, c_mat)\n",
    "\n",
    "def deSS(mtx, components, features, assignments, **kwargs):\n",
    "    nan_cutoff = kwargs.get(\"nan_cutoff\", 0)\n",
    "    corr_method = kwargs.get(\"corr_method\", \"bonferroni\")\n",
    "    \n",
    "    unique = np.unique(assignments)\n",
    "    unique_features = np.unique(features)\n",
    "    \n",
    "    nuniq = unique.shape[0]\n",
    "    nuniq_feat = unique_features.shape[0]\n",
    "    nfeat = features.shape[0]\n",
    "    \n",
    "    pval_bool = np.empty((nuniq, nuniq_feat)).astype(bool)\n",
    "    pval_bool.fill(False)\n",
    "    \n",
    "    for uidx, u in enumerate(unique):\n",
    "        logging.debug(\"{} of {} assignments: {}\".format(uidx+1, nuniq, u))\n",
    "        t_mat,c_mat = split_by_target(mtx, assignments, u)\n",
    "\n",
    "        # now iterate through the TSS classes\n",
    "        for tidx, t in enumerate(unique_features):\n",
    "            mask = features == t\n",
    "            x = t_mat[:,mask]\n",
    "            y = c_mat[:,mask]\n",
    "            \n",
    "            x = normalize_rows_L1(np.asarray(x))\n",
    "            y = normalize_rows_L1(np.asarray(y))\n",
    "            \n",
    "            all_cols_pass_nan =( (np.isnan(x).sum(axis=0)/x.shape[0])>nan_cutoff).sum() == x.shape[1] \n",
    "            \n",
    "            # perform sidak correction and \n",
    "            if all_cols_pass_nan:\n",
    "                test = ttest_ind(x,y, nan_policy=\"omit\")\n",
    "                if (test.pvalue<0.01).sum()==test.pvalue.shape[0]:\n",
    "                    pval_bool[uidx, tidx] = True\n",
    "    \n",
    "    return pval_bool"
   ]
  },
  {
   "cell_type": "code",
   "execution_count": null,
   "metadata": {},
   "outputs": [],
   "source": []
  },
  {
   "cell_type": "code",
   "execution_count": null,
   "metadata": {},
   "outputs": [],
   "source": []
  },
  {
   "cell_type": "code",
   "execution_count": 318,
   "metadata": {},
   "outputs": [],
   "source": [
    "# Once we map the transcripts to the isoform matrix, some of them were filtered? so i remove the ones with only 1 count\n",
    "mask = same.var.TSS_class.map(same.var.groupby(\"TSS_class\")[\"transcript_id\"].count())>1\n",
    "same = same[:,mask]"
   ]
  },
  {
   "cell_type": "code",
   "execution_count": 514,
   "metadata": {},
   "outputs": [],
   "source": [
    "tmp1 = same[same.obs.subclass_label == \"Vip\"]\n",
    "tmp2 = same[same.obs.subclass_label != \"Vip\"]"
   ]
  },
  {
   "cell_type": "code",
   "execution_count": 480,
   "metadata": {},
   "outputs": [
    {
     "data": {
      "text/plain": [
       "View of AnnData object with n_obs × n_vars = 4724 × 124 \n",
       "    obs: 'cluster_id', 'cluster_label', 'subclass_label', 'class_label', 'cluster_color', 'size', 'cell_id', 'cell_TPM', 'leiden', 'louvain'\n",
       "    var: 'transcript_id', 'gene_id', 'gene_name', 'transcript_name', 'gene_TPM', 'TSS_class'\n",
       "    uns: 'leiden', 'louvain', 'neighbors'\n",
       "    obsm: 'X_pca', 'X_tsne'\n",
       "    layers: 'X', 'log1p'"
      ]
     },
     "execution_count": 480,
     "metadata": {},
     "output_type": "execute_result"
    }
   ],
   "source": [
    "tmp2"
   ]
  },
  {
   "cell_type": "code",
   "execution_count": 538,
   "metadata": {},
   "outputs": [],
   "source": []
  },
  {
   "cell_type": "code",
   "execution_count": 539,
   "metadata": {},
   "outputs": [
    {
     "name": "stderr",
     "output_type": "stream",
     "text": [
      "19-Feb-20 22:07:07 - 1 of 4 assignments: L5 IT\n",
      "19-Feb-20 22:07:07 - 2 of 4 assignments: Lamp5\n",
      "19-Feb-20 22:07:07 - 3 of 4 assignments: Sst\n",
      "19-Feb-20 22:07:07 - 4 of 4 assignments: Vip\n"
     ]
    },
    {
     "name": "stdout",
     "output_type": "stream",
     "text": [
      "CPU times: user 47 ms, sys: 7.48 ms, total: 54.5 ms\n",
      "Wall time: 50.2 ms\n"
     ]
    }
   ],
   "source": [
    "%%time\n",
    "nc = 5\n",
    "nf = 10\n",
    "\n",
    "mat         = same.layers[\"log1p\"].todense()[:nc,:nf]\n",
    "components  = same.obs.cell_id.values[:nc]\n",
    "features    = same.var.TSS_class.values[:nf]\n",
    "assignments = same.obs.subclass_label.values[:nc]\n",
    "\n",
    "z = deSS(mat, components, features, assignments)"
   ]
  },
  {
   "cell_type": "code",
   "execution_count": 552,
   "metadata": {},
   "outputs": [
    {
     "name": "stderr",
     "output_type": "stream",
     "text": [
      "19-Feb-20 22:08:36 - 1 of 18 assignments: Astro\n",
      "19-Feb-20 22:08:36 - 2 of 18 assignments: Endo\n",
      "19-Feb-20 22:08:36 - 3 of 18 assignments: L2/3 IT\n",
      "19-Feb-20 22:08:36 - 4 of 18 assignments: L5 ET\n",
      "19-Feb-20 22:08:36 - 5 of 18 assignments: L5 IT\n",
      "19-Feb-20 22:08:36 - 6 of 18 assignments: L5/6 NP\n",
      "19-Feb-20 22:08:37 - 7 of 18 assignments: L6 CT\n",
      "19-Feb-20 22:08:37 - 8 of 18 assignments: L6 IT\n",
      "19-Feb-20 22:08:37 - 9 of 18 assignments: L6 IT Car3\n",
      "19-Feb-20 22:08:37 - 10 of 18 assignments: L6b\n",
      "19-Feb-20 22:08:37 - 11 of 18 assignments: Lamp5\n",
      "19-Feb-20 22:08:37 - 12 of 18 assignments: Low Quality\n",
      "19-Feb-20 22:08:37 - 13 of 18 assignments: Pvalb\n",
      "19-Feb-20 22:08:37 - 14 of 18 assignments: SMC\n",
      "19-Feb-20 22:08:37 - 15 of 18 assignments: Sncg\n",
      "19-Feb-20 22:08:37 - 16 of 18 assignments: Sst\n",
      "19-Feb-20 22:08:38 - 17 of 18 assignments: VLMC\n",
      "19-Feb-20 22:08:38 - 18 of 18 assignments: Vip\n"
     ]
    },
    {
     "name": "stdout",
     "output_type": "stream",
     "text": [
      "CPU times: user 1.8 s, sys: 11.1 ms, total: 1.82 s\n",
      "Wall time: 1.81 s\n"
     ]
    }
   ],
   "source": [
    "%%time\n",
    "\n",
    "mat         = same.layers[\"log1p\"].todense()\n",
    "components  = same.obs.cell_id.values\n",
    "features    = same.var.TSS_class.values\n",
    "assignments = same.obs.subclass_label.values\n",
    "\n",
    "unique_features = np.unique(features)\n",
    "\n",
    "z = deSS(mat, components, features, assignments, nan_cutoff=0.5)"
   ]
  },
  {
   "cell_type": "code",
   "execution_count": 581,
   "metadata": {},
   "outputs": [
    {
     "data": {
      "text/plain": [
       "array([41428])"
      ]
     },
     "execution_count": 581,
     "metadata": {},
     "output_type": "execute_result"
    }
   ],
   "source": [
    "unique_features[z[-6]]"
   ]
  },
  {
   "cell_type": "code",
   "execution_count": 582,
   "metadata": {},
   "outputs": [],
   "source": [
    "interesting = 41428"
   ]
  },
  {
   "cell_type": "code",
   "execution_count": 589,
   "metadata": {},
   "outputs": [
    {
     "data": {
      "text/html": [
       "<div>\n",
       "<style scoped>\n",
       "    .dataframe tbody tr th:only-of-type {\n",
       "        vertical-align: middle;\n",
       "    }\n",
       "\n",
       "    .dataframe tbody tr th {\n",
       "        vertical-align: top;\n",
       "    }\n",
       "\n",
       "    .dataframe thead th {\n",
       "        text-align: right;\n",
       "    }\n",
       "</style>\n",
       "<table border=\"1\" class=\"dataframe\">\n",
       "  <thead>\n",
       "    <tr style=\"text-align: right;\">\n",
       "      <th></th>\n",
       "      <th>chromosome</th>\n",
       "      <th>gene_id</th>\n",
       "      <th>new_start</th>\n",
       "      <th>TSS_same</th>\n",
       "      <th>n_TSS_same</th>\n",
       "      <th>transcript_id</th>\n",
       "      <th>tss_class</th>\n",
       "      <th>n_iso</th>\n",
       "    </tr>\n",
       "  </thead>\n",
       "  <tbody>\n",
       "    <tr>\n",
       "      <th>44668</th>\n",
       "      <td>17</td>\n",
       "      <td>ENSMUSG00000090417.3</td>\n",
       "      <td>18277756</td>\n",
       "      <td>[ENSMUST00000231815.1, ENSMUST00000172190.3, E...</td>\n",
       "      <td>4</td>\n",
       "      <td>ENSMUST00000231815.1</td>\n",
       "      <td>41428</td>\n",
       "      <td>4</td>\n",
       "    </tr>\n",
       "  </tbody>\n",
       "</table>\n",
       "</div>"
      ],
      "text/plain": [
       "      chromosome               gene_id  new_start  \\\n",
       "44668         17  ENSMUSG00000090417.3   18277756   \n",
       "\n",
       "                                                TSS_same  n_TSS_same  \\\n",
       "44668  [ENSMUST00000231815.1, ENSMUST00000172190.3, E...           4   \n",
       "\n",
       "              transcript_id  tss_class  n_iso  \n",
       "44668  ENSMUST00000231815.1      41428      4  "
      ]
     },
     "execution_count": 589,
     "metadata": {},
     "output_type": "execute_result"
    }
   ],
   "source": [
    "same_t2g[same_t2g[\"tss_class\"] == 41428]"
   ]
  },
  {
   "cell_type": "code",
   "execution_count": 583,
   "metadata": {},
   "outputs": [
    {
     "data": {
      "text/html": [
       "<div>\n",
       "<style scoped>\n",
       "    .dataframe tbody tr th:only-of-type {\n",
       "        vertical-align: middle;\n",
       "    }\n",
       "\n",
       "    .dataframe tbody tr th {\n",
       "        vertical-align: top;\n",
       "    }\n",
       "\n",
       "    .dataframe thead th {\n",
       "        text-align: right;\n",
       "    }\n",
       "</style>\n",
       "<table border=\"1\" class=\"dataframe\">\n",
       "  <thead>\n",
       "    <tr style=\"text-align: right;\">\n",
       "      <th></th>\n",
       "      <th>transcript_id</th>\n",
       "      <th>gene_id</th>\n",
       "      <th>gene_name</th>\n",
       "      <th>transcript_name</th>\n",
       "      <th>gene_TPM</th>\n",
       "      <th>TSS_class</th>\n",
       "    </tr>\n",
       "  </thead>\n",
       "  <tbody>\n",
       "    <tr>\n",
       "      <th>81241</th>\n",
       "      <td>ENSMUST00000231815</td>\n",
       "      <td>ENSMUSG00000090417</td>\n",
       "      <td>Vmn2r94</td>\n",
       "      <td>Vmn2r94-204</td>\n",
       "      <td>8634.106445</td>\n",
       "      <td>41428</td>\n",
       "    </tr>\n",
       "    <tr>\n",
       "      <th>81242</th>\n",
       "      <td>ENSMUST00000231390</td>\n",
       "      <td>ENSMUSG00000090417</td>\n",
       "      <td>Vmn2r94</td>\n",
       "      <td>Vmn2r94-202</td>\n",
       "      <td>6814.746094</td>\n",
       "      <td>41428</td>\n",
       "    </tr>\n",
       "  </tbody>\n",
       "</table>\n",
       "</div>"
      ],
      "text/plain": [
       "            transcript_id             gene_id gene_name transcript_name  \\\n",
       "81241  ENSMUST00000231815  ENSMUSG00000090417   Vmn2r94     Vmn2r94-204   \n",
       "81242  ENSMUST00000231390  ENSMUSG00000090417   Vmn2r94     Vmn2r94-202   \n",
       "\n",
       "          gene_TPM  TSS_class  \n",
       "81241  8634.106445      41428  \n",
       "81242  6814.746094      41428  "
      ]
     },
     "execution_count": 583,
     "metadata": {},
     "output_type": "execute_result"
    }
   ],
   "source": [
    "same.var[same.var.TSS_class==interesting]"
   ]
  },
  {
   "cell_type": "code",
   "execution_count": 584,
   "metadata": {},
   "outputs": [],
   "source": [
    "u = interesting\n",
    "\n",
    "a = np.asarray(tmp1[:,tmp1.var.TSS_class == u].layers[\"log1p\"].todense())\n",
    "b = np.asarray(tmp2[:,tmp2.var.TSS_class == u].layers[\"log1p\"].todense())\n",
    "\n",
    "y = normalize_rows_L1(a)\n",
    "yy = normalize_rows_L1(b)\n",
    "\n",
    "y = y[~np.isnan(y[:,0])]\n",
    "yy = yy[~np.isnan(yy[:,0])]\n",
    "\n",
    "yerr = sem(y, axis=0)\n",
    "yyerr = sem(yy, axis=0)\n",
    "\n",
    "y = y.mean(axis=0)\n",
    "yy = yy.mean(axis=0)"
   ]
  },
  {
   "cell_type": "code",
   "execution_count": 586,
   "metadata": {},
   "outputs": [
    {
     "name": "stderr",
     "output_type": "stream",
     "text": [
      "19-Feb-20 22:11:53 - update_title_pos\n",
      "19-Feb-20 22:11:53 - update_title_pos\n",
      "19-Feb-20 22:11:53 - update_title_pos\n",
      "19-Feb-20 22:11:53 - update_title_pos\n",
      "19-Feb-20 22:11:53 - update_title_pos\n"
     ]
    },
    {
     "data": {
      "image/png": "[encoded data removed]",
      "text/plain": [
       "<Figure size 432x288 with 1 Axes>"
      ]
     },
     "metadata": {
      "image/png": {
       "height": 259,
       "width": 403
      },
      "needs_background": "light"
     },
     "output_type": "display_data"
    }
   ],
   "source": [
    "fig, ax = plt.subplots(1, 1, tight_layout=True)\n",
    "\n",
    "labels = [\"T1\", \"T2\"]#, \"T3\"]\n",
    "\n",
    "x = np.arange(len(labels))  # the label locations\n",
    "\n",
    "width = 0.35  # the width of the bars\n",
    "\n",
    "r1 = ax.bar(x - width/2, y, width, label='Cluster')\n",
    "r2 = ax.bar(x + width/2, yy, width, label='!Cluster')\n",
    "ax.errorbar(x- width/2, y, yerr=yerr, fmt='.k');\n",
    "ax.errorbar(x+ width/2, yy, yerr=yyerr, fmt='.k');\n",
    "\n",
    "ax.set_xticks(x)\n",
    "ax.set_xticklabels(labels)\n",
    "ax.set_ylim(0,1)\n",
    "\n",
    "plt.show()"
   ]
  },
  {
   "cell_type": "code",
   "execution_count": null,
   "metadata": {},
   "outputs": [],
   "source": []
  },
  {
   "cell_type": "code",
   "execution_count": null,
   "metadata": {},
   "outputs": [],
   "source": []
  }
 ],
 "metadata": {
  "kernelspec": {
   "display_name": "Python 3",
   "language": "python",
   "name": "python3"
  },
  "language_info": {
   "codemirror_mode": {
    "name": "ipython",
    "version": 3
   },
   "file_extension": ".py",
   "mimetype": "text/x-python",
   "name": "python",
   "nbconvert_exporter": "python",
   "pygments_lexer": "ipython3",
   "version": "3.7.4"
  }
 },
 "nbformat": 4,
 "nbformat_minor": 4
}
